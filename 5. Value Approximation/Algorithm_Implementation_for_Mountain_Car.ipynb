{
 "cells": [
  {
   "cell_type": "markdown",
   "metadata": {
    "colab_type": "text",
    "id": "VlIi9zvaGgOb"
   },
   "source": [
    "# The Mountain Car Problem"
   ]
  },
  {
   "cell_type": "code",
   "execution_count": 1,
   "metadata": {
    "cellView": "form",
    "colab": {
     "base_uri": "https://localhost:8080/",
     "height": 34
    },
    "colab_type": "code",
    "id": "AEQzqJAxTsx8",
    "outputId": "95d0a22b-6820-4107-b09f-16aa961d7105"
   },
   "outputs": [],
   "source": [
    "# #@title Install dependencies\n",
    "\n",
    "# #remove \" > /dev/null 2>&1\" to see what is going on under the hood\n",
    "# !pip install gym pyvirtualdisplay > /dev/null 2>&1\n",
    "# !apt-get install -y xvfb python-opengl ffmpeg > /dev/null 2>&1\n",
    "\n",
    "# !apt-get update > /dev/null 2>&1\n",
    "# !apt-get install cmake > /dev/null 2>&1\n",
    "# !pip install --upgrade setuptools 2>&1\n",
    "# !pip install ez_setup > /dev/null 2>&1\n",
    "# # !pip install gym[atari] > /dev/null 2>&1"
   ]
  },
  {
   "cell_type": "code",
   "execution_count": 2,
   "metadata": {
    "cellView": "form",
    "colab": {
     "base_uri": "https://localhost:8080/",
     "height": 34
    },
    "colab_type": "code",
    "id": "fikIm_8ZGzci",
    "outputId": "1c87bb16-247d-4260-9bac-c384ce1d5a71"
   },
   "outputs": [],
   "source": [
    "#@title Wrapper function for openai gym rendering\n",
    "import sys\n",
    "import gym\n",
    "import matplotlib\n",
    "import matplotlib.pyplot as plt\n",
    "import glob\n",
    "import io\n",
    "import base64\n",
    "\n",
    "from gym import logger as gymlogger\n",
    "from gym.wrappers import Monitor\n",
    "from IPython.display import HTML\n",
    "from IPython import display as ipythondisplay\n",
    "from pyvirtualdisplay import Display\n",
    "\n",
    "# %matplotlib inline\n",
    "# gymlogger.set_level(40) #error only\n",
    "# display = Display(visible=0, size=(1400, 900))\n",
    "# display.start()\n",
    "\n",
    "# \"\"\"\n",
    "# Utility functions to enable video recording of gym environment and displaying it\n",
    "# To enable video, just do \"env = wrap_env(env)\"\"\n",
    "# \"\"\"\n",
    "\n",
    "# # def show_video():\n",
    "# #   mp4list = glob.glob('video/*.mp4')\n",
    "# #   if len(mp4list) > 0:\n",
    "# #     mp4 = mp4list[0]\n",
    "# #     video = io.open(mp4, 'r+b').read()\n",
    "# #     encoded = base64.b64encode(video)\n",
    "# #     ipythondisplay.display(HTML(data='''<video alt=\"test\" autoplay \n",
    "# #                 loop controls style=\"height: 400px;\">\n",
    "# #                 <source src=\"data:video/mp4;base64,{0}\" type=\"video/mp4\" />\n",
    "# #              </video>'''.format(encoded.decode('ascii'))))\n",
    "# #   else: \n",
    "# #     print(\"Could not find video\")\n",
    "    \n",
    "\n",
    "# # def wrap_env(env):\n",
    "# #   env = Monitor(env, './video', force=True)\n",
    "# #   return env"
   ]
  },
  {
   "cell_type": "code",
   "execution_count": 3,
   "metadata": {
    "colab": {},
    "colab_type": "code",
    "id": "pwreBxpKNTgr"
   },
   "outputs": [],
   "source": [
    "# !rm -rf ./video/*"
   ]
  },
  {
   "cell_type": "markdown",
   "metadata": {
    "colab_type": "text",
    "id": "EXmYHUjZIbR5"
   },
   "source": [
    "# The mountain car problem\n",
    "\n",
    "Consider the task of driving an underpowered car up a steep mountain road. The difficulty is that gravity is stronger than the car's engine, and even at full throttle the car cannot accelerate up the steep slope. The only solution is to first move away the goal and up the opposite slope on the left. Then, by applying full throttle the car can build up enough inertia to carry it up the steep slope, even though it is slowing down the whole way. \n",
    "\n",
    "The reward in this problem is -1 on all time steps until the car moves past its goal position at the top of the mountain, which ends the episode. \n",
    "\n",
    "At each time step, there are three possible actions:\n",
    "1. Full throttle forward (+1)\n",
    "2. Full throttle reverse (-1)\n",
    "3. Zero throttle\n",
    "\n",
    "The car moves according to a simplified physics. Its position, $x_t$, and velocity $\\dot{x_t}$, are updated by\n",
    "\\begin{equation}\n",
    "\\begin{split}\n",
    "x_{t+1} & = bound [x_{t} + \\dot x_{t+1}]\\\\\n",
    "\\dot{x}_{t+1} & = bound[\\dot{x}_t + 0.001A_t - 0.0025 \\cos(3x_t)]\n",
    "\\end{split}\n",
    "\\end{equation}\n",
    "where the $bound$ operation enforces $-1.2 \\leq x_{t+1} \\leq 0.5$ and $-0.07 \\leq \\dot{x}_{t+1} \\leq 0.07$\n",
    "\n",
    "Code reference:\n",
    "https://github.com/udacity/deep-reinforcement-learning/blob/master/discretization/Discretization.ipynb"
   ]
  },
  {
   "cell_type": "code",
   "execution_count": 8,
   "metadata": {
    "colab": {},
    "colab_type": "code",
    "id": "g2We_TQZIBBm"
   },
   "outputs": [],
   "source": [
    "env = gym.make(\"MountainCar-v0\")"
   ]
  },
  {
   "cell_type": "code",
   "execution_count": 9,
   "metadata": {
    "colab": {
     "base_uri": "https://localhost:8080/",
     "height": 51
    },
    "colab_type": "code",
    "id": "ygrv7UkRIchs",
    "outputId": "4cad0b85-32d5-459b-bf4e-077c566b7f39"
   },
   "outputs": [
    {
     "name": "stdout",
     "output_type": "stream",
     "text": [
      "Observation space: Box(2,)\n",
      "Action space: Discrete(3)\n"
     ]
    }
   ],
   "source": [
    "print(\"Observation space: %s\" % env.observation_space)\n",
    "print(\"Action space: %s\" % env.action_space)"
   ]
  },
  {
   "cell_type": "code",
   "execution_count": 10,
   "metadata": {
    "colab": {},
    "colab_type": "code",
    "id": "ThbItd_3L6qE"
   },
   "outputs": [],
   "source": [
    "GLOBAL_STEP = env.env.spec.max_episode_steps\n",
    "SCORE_REQUIREMENT = -198\n",
    "NUM_EPISODES = 10000"
   ]
  },
  {
   "cell_type": "code",
   "execution_count": 11,
   "metadata": {
    "colab": {
     "base_uri": "https://localhost:8080/",
     "height": 34
    },
    "colab_type": "code",
    "id": "B_Lur1eghoID",
    "outputId": "a9245a02-6ffd-48bc-a910-3718a8575079"
   },
   "outputs": [
    {
     "name": "stdout",
     "output_type": "stream",
     "text": [
      "200\n"
     ]
    }
   ],
   "source": [
    "print(GLOBAL_STEP)"
   ]
  },
  {
   "cell_type": "markdown",
   "metadata": {
    "colab_type": "text",
    "id": "xEJ_2DXzMLpw"
   },
   "source": [
    "#### Play a random small game"
   ]
  },
  {
   "cell_type": "code",
   "execution_count": null,
   "metadata": {
    "colab": {},
    "colab_type": "code",
    "id": "NgSvCGOe_hqj"
   },
   "outputs": [],
   "source": [
    "observation = env.reset()"
   ]
  },
  {
   "cell_type": "code",
   "execution_count": null,
   "metadata": {
    "colab": {},
    "colab_type": "code",
    "id": "J-OG-ujZ_kV7"
   },
   "outputs": [],
   "source": [
    "action = env.action_space.sample()"
   ]
  },
  {
   "cell_type": "code",
   "execution_count": null,
   "metadata": {
    "colab": {
     "base_uri": "https://localhost:8080/",
     "height": 34
    },
    "colab_type": "code",
    "id": "3i2Baks9_mQo",
    "outputId": "fc5ba2fc-6d63-4e66-a544-8b9aa9b59438"
   },
   "outputs": [],
   "source": [
    "env.step(action)"
   ]
  },
  {
   "cell_type": "code",
   "execution_count": null,
   "metadata": {
    "colab": {
     "base_uri": "https://localhost:8080/",
     "height": 3821
    },
    "colab_type": "code",
    "id": "PeE7nDG-JdJx",
    "outputId": "102cf96e-9107-49d1-dbb8-afc163e34870"
   },
   "outputs": [],
   "source": [
    "observation = env.reset()\n",
    "\n",
    "for i in range(GLOBAL_STEP):\n",
    "  \n",
    "    env.render()\n",
    "    \n",
    "    #your agent goes here\n",
    "    action = env.action_space.sample() \n",
    "    observation, reward, done, info = env.step(action) \n",
    "    \n",
    "#     print(\"Observation: %s\" % observation)\n",
    "#     print(\"Reward: %s\" % reward)\n",
    "#     print(\"Done: %s\" % done)\n",
    "#     print(\"Info: %s\" % info)\n",
    "        \n",
    "    if done: \n",
    "      break\n",
    "            \n",
    "env.close()\n",
    "# show_video()"
   ]
  },
  {
   "cell_type": "markdown",
   "metadata": {
    "colab_type": "text",
    "id": "q_wU7OfcdzOR"
   },
   "source": [
    "## Discretise the state space with a uniform grid\n",
    "\n",
    "The mountain car moves in a continuous space. Before we can do the learning, we have to discretise the space. The way that we are discretising the space is by using a uniformly-spaced grid. \n",
    "\n",
    "First, we have to know what is the lower bounds and the upper bounds to decide the bins. "
   ]
  },
  {
   "cell_type": "markdown",
   "metadata": {
    "colab_type": "text",
    "id": "3uGBWK6O7u4e"
   },
   "source": [
    "### Approximation by Discretisation"
   ]
  },
  {
   "cell_type": "code",
   "execution_count": 12,
   "metadata": {
    "colab": {
     "base_uri": "https://localhost:8080/",
     "height": 68
    },
    "colab_type": "code",
    "id": "X29ggXgCfHva",
    "outputId": "c912bb75-d347-44c6-c499-47e8a50b0a03"
   },
   "outputs": [
    {
     "name": "stdout",
     "output_type": "stream",
     "text": [
      "State space:  Box(2,)\n",
      "- low:  [-1.2  -0.07]\n",
      "- high:  [0.6  0.07]\n"
     ]
    }
   ],
   "source": [
    "print(\"State space: \", env.observation_space)\n",
    "print(\"- low: \", env.observation_space.low)\n",
    "print(\"- high: \", env.observation_space.high)"
   ]
  },
  {
   "cell_type": "markdown",
   "metadata": {
    "colab_type": "text",
    "id": "O3Edf_zaggMn"
   },
   "source": [
    "The lower bounds and the upper bounds are represented by x,y coordinates. Thus, we can know the full grid would be with bottom-left coordinate [-1.2, -0.07] and top-right coordinate [0.6, 0.07]. Thus, we can split the grid uniformly, if using bins(10,10), to []"
   ]
  },
  {
   "cell_type": "code",
   "execution_count": 13,
   "metadata": {
    "colab": {},
    "colab_type": "code",
    "id": "BfiIHvldg9OD"
   },
   "outputs": [],
   "source": [
    "import numpy as np"
   ]
  },
  {
   "cell_type": "code",
   "execution_count": 14,
   "metadata": {
    "colab": {},
    "colab_type": "code",
    "id": "s2vH12KSoV0P"
   },
   "outputs": [],
   "source": [
    "def create_uniform_grid(low_bound, high_bound, bins=(10,10)):\n",
    "    \"\"\"\n",
    "    Define a uniformly-spaced grid that can be used to discretise a space\n",
    "    \n",
    "    Args:\n",
    "        low (array-like): Lower bounds\n",
    "        high (array-like): Upper bounds\n",
    "        bins (tuple)\n",
    "    \"\"\"\n",
    "    \n",
    "    assert len(low_bound) == len(high_bound) == len(bins)\n",
    "    \n",
    "    grid = [np.linspace(low_bound[d], high_bound[d], bins[d] + 1)[1:-1] for d in range(len(bins))]\n",
    "    \n",
    "    print(\"Uniform grid: [low, high] / bins => Splits\")\n",
    "    for l, h, b, splits in zip(low_bound, high_bound, bins, grid):\n",
    "        print(\"\\t [%s, %s] / %s => %s\" % (l, h, b, splits))\n",
    "    \n",
    "    return grid"
   ]
  },
  {
   "cell_type": "code",
   "execution_count": 15,
   "metadata": {
    "colab": {
     "base_uri": "https://localhost:8080/",
     "height": 68
    },
    "colab_type": "code",
    "id": "hgp6zkoOqOvR",
    "outputId": "dbeaebc8-7665-4a98-d95d-d30a526e5989"
   },
   "outputs": [
    {
     "name": "stdout",
     "output_type": "stream",
     "text": [
      "Uniform grid: [low, high] / bins => Splits\n",
      "\t [-1.0, 1.0] / 10 => [-0.8 -0.6 -0.4 -0.2  0.   0.2  0.4  0.6  0.8]\n",
      "\t [-5.0, 5.0] / 10 => [-4. -3. -2. -1.  0.  1.  2.  3.  4.]\n"
     ]
    }
   ],
   "source": [
    "low = [-1.0, -5.0]\n",
    "high = [1.0, 5.0]\n",
    "grid = create_uniform_grid(low_bound=low, high_bound=high)"
   ]
  },
  {
   "cell_type": "code",
   "execution_count": 16,
   "metadata": {
    "colab": {},
    "colab_type": "code",
    "id": "GrhINLdLwtPJ"
   },
   "outputs": [],
   "source": [
    "def discretize(sample, grid):\n",
    "    \"\"\"\n",
    "    Transform a x-y position to a discretised ID\n",
    "    e.g.\n",
    "    [-1.0 , -5.0] => [0, 0]\n",
    "    \n",
    "    Args:\n",
    "        sample (array-like): \n",
    "            A single sample from the original continuous space\n",
    "        grid (array-like):\n",
    "            A list of arrays representing the grid\n",
    "            \n",
    "    Return:\n",
    "        discretised_sample (array-like)\n",
    "    \"\"\"\n",
    "    \n",
    "    return list((np.digitize(s, g) for s, g in zip(sample, grid)))"
   ]
  },
  {
   "cell_type": "code",
   "execution_count": 17,
   "metadata": {
    "colab": {},
    "colab_type": "code",
    "id": "PrsvSqCS8M73"
   },
   "outputs": [],
   "source": [
    "samples = np.array(\n",
    "    [[-1.0 , -5.0],\n",
    "     [-0.81, -4.1],\n",
    "     [-0.8 , -4.0],\n",
    "     [-0.5 ,  0.0],\n",
    "     [ 0.2 , -1.9],\n",
    "     [ 0.8 ,  4.0],\n",
    "     [ 0.81,  4.1],\n",
    "     [ 1.0 ,  5.0]])"
   ]
  },
  {
   "cell_type": "code",
   "execution_count": 18,
   "metadata": {
    "colab": {},
    "colab_type": "code",
    "id": "84zmIMwO8tOo"
   },
   "outputs": [],
   "source": [
    "discretized_samples = np.array([discretize(s, grid) for s in samples])"
   ]
  },
  {
   "cell_type": "code",
   "execution_count": 19,
   "metadata": {
    "colab": {
     "base_uri": "https://localhost:8080/",
     "height": 153
    },
    "colab_type": "code",
    "id": "baXeZPXNwB0L",
    "outputId": "c1825702-a224-4287-c236-17ebf5aa53b7"
   },
   "outputs": [
    {
     "data": {
      "text/plain": [
       "array([[0, 0],\n",
       "       [0, 0],\n",
       "       [1, 1],\n",
       "       [2, 5],\n",
       "       [5, 3],\n",
       "       [9, 9],\n",
       "       [9, 9],\n",
       "       [9, 9]])"
      ]
     },
     "execution_count": 19,
     "metadata": {},
     "output_type": "execute_result"
    }
   ],
   "source": [
    "discretized_samples"
   ]
  },
  {
   "cell_type": "markdown",
   "metadata": {
    "colab_type": "text",
    "id": "K_AsiMXeVAEz"
   },
   "source": [
    "## Visualisation of the original sample space and the discretized sample space"
   ]
  },
  {
   "cell_type": "code",
   "execution_count": 20,
   "metadata": {
    "colab": {},
    "colab_type": "code",
    "id": "CZntk5J0U_iH"
   },
   "outputs": [],
   "source": [
    "import matplotlib.pyplot as plt\n",
    "import matplotlib.collections as mc"
   ]
  },
  {
   "cell_type": "code",
   "execution_count": 21,
   "metadata": {
    "colab": {},
    "colab_type": "code",
    "id": "xlNCzCVTWK7v"
   },
   "outputs": [],
   "source": [
    "def visualise_samples(samples, discretized_samples, grid,\n",
    "                      low=None, high=None):\n",
    "\n",
    "    # Using the oop approach, create a figure and axes\n",
    "    fig, ax = plt.subplots(figsize=(10, 8))\n",
    "\n",
    "    # Show grid\n",
    "    ax.xaxis.set_major_locator(plt.FixedLocator(grid[0]))\n",
    "    ax.yaxis.set_major_locator(plt.FixedLocator(grid[1]))\n",
    "    ax.grid(True)\n",
    "\n",
    "    if low is not None and high is not None:\n",
    "        ax.set_xlim(low[0], high[0])\n",
    "        ax.set_ylim(low[1], high[1])\n",
    "    else:\n",
    "        # If not specify, use the last grid locations as low high\n",
    "        low = [split[0] for splits in grid]\n",
    "        high = [split[-1] for splits in grid]\n",
    "        ax.set_xlim(low[0], high[0])\n",
    "        ax.set_ylim(low[1], high[1])\n",
    "\n",
    "    # Map each discretized sample (which is really an index) to the center of corresponding grid cell\n",
    "    grid_extended = np.hstack((np.array([low]).T, grid, np.array([high]).T))  # add low and high ends\n",
    "    grid_centers = (grid_extended[:, 1:] + grid_extended[:, :-1]) / 2  # compute center of each grid cell\n",
    "    locs = np.stack(grid_centers[i, discretized_samples[:, i]] for i in range(len(grid))).T  # map discretized samples\n",
    "\n",
    "    # Plot the original samples\n",
    "    ax.plot(samples[:, 0], samples[:, 1], 'o', color='red')\n",
    "\n",
    "    # Plot the discretized samples\n",
    "    ax.plot(locs[:, 0], locs[:, 1], 's', color='blue')\n",
    "\n",
    "    # Add a line connecting each original-discretized sample\n",
    "    ax.add_collection(mc.LineCollection(list(zip(samples, locs)), colors='orange'))\n",
    "\n",
    "    ax.legend(['original', 'discretized'])"
   ]
  },
  {
   "cell_type": "code",
   "execution_count": 22,
   "metadata": {
    "colab": {
     "base_uri": "https://localhost:8080/",
     "height": 523
    },
    "colab_type": "code",
    "id": "UCstYCqvxdA1",
    "outputId": "18406d55-ddc1-4838-a2ee-0143b9963f41"
   },
   "outputs": [
    {
     "data": {
      "image/png": "[encoded data removed]",
      "text/plain": [
       "<Figure size 720x576 with 1 Axes>"
      ]
     },
     "metadata": {},
     "output_type": "display_data"
    }
   ],
   "source": [
    "visualise_samples(samples, discretized_samples, grid,\n",
    "                  low, high)"
   ]
  },
  {
   "cell_type": "markdown",
   "metadata": {
    "colab_type": "text",
    "id": "Cv6tZ5AOxrhI"
   },
   "source": [
    "The methods are ready. Now, we can apply it to our reinforcement learning environment."
   ]
  },
  {
   "cell_type": "code",
   "execution_count": 23,
   "metadata": {
    "colab": {},
    "colab_type": "code",
    "id": "Hx6mGYFqydXQ"
   },
   "outputs": [],
   "source": [
    "low = env.observation_space.low\n",
    "high = env.observation_space.high"
   ]
  },
  {
   "cell_type": "code",
   "execution_count": 24,
   "metadata": {
    "colab": {
     "base_uri": "https://localhost:8080/",
     "height": 85
    },
    "colab_type": "code",
    "id": "w_XLJaJ9ySgW",
    "outputId": "55ca6b30-d827-489e-f385-b35627d48a1c"
   },
   "outputs": [
    {
     "name": "stdout",
     "output_type": "stream",
     "text": [
      "Uniform grid: [low, high] / bins => Splits\n",
      "\t [-1.2, 0.6] / 10 => [-1.02000004 -0.84000003 -0.66000003 -0.48000002 -0.30000001 -0.12\n",
      "  0.06        0.24000001  0.42000002]\n",
      "\t [-0.07, 0.07] / 10 => [-0.056 -0.042 -0.028 -0.014  0.     0.014  0.028  0.042  0.056]\n"
     ]
    }
   ],
   "source": [
    "# Create uniform grid for the environment\n",
    "grid = create_uniform_grid(low, high)"
   ]
  },
  {
   "cell_type": "code",
   "execution_count": 25,
   "metadata": {
    "colab": {},
    "colab_type": "code",
    "id": "SWsAK3bDzdds"
   },
   "outputs": [],
   "source": [
    "states_samples = np.array([env.observation_space.sample() for i in range(10)])"
   ]
  },
  {
   "cell_type": "code",
   "execution_count": 26,
   "metadata": {
    "colab": {},
    "colab_type": "code",
    "id": "A-Yub7DE0Pac"
   },
   "outputs": [],
   "source": [
    "discretized_states_samples = np.array([discretize(s, grid) for s in states_samples])"
   ]
  },
  {
   "cell_type": "code",
   "execution_count": 27,
   "metadata": {
    "colab": {
     "base_uri": "https://localhost:8080/",
     "height": 34
    },
    "colab_type": "code",
    "id": "-qlQW7OtuWgv",
    "outputId": "ad82fc36-bb1f-48ec-d7eb-332cf29056f7"
   },
   "outputs": [
    {
     "data": {
      "text/plain": [
       "[array(8), array(0)]"
      ]
     },
     "execution_count": 27,
     "metadata": {},
     "output_type": "execute_result"
    }
   ],
   "source": [
    "discretize([0.4, -0.6], grid)"
   ]
  },
  {
   "cell_type": "code",
   "execution_count": 28,
   "metadata": {
    "colab": {
     "base_uri": "https://localhost:8080/",
     "height": 523
    },
    "colab_type": "code",
    "id": "cdSlktqz0khF",
    "outputId": "75a5fd5e-25d8-4f5b-9443-ad31bf64f9e0"
   },
   "outputs": [
    {
     "data": {
      "image/png": "[encoded data removed]",
      "text/plain": [
       "<Figure size 720x576 with 1 Axes>"
      ]
     },
     "metadata": {},
     "output_type": "display_data"
    }
   ],
   "source": [
    "visualise_samples(states_samples, discretized_states_samples, grid,\n",
    "                  low, high)"
   ]
  },
  {
   "cell_type": "markdown",
   "metadata": {
    "colab_type": "text",
    "id": "O8vxfyWmDxXl"
   },
   "source": [
    "### 2. SARSA(0) Methods\n",
    "\n",
    "### Pseudo code of SARSA\n",
    "---\n",
    "```\n",
    "Initialise Q(s,a) for all s in S, a in A(s), arbitrarily, and Q(T,.)=0\n",
    "Loop for each episode:\n",
    "    Initialise S\n",
    "    Choose A from S using policy derived from Q (e.g. esp-greedy)\n",
    "    Loop for each step of episode:\n",
    "        Take action A, observe R, S'\n",
    "        Choose A' from S' using policy derived from Q (e.g. esp-greedy)\n",
    "        Q(St,At) = Q(St,At) + alpha * (R + gamma * Q(St+1, At+1) - Q(St, At))\n",
    "        St = St+1; At = At+1\n",
    "        Until S is terminal\n",
    "```\n",
    "---\n",
    "\n",
    "### How SARSA converge?\n",
    "\n",
    "#### Theorem\n",
    "> SARSA converges to the optimal action-value function, $Q(s,a) \\to q_*(s,a)$, under the folowing conditions:\n",
    " 1. GLIE sequence of policies $\\pi_t(a|s)$\n",
    " 2. Robbins-Monro sequence of step-sizes $\\alpha_t$\n",
    "    - $\\sum_{t=1}^{\\infty} \\alpha_t = \\infty$\n",
    "   - $\\sum_{t=1}^{\\infty} \\alpha_t^{2} < \\infty$"
   ]
  },
  {
   "cell_type": "code",
   "execution_count": 29,
   "metadata": {
    "colab": {},
    "colab_type": "code",
    "id": "xCWAyLG5Ug3l"
   },
   "outputs": [],
   "source": [
    "import random\n",
    "\n",
    "from collections import defaultdict"
   ]
  },
  {
   "cell_type": "code",
   "execution_count": 30,
   "metadata": {
    "colab": {},
    "colab_type": "code",
    "id": "4m_YOnC3ZTYy"
   },
   "outputs": [],
   "source": [
    "def epsilon_greedy_policy(qs, env, eps):\n",
    "    \"\"\"\n",
    "    Epsilon Greedy Policy\n",
    "    \"\"\"\n",
    "    if random.uniform(0, 1) < eps:\n",
    "        return env.action_space.sample()\n",
    "    else:\n",
    "        return np.argmax(qs)"
   ]
  },
  {
   "cell_type": "code",
   "execution_count": 31,
   "metadata": {
    "colab": {},
    "colab_type": "code",
    "id": "6M1CzdUdxv9L"
   },
   "outputs": [],
   "source": [
    "class SARSALearningAgent:\n",
    "    \"\"\"\n",
    "    SARSA Learning Agent that can act on a continuous state\n",
    "    space by discretizing it\n",
    "    \"\"\"\n",
    "    \n",
    "    def __init__(self, env, state_grid, mode=\"train\", alpha=0.02, gamma=0.99,\n",
    "                 eps=1.0, eps_decay_rate=0.9995, min_eps=0.01,\n",
    "                 seed=42):\n",
    "        \n",
    "        # Environment info\n",
    "        self.env = env\n",
    "        self.state_grid = state_grid\n",
    "        self.state_size = tuple(len(splits) + 1 for splits in self.state_grid)\n",
    "        self.action_size = self.env.action_space.n\n",
    "        self.seed = np.random.seed(seed)\n",
    "        \n",
    "        # Agent Info\n",
    "        self.mode = mode\n",
    "        \n",
    "        print(\"Environment: \", self.env)\n",
    "        print(\"State space size: \", self.state_size)\n",
    "        print(\"Action space size: \", self.action_size)\n",
    "        \n",
    "        # Learning parameters\n",
    "        self.alpha = alpha\n",
    "        self.gamma = gamma\n",
    "        self.eps = self.initial_eps = eps\n",
    "        self.eps_decay_rate = eps_decay_rate\n",
    "        self.min_eps = min_eps\n",
    "        \n",
    "        # Create Q-table\n",
    "        self.Q_table = np.zeros([self.state_size[0], self.state_size[1], self.action_size])\n",
    "        \n",
    "        # Current state\n",
    "        self.S = None\n",
    "        self.A = None\n",
    "    \n",
    "    def map_state(self, state):\n",
    "        \"\"\"\n",
    "        Map a continuous state to its discretized representation\n",
    "        [0.4, -0.6] => (8, 0)\n",
    "        \"\"\"\n",
    "        return tuple(discretize(state, self.state_grid))\n",
    "    \n",
    "    def initialise_map_state(self, state, Q=None):\n",
    "        \"\"\"Discretise the initial state\"\"\"\n",
    "        self.S = self.map_state(state)\n",
    "        if Q is not None:\n",
    "            self.Q_table = Q\n",
    "    \n",
    "    def reset_episode(self):\n",
    "        \"\"\"\n",
    "        Reset variables for a new episode\n",
    "        \"\"\"\n",
    "        \n",
    "        # Decay the eps\n",
    "        self.eps *= self.eps_decay_rate\n",
    "        self.eps = max(self.eps, self.min_eps)\n",
    "        \n",
    "        # Reset state and action\n",
    "        self.S = None\n",
    "        self.A = None\n",
    "        \n",
    "    def action(self, new_state):\n",
    "        \"\"\"\n",
    "        Take last action if action is not none.\n",
    "        Otherwise, get action from eps-greedy policy\n",
    "        \n",
    "        new_state (bool)\n",
    "        \"\"\"\n",
    "        if self.mode == \"train\":\n",
    "            if not new_state and self.A is not None:\n",
    "                return self.A\n",
    "            else:\n",
    "                return epsilon_greedy_policy(self.Q_table[self.S[0]][self.S[1]], self.env, self.eps)\n",
    "        else:\n",
    "            return epsilon_greedy_policy(self.Q_table[self.S[0]][self.S[1]], self.env, 0)\n",
    "        \n",
    "    def run(self, action, next_state=None, next_action=None, reward=None):\n",
    "        \"\"\"\n",
    "        In training mode, pick the next action and update the internal\n",
    "        Q table\n",
    "        \"\"\"\n",
    "        \n",
    "        # Convert the state to the preprocessed state\n",
    "        state = self.S\n",
    "        \n",
    "        if self.mode == \"train\":\n",
    "            TD_error = (reward \n",
    "                        + self.gamma * self.Q_table[int(next_state[0])][int(next_state[1])][next_action]\n",
    "                        - self.Q_table[int(state[0])][int(state[1])][action])\n",
    "\n",
    "            # Training mode, adjust the q_table from the discretised values \n",
    "            self.Q_table[int(state[0])][int(state[1])][int(action)] += (self.alpha * TD_error)\n",
    "\n",
    "            # Update current state\n",
    "            self.S = next_state\n",
    "            self.A = next_action\n",
    "        else:\n",
    "            self.S = next_state\n"
   ]
  },
  {
   "cell_type": "code",
   "execution_count": null,
   "metadata": {},
   "outputs": [],
   "source": [
    "RUNS = 20000"
   ]
  },
  {
   "cell_type": "code",
   "execution_count": null,
   "metadata": {},
   "outputs": [],
   "source": [
    "grid = create_uniform_grid(low, high, bins=(10, 10))"
   ]
  },
  {
   "cell_type": "code",
   "execution_count": null,
   "metadata": {
    "colab": {
     "base_uri": "https://localhost:8080/",
     "height": 221
    },
    "colab_type": "code",
    "id": "fbBLvo1axzup",
    "outputId": "7d396724-f373-42e7-fc53-ce26d79bde2b"
   },
   "outputs": [],
   "source": [
    "# Initialise agent\n",
    "agent = SARSALearningAgent(env, grid, mode=\"train\")\n",
    "scores = []\n",
    "max_avg_score = -np.inf\n",
    "\n",
    "for i in range(RUNS):\n",
    "    \n",
    "    state = env.reset()\n",
    "    agent.initialise_map_state(state)\n",
    "    \n",
    "    total_reward = 0\n",
    "    \n",
    "    while True:\n",
    "        \n",
    "        # Take action\n",
    "        A = agent.action(new_state=False)\n",
    "        NS, R, done, _ = env.step(A)\n",
    "        mapped_NS = agent.map_state(NS)\n",
    "        NA = agent.action(new_state=True)\n",
    "\n",
    "        agent.run(A, mapped_NS, NA, R)\n",
    "        \n",
    "        total_reward += R\n",
    "\n",
    "        if done:\n",
    "            env.close()\n",
    "            agent.reset_episode()\n",
    "            scores.append(total_reward)\n",
    "            break\n",
    "            \n",
    "    if i % 100 == 0:\n",
    "        if len(scores) > 100:\n",
    "            avg_score = np.mean(scores[-100:])\n",
    "            if avg_score > max_avg_score:\n",
    "                max_avg_score = avg_score\n",
    "            print(\"\\rEpisode {}/{} | eps {} | Max Average Score {}\".format(i, RUNS, agent.eps, max_avg_score), end=\"\")\n",
    "            sys.stdout.flush()"
   ]
  },
  {
   "cell_type": "code",
   "execution_count": null,
   "metadata": {},
   "outputs": [],
   "source": [
    "trained_Q = agent.Q_table"
   ]
  },
  {
   "cell_type": "code",
   "execution_count": null,
   "metadata": {
    "colab": {
     "base_uri": "https://localhost:8080/",
     "height": 476
    },
    "colab_type": "code",
    "id": "mmXBE2AqgxBK",
    "outputId": "8f7f29ae-5369-4dbe-f11a-a25c72f67bcd"
   },
   "outputs": [],
   "source": [
    "# Plot scores obtained per episode\n",
    "plt.plot(scores); plt.title(\"Scores\");"
   ]
  },
  {
   "cell_type": "code",
   "execution_count": 38,
   "metadata": {},
   "outputs": [
    {
     "name": "stderr",
     "output_type": "stream",
     "text": [
      "/Users/raylai/Desktop/envs/env/lib/python3.6/importlib/_bootstrap.py:219: RuntimeWarning: numpy.dtype size changed, may indicate binary incompatibility. Expected 96, got 88\n",
      "  return f(*args, **kwds)\n"
     ]
    }
   ],
   "source": [
    "import pandas as pd"
   ]
  },
  {
   "cell_type": "code",
   "execution_count": 39,
   "metadata": {},
   "outputs": [
    {
     "data": {
      "image/png": "[encoded data removed]",
      "text/plain": [
       "<Figure size 432x288 with 1 Axes>"
      ]
     },
     "metadata": {},
     "output_type": "display_data"
    }
   ],
   "source": [
    "def plot_scores(scores, rolling_window=100):\n",
    "    \"\"\"Plot scores and optional rolling mean using specified window.\"\"\"\n",
    "    plt.plot(scores); plt.title(\"Scores\");\n",
    "    rolling_mean = pd.Series(scores).rolling(rolling_window).mean()\n",
    "    plt.plot(rolling_mean);\n",
    "    return rolling_mean\n",
    "\n",
    "rolling_mean = plot_scores(scores)"
   ]
  },
  {
   "cell_type": "markdown",
   "metadata": {},
   "source": [
    "## Testing on greedy policy only"
   ]
  },
  {
   "cell_type": "code",
   "execution_count": null,
   "metadata": {},
   "outputs": [],
   "source": [
    "TEST_RUNS = 100"
   ]
  },
  {
   "cell_type": "code",
   "execution_count": null,
   "metadata": {},
   "outputs": [],
   "source": [
    "# Initialise agent\n",
    "agent = SARSALearningAgent(env, grid, mode=\"test\")\n",
    "scores = []\n",
    "max_avg_score = -np.inf\n",
    "\n",
    "for i in range(TEST_RUNS):\n",
    "    \n",
    "    state = env.reset()\n",
    "    agent.initialise_map_state(state, Q=trained_Q)\n",
    "    \n",
    "    total_reward = 0\n",
    "    \n",
    "    while True:\n",
    "        \n",
    "        # Take action\n",
    "        A = agent.action(new_state=False, mode=\"Test\")\n",
    "        NS, R, done, _ = env.step(A)\n",
    "        mapped_NS = agent.map_state(NS)\n",
    "#         NA = agent.action(new_state=True)\n",
    "\n",
    "        agent.run(A, next_state=mapped_NS, reward=R)\n",
    "        \n",
    "        total_reward += R\n",
    "\n",
    "        if done:\n",
    "            env.close()\n",
    "            agent.reset_episode()\n",
    "            scores.append(total_reward)\n",
    "            break\n",
    "            \n",
    "    if i % 100 == 0:\n",
    "        if len(scores) > 100:\n",
    "            avg_score = np.mean(scores[-100:])\n",
    "            if avg_score > max_avg_score:\n",
    "                max_avg_score = avg_score\n",
    "            print(\"\\rEpisode {}/{} | eps {} | Max Average Score {}\".format(i, TEST_RUNS, agent.eps, max_avg_score), end=\"\")\n",
    "            sys.stdout.flush()"
   ]
  },
  {
   "cell_type": "code",
   "execution_count": null,
   "metadata": {},
   "outputs": [],
   "source": [
    "_ = plot_scores(scores)"
   ]
  },
  {
   "cell_type": "code",
   "execution_count": 40,
   "metadata": {},
   "outputs": [
    {
     "data": {
      "image/png": "[encoded data removed]",
      "text/plain": [
       "<Figure size 720x720 with 2 Axes>"
      ]
     },
     "metadata": {},
     "output_type": "display_data"
    }
   ],
   "source": [
    "def plot_q_table(q_table):\n",
    "    \"\"\"Visualize max Q-value for each state and corresponding action.\"\"\"\n",
    "    q_image = np.max(q_table, axis=2)       # max Q-value for each state\n",
    "    q_actions = np.argmax(q_table, axis=2)  # best action for each state\n",
    "\n",
    "    fig, ax = plt.subplots(figsize=(10, 10))\n",
    "    cax = ax.imshow(q_image, cmap='jet');\n",
    "    cbar = fig.colorbar(cax)\n",
    "    for x in range(q_image.shape[0]):\n",
    "        for y in range(q_image.shape[1]):\n",
    "            ax.text(x, y, q_actions[x, y], color='white',\n",
    "                    horizontalalignment='center', verticalalignment='center')\n",
    "    ax.grid(False)\n",
    "    ax.set_title(\"Q-table, size: {}\".format(q_table.shape))\n",
    "    ax.set_xlabel('position')\n",
    "    ax.set_ylabel('velocity')\n",
    "\n",
    "\n",
    "plot_q_table(agent.Q_table)"
   ]
  },
  {
   "cell_type": "markdown",
   "metadata": {},
   "source": [
    "## Modify the grid"
   ]
  },
  {
   "cell_type": "code",
   "execution_count": 32,
   "metadata": {},
   "outputs": [],
   "source": [
    "RUNS = 50000"
   ]
  },
  {
   "cell_type": "code",
   "execution_count": 33,
   "metadata": {},
   "outputs": [],
   "source": [
    "low = env.observation_space.low\n",
    "high = env.observation_space.high"
   ]
  },
  {
   "cell_type": "code",
   "execution_count": 34,
   "metadata": {},
   "outputs": [
    {
     "name": "stdout",
     "output_type": "stream",
     "text": [
      "Uniform grid: [low, high] / bins => Splits\n",
      "\t [-1.2, 0.6] / 20 => [-1.11000004 -1.02000004 -0.93000004 -0.84000003 -0.75000003 -0.66000003\n",
      " -0.57000002 -0.48000002 -0.39000002 -0.30000001 -0.21000001 -0.12\n",
      " -0.03        0.06        0.15000001  0.24000001  0.33000001  0.42000002\n",
      "  0.51000002]\n",
      "\t [-0.07, 0.07] / 20 => [-0.063 -0.056 -0.049 -0.042 -0.035 -0.028 -0.021 -0.014 -0.007  0.\n",
      "  0.007  0.014  0.021  0.028  0.035  0.042  0.049  0.056  0.063]\n"
     ]
    }
   ],
   "source": [
    "grid = create_uniform_grid(low_bound=low, high_bound=high, bins=(20, 20))"
   ]
  },
  {
   "cell_type": "code",
   "execution_count": 35,
   "metadata": {},
   "outputs": [
    {
     "name": "stdout",
     "output_type": "stream",
     "text": [
      "Environment:  <TimeLimit<MountainCarEnv<MountainCar-v0>>>\n",
      "State space size:  (20, 20)\n",
      "Action space size:  3\n",
      "Episode 49900/50000 | eps 0.01 | Max Average Score -120.48e Score -181.74"
     ]
    }
   ],
   "source": [
    "# Initialise agent\n",
    "agent = SARSALearningAgent(env, grid, mode=\"train\")\n",
    "scores = []\n",
    "max_avg_score = -np.inf\n",
    "\n",
    "for i in range(RUNS):\n",
    "    \n",
    "    state = env.reset()\n",
    "    agent.initialise_map_state(state)\n",
    "    \n",
    "    total_reward = 0\n",
    "    \n",
    "    while True:\n",
    "        \n",
    "        # Take action\n",
    "        A = agent.action(new_state=False)\n",
    "        NS, R, done, _ = env.step(A)\n",
    "        mapped_NS = agent.map_state(NS)\n",
    "        NA = agent.action(new_state=True)\n",
    "\n",
    "        agent.run(A, mapped_NS, NA, R)\n",
    "        \n",
    "        total_reward += R\n",
    "\n",
    "        if done:\n",
    "            env.close()\n",
    "            agent.reset_episode()\n",
    "            scores.append(total_reward)\n",
    "            break\n",
    "            \n",
    "    if i % 100 == 0:\n",
    "        if len(scores) > 100:\n",
    "            avg_score = np.mean(scores[-100:])\n",
    "            if avg_score > max_avg_score:\n",
    "                max_avg_score = avg_score\n",
    "            print(\"\\rEpisode {}/{} | eps {} | Max Average Score {}\".format(i, RUNS, agent.eps, max_avg_score), end=\"\")\n",
    "            sys.stdout.flush()"
   ]
  },
  {
   "cell_type": "code",
   "execution_count": 41,
   "metadata": {},
   "outputs": [
    {
     "data": {
      "image/png": "[encoded data removed]",
      "text/plain": [
       "<Figure size 720x720 with 2 Axes>"
      ]
     },
     "metadata": {},
     "output_type": "display_data"
    }
   ],
   "source": [
    "plot_q_table(agent.Q_table)"
   ]
  },
  {
   "cell_type": "code",
   "execution_count": 42,
   "metadata": {},
   "outputs": [],
   "source": [
    "trained_Q = agent.Q_table"
   ]
  },
  {
   "cell_type": "markdown",
   "metadata": {},
   "source": [
    "## Running a trained agent"
   ]
  },
  {
   "cell_type": "code",
   "execution_count": 43,
   "metadata": {},
   "outputs": [],
   "source": [
    "observation = env.reset()\n",
    "mapped_observation = agent.map_state(observation)\n",
    "# print(mapped_observation)\n",
    "for i in range(GLOBAL_STEP):\n",
    "  \n",
    "    env.render()\n",
    "    \n",
    "    #your agent goes here\n",
    "    action = epsilon_greedy_policy(trained_Q[mapped_observation[0]][mapped_observation[1]], env, eps=0)\n",
    "    observation, reward, done, info = env.step(action)\n",
    "    mapped_observation = agent.map_state(observation)\n",
    "    \n",
    "#     print(\"Observation: %s\" % observation)\n",
    "#     print(\"Reward: %s\" % reward)\n",
    "#     print(\"Done: %s\" % done)\n",
    "#     print(\"Info: %s\" % info)\n",
    "        \n",
    "    if done: \n",
    "      break\n",
    "            \n",
    "env.close()\n",
    "# # show_video()"
   ]
  },
  {
   "cell_type": "code",
   "execution_count": null,
   "metadata": {},
   "outputs": [],
   "source": []
  }
 ],
 "metadata": {
  "colab": {
   "collapsed_sections": [],
   "name": "Algorithm Implementation for Mountain Car.ipynb",
   "provenance": [],
   "version": "0.3.2"
  },
  "kernelspec": {
   "display_name": "Python 3",
   "language": "python",
   "name": "python3"
  },
  "language_info": {
   "codemirror_mode": {
    "name": "ipython",
    "version": 3
   },
   "file_extension": ".py",
   "mimetype": "text/x-python",
   "name": "python",
   "nbconvert_exporter": "python",
   "pygments_lexer": "ipython3",
   "version": "3.6.5"
  }
 },
 "nbformat": 4,
 "nbformat_minor": 1
}
