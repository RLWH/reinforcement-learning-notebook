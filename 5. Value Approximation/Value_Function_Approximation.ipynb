{
  "nbformat": 4,
  "nbformat_minor": 0,
  "metadata": {
    "colab": {
      "name": "Value Function Approximation.ipynb",
      "version": "0.3.2",
      "provenance": [],
      "collapsed_sections": [
        "jio89h3c0vyy",
        "hfaNy7YusKgv",
        "bwiyyIiNth8D"
      ],
      "include_colab_link": true
    },
    "kernelspec": {
      "name": "python3",
      "display_name": "Python 3"
    }
  },
  "cells": [
    {
      "cell_type": "markdown",
      "metadata": {
        "id": "view-in-github",
        "colab_type": "text"
      },
      "source": [
        "<a href=\"https://colab.research.google.com/github/RLWH/reinforcement-learning-notebook/blob/master/5.%20Value%20Approximation/Value_Function_Approximation.ipynb\" target=\"_parent\"><img src=\"https://colab.research.google.com/assets/colab-badge.svg\" alt=\"Open In Colab\"/></a>"
      ]
    },
    {
      "cell_type": "markdown",
      "metadata": {
        "id": "bEqAnQ71hvOR",
        "colab_type": "text"
      },
      "source": [
        "# 5. Value Approximation\n",
        "\n",
        "Basically, all the model-free methods require either value function or state-value function, that essentially they are a one-to-one mapping function for a given state S. These algorithms might be able to solve small to medium problems, but they may not be able to solve large problems like Backgammon ($10^{20}$ states), Computer Go ($10^{170}$ states), or other problems that have a continuous state space. \n",
        "\n",
        "So, how to scale up the model-free methods? The answer is by function approximation. \n",
        "\n",
        "#### The feature weights\n",
        "In this chapter, we will introduce a new weight vector $\\vec{w} \\in \\mathop{\\mathbb{R^d}}$.\n",
        "\n",
        "Hence, we will rewrite the value function into $\\hat{v}(s, \\vec{w}) \\approx v_{\\pi}(s)$, which means the value function uses the weight vector to approximate the true value function. On the other hand, we can also approximate state-value function $\\hat{q}(s, a, \\vec{w}) \\approx q_{\\pi}(s,a)$. The goal of having the feature weights is to generalise the learnings from seen states to unseen states. \n",
        "\n",
        "On the side note, extending reinforcement learning to function approximation also makes it applicable to partially observable problems, where the full state is not available to the agent. \n",
        "\n"
      ]
    },
    {
      "cell_type": "markdown",
      "metadata": {
        "id": "1r5sJNRUuDjd",
        "colab_type": "text"
      },
      "source": [
        "# Value-function Approximation\n",
        "\n",
        "In order to use SGD to approximate a value function, we need to first define the objective function. \n",
        "\n",
        "The goal of SGD is to find a parameter vector $w$ that minimise the mean-squared error between the approximate value function $\\hat{v}(s, \\vec w)$ and the true value function $v_{\\pi}(s)$\n",
        "Of course, the states are not equally important, therefore, we are obligated to specify a state distribution $\\mu(s) \\geq 0, \\sum_{s} = 1$, to represent how much we care about the error in each state. \n",
        "\n",
        "Suppose the true value $v_{\\pi}(s)$ exists, the formulation of the objective function, also known as the *Mean Squared Value Error*, becomes\n",
        "\\begin{equation}\n",
        "\\begin{split}\n",
        "J(\\vec w) & = \\sum_s\\mu(s)[v_{\\pi}(s) - \\hat{v}(s, \\vec{w})]^2 \\\\\n",
        "& = \\mathop{\\mathbb{E_{\\pi}}}[(v_{\\pi}(s) - \\hat{v}(s, \\vec{w}))]\n",
        "\\end{split}\n",
        "\\end{equation}\n",
        "for on-policy distribution in episodic tasks.\n",
        "\n",
        "Ideally, the goal in terms of $J(\\vec{w})$ would be to find a global optimum, where a weight vector $\\vec{w^*}$ such that $J(\\vec{w^*}) \\leq J(\\vec{w})$ for all possible $\\vec{w}. $\n",
        "\n",
        "## Stochastic gradient descent methods\n",
        "\n",
        "Suppose the weight vector is a column vector with a fixed number of real valued components, $\\vec{w} = (w_1, w_2, w_3, ..., w_d)^{T}$, and the approximate value function $\\hat{v}(s, \\vec{w})$ is a differentiable function of $\\vec{w}$ for all $s \\in S$. \n",
        "\n",
        "The weight vector $\\vec{w}$ will be updated at each of the discrete time steps, for $t=0, 1, 2, 3, ...$, so we instead use $\\vec{w_t}$ to represent the weight vector.\n",
        "\n",
        "The SGD method adjusts the weight vector at each time step, or after each example, by a small amount in the direction that would most reduce the error on that example.\n",
        "\\begin{equation}\n",
        "\\Delta{\\vec{w}} = \\alpha [v_{\\pi}(S_t) - \\hat{v}(S,\\vec{w_t})] \\nabla{\\hat{v}}(S_t, \\vec{w_t})\n",
        "\\end{equation},\n",
        "where $\\alpha$ is a positive step-size parameter, and $\\nabla f(\\vec{w})$, for any scalar expression $f(\\vec{w})$ that is a function of a vector, denotes the column vector of partial derivatives of the expression w.r.t the components of the vector."
      ]
    },
    {
      "cell_type": "markdown",
      "metadata": {
        "id": "82Cpn3Qz1Cf2",
        "colab_type": "text"
      },
      "source": [
        "## Incremental Prediction Algorithms\n",
        "\n",
        "In the previous discussion we have assumed the true value $v_{\\pi}$ has been given. However, in reinforcement learning problem, there is no supervisor, only rewards. Thus, in practice, we need to substitute a target for $v_{\\pi}(s)$. We can denote $U_t \\in \\mathop{\\mathbb{R}}$, of the *t*th training example, such that $S_t \\mapsto U_t$. We have to be aware of it that $U_t$ is not the true value, $v_{\\pi}(S_t)$, but some, possibly random, approximation to it. \n",
        "\n",
        "Thus, in general the gradient of $\\vec{w}$ can be rewritten as\n",
        "\\begin{equation}\n",
        "\\Delta{\\vec{w}} = \\alpha [U_t - \\hat{v}(S,\\vec{w_t})] \\nabla_{\\vec{w}}{\\hat{v}}(S_t, \\vec{w_t})\n",
        "\\end{equation}\n",
        "\n",
        "$U_t$ can be approximated by various methods:\n",
        "\n",
        "### 1. Monte Carlo\n",
        "For Monte Carlo method, the target is the return $G_t$, or we can assign $U_t = G_t$.\n",
        "\n",
        "The gradient of the weight then become\n",
        "\\begin{equation}\n",
        "\\Delta{\\vec{w}} = \\alpha [G_t - \\hat{v}(S,\\vec{w_t})] \\nabla_{\\vec{w}}{\\hat{v}}(S_t, \\vec{w_t})\n",
        "\\end{equation}\n",
        "\n",
        "##### Pseudo Code\n",
        "---\n",
        "```\n",
        "Input: The policy pi to be evaluated\n",
        "Input: a differentiable function v_hat that takes in state and weights and map to a value: S x Rd -> R\n",
        "\n",
        "Algorithm parameter: stepsize alpha > 0\n",
        "Initialise value-function weights w (dimension d) arbitrarily\n",
        "\n",
        "Loop forever (for each episode):\n",
        "        Generate an episode S0, A0, R1, S1, A1, ..., RT, ST using pi\n",
        "        Loop for each step of episode, t=0, 1, ..., T-1:\n",
        "                w = w + alpha * (Gt - vhat(st, w)) * grad_vhat(st, w)\n",
        "```\n",
        "---\n",
        "\n",
        "### 2. TD(0)\n",
        "\n",
        "For one-step TD, the target $U_t = R_{t+1} + \\gamma \\hat{v}(S_{t+1}, \\vec{w})$\n",
        "\n",
        "The gradient of the weight then becomes\n",
        "\\begin{equation}\n",
        "\\Delta{\\vec{w}} = \\alpha [R_{t+1} + \\gamma \\hat{v}(S_{t+1}, \\vec{w}) - \\hat{v}(S,\\vec{w_t})] \\nabla_{\\vec{w}}{\\hat{v}}(S_t, \\vec{w_t})\n",
        "\\end{equation}\n",
        "\n",
        "There is no guarantee to converge by using a bootstrapping method like TD(0) or TD($\\lambda$), as it relies on a bootstraping estimate to update the gradient. Bootstraping methods, in fact, are not the instences of true gradient descent (Barnard, 1993), as they all depend on the current value of the weight vector $\\vec{w_t}$, which imples that they will be biased and that they will not produce a true gradient-descent method. These methods are called *semi-gradient* methods.\n",
        "\n",
        "Although semi-gradient methods do not converge as robustly as gradient methods, they do converge reliably in important cases such as the linear cases. Another advantage for semi-gradient methods is that they enable learning to be coninual and online, without waiting for the end of an episode.\n",
        "\n",
        "##### Pseudo Code\n",
        "---\n",
        "```\n",
        "Input: The policy pi to be evaluated\n",
        "Input: A differentiable function v_hat(state, weights) |-> R such that v_hat(terminal, .) = 0\n",
        "Algorithm parameter: step size alpha > 0\n",
        "Initialise value-function weights w as a d-dimensional zero vectors\n",
        "\n",
        "Loop for each episode:\n",
        "        Initialise S\n",
        "        Loop for each step of episode:\n",
        "                Choose A ~ pi(.|S)\n",
        "                Take action A, observe R, S'\n",
        "                w = w + alpha * (R + gamma * v_hat(S', w) - v_hat(S, w)) * grad_vhat(S, w)\n",
        "        until S is terminal\n",
        "```\n",
        "---\n",
        "\n",
        "### 3. TD($\\lambda$)\n",
        "\n",
        "For TD lambda, the target is the $\\lambda$-return $G_t^{\\lambda}$. i.e. $U_t = G_t^{\\lambda}$\n",
        "\n",
        "The gradient becomes\n",
        "\\begin{equation}\n",
        "\\Delta{\\vec{w}} = \\alpha [G_t^{\\lambda} - \\hat{v}(S,\\vec{w_t})] \\nabla_{\\vec{w}}{\\hat{v}}(S_t, \\vec{w_t})\n",
        "\\end{equation}\n",
        "\n",
        "\n",
        "\n"
      ]
    },
    {
      "cell_type": "markdown",
      "metadata": {
        "id": "zxVbzPwDqlOH",
        "colab_type": "text"
      },
      "source": [
        "## Linear Methods of Value Approximation\n",
        "\n",
        "One of the most important special cases of function approximation is that, where the approximate function, $\\hat{v}(\\cdot, \\vec{w})$, is a linear function of the weight vector, $\\vec{w}$\n",
        "\n",
        "Denote a real-valued feature vector\n",
        "\\begin{equation}\n",
        "\\vec{x}(s) = (x_1(s), x_2(s), ..., x_d(s))^{T}\n",
        "\\end{equation}\n",
        "with the same number of components as $\\vec{w}$\n",
        "\n",
        "Linear methods approximate the state-value function by the inner product between $\\vec{w}$ and $\\vec{x}$, such that \n",
        "\n",
        "\\begin{equation}\n",
        "\\begin{split}\n",
        "\\hat{v}(s, \\vec{w}) & = \\vec{w} ^T \\vec{x}(s) \\\\\n",
        "& = \\sum_{i=1}^{d}w_i x_i(s)\n",
        "\\end{split}\n",
        "\\end{equation}\n",
        "\n",
        "\n",
        "Note: Feature vector can be anything that tells you about the state space. For example:\n",
        "- Distance of robot from landmarks\n",
        "- Trends in the stock market\n",
        "- Piece and pawn configurations in chess\n",
        "\n",
        "\n",
        "The update rule is particularly simple with Linear Value Function Approximation\n",
        "\\begin{equation}\n",
        "\\begin{split}\n",
        "\\nabla_{\\vec{w}}\\hat{v}(s, \\vec{w}) &= \\vec{x}(s) \\\\\n",
        "\\Delta \\vec{w} &= \\alpha[v_{\\pi}(s) - \\hat{v}(s, \\vec{w})] \\vec{x}(s)\n",
        "\\end{split}\n",
        "\\end{equation}\n",
        "\n",
        "In other words:\n",
        "**Update = step-size x prediction error x feature value**\n",
        "\n",
        "Since in the linear case there is only one optimum, and thus any method  that is guaranteed to converge to or near a local optimum is automatically guaranteed to converge to or near the global optimum. "
      ]
    },
    {
      "cell_type": "markdown",
      "metadata": {
        "id": "q4GcN3pZI1v9",
        "colab_type": "text"
      },
      "source": [
        "### Monte Carlo with Linear Methods\n",
        "\n",
        "- The return $G_t$ is an unbiased, noisy sample of true value $v_{\\pi}(s_t)$\n",
        "- The \"training data\"\n",
        "\n",
        "\\begin{equation}\n",
        "\\langle S_1, G_1\\rangle, \\langle S_2, G_2\\rangle, ..., \\langle S_T, G_T\\rangle\n",
        "\\end{equation}\n",
        "\n",
        "- The gradient used for MC policy evaluation\n",
        "\\begin{equation}\n",
        "\\Delta{\\vec{w}} = \\alpha [G_t^{\\lambda} - \\hat{v}(S,\\vec{w_t})] \\vec{x}(S_t)\n",
        "\\end{equation}\n",
        "\n",
        "The gradient MC algorithm converges to the global optimum of $J$ under linear function approximation if $\\alpha$ is reduced over time according to the usual conditions."
      ]
    },
    {
      "cell_type": "markdown",
      "metadata": {
        "id": "8AHwZ9mGK1o5",
        "colab_type": "text"
      },
      "source": [
        "### TD(0) with Linear Methods\n",
        "- The TD-target $R_{t+1} + \\gamma \\hat{v}(S_{t+1}, \\vec{w})$ is a biased sample of true value $v_{\\pi}(s_t)$\n",
        "- This can still apply supervised learning to the \"training data\"\n",
        "\\begin{equation}\n",
        "\\langle S_1, R_2 + \\gamma \\hat{v}(S_2, \\vec{w})\\rangle, \\langle S_2, R_3 + \\gamma \\hat{v}(S_3, \\vec{w})\\rangle, ..., \\langle S_{T-1}, R_T + \\gamma \\hat{v}(S_T, \\vec{w})\\rangle\n",
        "\\end{equation}\n",
        "- The gradient used for TD(0) policy evaluation\n",
        "\\begin{equation}\n",
        "\\begin{split}\n",
        "\\Delta{\\vec{w}} &= \\alpha [R + \\gamma \\hat{v}(s_{t+1}, \\vec{w}) - \\hat{v}(S,\\vec{w_t})] \\vec{x}(S_t) \\\\\n",
        "&=\\alpha \\delta \\vec{x}(s)\n",
        "\\end{split}\n",
        "\\end{equation}\n",
        "- Linear TD(0) converges close to the global optimum, which is called the *TD Fixed point* (Proof in p.206), where\n",
        "\\begin{equation}\n",
        "J(\\vec{w}_{TD}) \\leq \\frac{1}{1-\\gamma} \\min_\\vec{w} J(\\vec{w})\n",
        "\\end{equation}"
      ]
    },
    {
      "cell_type": "markdown",
      "metadata": {
        "id": "bKw1d3cuTJTH",
        "colab_type": "text"
      },
      "source": [
        "###  Forward-view linear TD($\\lambda$) and Backward-view linear TD($\\lambda$)\n",
        "\n",
        "- The $\\lambda$-return $G_t^{\\lambda}$ is also a biased sample of true value $v_{\\pi}(s)$\n",
        "- Again, it can apply supervised learning to \"training data\"\\begin{equation}\n",
        "\\langle S_1, G_1^{\\lambda}\\rangle, \\langle S_2, G_2^{\\lambda}\\rangle, ..., \\langle S_{T-1}, G_{T-1}^{\\lambda}\\rangle\n",
        "\\end{equation}\n",
        "\n",
        "#### Forward view linear TD($\\lambda$)\n",
        "\\begin{equation}\n",
        "\\Delta{\\vec{w}} = \\alpha [G_t^{\\lambda} - \\hat{v}(S,\\vec{w_t})] \\vec{x}(S_t)\n",
        "\\end{equation}\n",
        "\n",
        "#### Backward vieww linear TD($\\lambda$)\n",
        "\\begin{equation}\n",
        "\\begin{split}\n",
        "& \\delta_t = R_{t+1} + \\gamma \\hat{v}(S_{t+1}, \\vec{w}) - \\hat{v}(S_t, \\vec{w}) \\\\\n",
        "& E_t = \\gamma \\lambda E_{t-1} + \\vec{x}(S_t) \\\\\n",
        "& \\Delta{\\vec{w}} = \\alpha \\delta_t E_t\n",
        "\\end{split}\n",
        "\\end{equation}"
      ]
    },
    {
      "cell_type": "markdown",
      "metadata": {
        "id": "hC7SXc6TaHhR",
        "colab_type": "text"
      },
      "source": [
        "# Implementation - 1000 state random walk"
      ]
    },
    {
      "cell_type": "markdown",
      "metadata": {
        "id": "bcMimES-bdg2",
        "colab_type": "text"
      },
      "source": [
        "We revisit a random walk problem, but this time we add more states into the environment. Instead of having 5 states in between, we now have 1000 states, and the starting state will be the 500th state\n"
      ]
    },
    {
      "cell_type": "code",
      "metadata": {
        "id": "_jGq7R--jupw",
        "colab_type": "code",
        "colab": {}
      },
      "source": [
        "import gym\n",
        "import numpy as np\n",
        "import matplotlib.pyplot as plt\n",
        "import sys\n",
        "\n",
        "from collections import defaultdict\n",
        "from gym.envs.toy_text import discrete"
      ],
      "execution_count": 0,
      "outputs": []
    },
    {
      "cell_type": "code",
      "metadata": {
        "id": "NxQbmvg7ELhi",
        "colab_type": "code",
        "colab": {}
      },
      "source": [
        "LEFT = 0\n",
        "RIGHT = 1"
      ],
      "execution_count": 0,
      "outputs": []
    },
    {
      "cell_type": "code",
      "metadata": {
        "id": "K5h_trYYfKPY",
        "colab_type": "code",
        "colab": {}
      },
      "source": [
        "class RandomWalkEnv(discrete.DiscreteEnv):\n",
        "    \"\"\"\n",
        "    A Random Walk environment for Example 9.1\n",
        "    \"\"\"\n",
        "    \n",
        "    metadata = {'render.modes': ['human', 'ansi']}\n",
        "    \n",
        "    \n",
        "    def __init__(self, nS, start_state):\n",
        "        nS = nS\n",
        "        \n",
        "        actions = [LEFT, RIGHT]\n",
        "        nA = len(actions)\n",
        "        self.start_state = start_state\n",
        "        \n",
        "        # Calculate transition probabilities and rewards\n",
        "        P = {}\n",
        "        \n",
        "        for s in range(nS):\n",
        "            \n",
        "            P[s] = None\n",
        "            \n",
        "            # At each state, left = right = 0.5\n",
        "            # and then distribute to 100 states\n",
        "                \n",
        "            # Initialise all the vectors\n",
        "            all_states = np.arange(nS)\n",
        "            all_probs = np.zeros(nS)\n",
        "\n",
        "            all_rewards = np.zeros(nS)\n",
        "            all_rewards[0] = -1\n",
        "            all_rewards[nS - 1] = 1\n",
        "\n",
        "            all_done = np.zeros(nS)\n",
        "            all_done[0] = 1\n",
        "            all_done[nS - 1] = 1\n",
        "\n",
        "            if s == 0 or s == (nS - 1):\n",
        "                continue\n",
        "\n",
        "            # Update the probs\n",
        "            all_probs[max(1, s-100):s] = 0.5/100\n",
        "            if (s - 100) < 0:\n",
        "                all_probs[0] = 0.5 - abs(s - 1) * (0.5/100)\n",
        "\n",
        "            all_probs[(s + 1):min(nS, s + 1 + 100)] = 0.5/100\n",
        "            if (s + 100) > (nS - 1):\n",
        "                all_probs[nS - 1] = 0.5 - abs(nS - (s + 2)) * (0.5/100)\n",
        "\n",
        "            # Convert to zipped list\n",
        "            psa = list(zip(all_probs, all_states, all_rewards, all_done))\n",
        "\n",
        "            P[s] = psa\n",
        "        \n",
        "        isd = np.zeros(nS)\n",
        "        isd[start_state] = 1\n",
        "        \n",
        "        super(RandomWalkEnv, self).__init__(nS, nA, P, isd)\n",
        "        \n",
        "    def step(self):\n",
        "        transitions = self.P[self.s]\n",
        "#         print(transitions)\n",
        "        probs = np.array([t[0] for t in transitions])\n",
        "        i = np.random.choice(np.flatnonzero(probs == probs.max()))\n",
        "#         print(i)\n",
        "#         i = categorical_sample([t[0] for t in transitions], self.np_random)\n",
        "        p, s, r, d= transitions[i]\n",
        "        self.s = s\n",
        "#         self.lastaction = a\n",
        "        return (s, r, d, {\"prob\" : p})\n",
        "     \n",
        "    def render(self, mode='human'):\n",
        "        outfile = sys.stdout\n",
        "        \n",
        "        output = \"Current position: %s\" % self.s\n",
        "        \n",
        "        if self.s == 0 or self.s == (self.nS - 1):\n",
        "            output += \" - Terminate.\"\n",
        "            \n",
        "        outfile.write(output)"
      ],
      "execution_count": 0,
      "outputs": []
    },
    {
      "cell_type": "markdown",
      "metadata": {
        "id": "0bJK-tRbu22_",
        "colab_type": "text"
      },
      "source": [
        "#### Small test on the environment"
      ]
    },
    {
      "cell_type": "code",
      "metadata": {
        "id": "sPnxBTYgM9Ln",
        "colab_type": "code",
        "outputId": "fe9c308e-1f9e-4aa6-d81b-a9065cfb16d3",
        "colab": {
          "base_uri": "https://localhost:8080/",
          "height": 34
        }
      },
      "source": [
        "env = RandomWalkEnv(1002, 500)\n",
        "env.render()\n",
        "# env.P[500][RIGHT]"
      ],
      "execution_count": 0,
      "outputs": [
        {
          "output_type": "stream",
          "text": [
            "Current position: 500"
          ],
          "name": "stdout"
        }
      ]
    },
    {
      "cell_type": "code",
      "metadata": {
        "id": "gxMTXXk63BRs",
        "colab_type": "code",
        "outputId": "ae9cdb78-2381-46ef-978c-5472bca77d92",
        "colab": {
          "base_uri": "https://localhost:8080/",
          "height": 34
        }
      },
      "source": [
        "env.step()"
      ],
      "execution_count": 0,
      "outputs": [
        {
          "output_type": "execute_result",
          "data": {
            "text/plain": [
              "(839, 0.0, 0.0, {'prob': 0.005})"
            ]
          },
          "metadata": {
            "tags": []
          },
          "execution_count": 247
        }
      ]
    },
    {
      "cell_type": "code",
      "metadata": {
        "id": "A_Fae0CGUaMw",
        "colab_type": "code",
        "colab": {}
      },
      "source": [
        "def dynamics_to_probability(psa):\n",
        "    \"\"\"\n",
        "    Converting a list of tuple into sum of probability\n",
        "    \n",
        "    Args:\n",
        "        psa: [(probability, nextstate, reward, done), ...]\n",
        "    \"\"\"\n",
        "    \n",
        "    psa_np = np.array(psa)\n",
        "    \n",
        "    probs = psa_np[:,0]\n",
        "    nss = psa_np[:, 1]\n",
        "    rewards = psa_np[:, 2]\n",
        "    \n",
        "    return probs, nss, rewards"
      ],
      "execution_count": 0,
      "outputs": []
    },
    {
      "cell_type": "markdown",
      "metadata": {
        "id": "jio89h3c0vyy",
        "colab_type": "text"
      },
      "source": [
        "#### Estimate the true value by dynamic programming"
      ]
    },
    {
      "cell_type": "code",
      "metadata": {
        "id": "1ki7CwNt0CdG",
        "colab_type": "code",
        "colab": {}
      },
      "source": [
        "def value_estimation(env, gamma=1.0, threshold=1e-3):\n",
        "    \"\"\"\n",
        "    Iterative Policy Evaluation for estimating V = Vpi\n",
        "    \"\"\"\n",
        "    \n",
        "    # Initialise \n",
        "    nS = env.observation_space.n\n",
        "    V = np.zeros(nS)\n",
        "    \n",
        "    n_iter = 0\n",
        "    \n",
        "    while True:\n",
        "        \n",
        "        delta = 0\n",
        "        \n",
        "        for s in range(nS):\n",
        "            \n",
        "            if s == 0 or s == (nS-1):\n",
        "                continue\n",
        "            \n",
        "            old_v = V[s]\n",
        "            v = 0\n",
        "\n",
        "            # Actions are either left or right\n",
        "            probs, nss, rewards = dynamics_to_probability(env.P[s])\n",
        "\n",
        "            bellman = rewards + gamma * V\n",
        "            prob_bellman = np.dot(probs, bellman.T)\n",
        "\n",
        "            v += prob_bellman\n",
        "                        \n",
        "            V[s] = v\n",
        "            delta = max(delta, abs(old_v - V[s]))\n",
        "        \n",
        "        if n_iter % 10 == 0:\n",
        "            print(\"Iteration %s done; delta = %s\" % (n_iter, delta))\n",
        "    \n",
        "        \n",
        "        if delta < threshold:\n",
        "            break\n",
        "        \n",
        "        n_iter += 1\n",
        "\n",
        "    return V"
      ],
      "execution_count": 0,
      "outputs": []
    },
    {
      "cell_type": "code",
      "metadata": {
        "id": "YhcmCv1IadN9",
        "colab_type": "code",
        "outputId": "a994bac1-d41c-42e4-e23e-5fe767411368",
        "colab": {
          "base_uri": "https://localhost:8080/",
          "height": 102
        }
      },
      "source": [
        "V = value_estimation(env)"
      ],
      "execution_count": 0,
      "outputs": [
        {
          "output_type": "stream",
          "text": [
            "Iteration 0 done; delta = 0.6466659121736846\n",
            "Iteration 10 done; delta = 0.023880212740720386\n",
            "Iteration 20 done; delta = 0.007487071465396289\n",
            "Iteration 30 done; delta = 0.0029639424751838894\n",
            "Iteration 40 done; delta = 0.0014797939353352607\n"
          ],
          "name": "stdout"
        }
      ]
    },
    {
      "cell_type": "code",
      "metadata": {
        "id": "vsdhIVv4qhhc",
        "colab_type": "code",
        "colab": {}
      },
      "source": [
        "import seaborn as sns\n",
        "\n",
        "%matplotlib inline"
      ],
      "execution_count": 0,
      "outputs": []
    },
    {
      "cell_type": "code",
      "metadata": {
        "id": "pk_sR6awpavJ",
        "colab_type": "code",
        "outputId": "047bd840-3446-4a9a-cf8c-a61d16b21ed1",
        "colab": {
          "base_uri": "https://localhost:8080/",
          "height": 269
        }
      },
      "source": [
        "lp = sns.lineplot(x=np.arange(env.observation_space.n), y=V)"
      ],
      "execution_count": 0,
      "outputs": [
        {
          "output_type": "display_data",
          "data": {
            "image/png": "[encoded data removed]",
            "text/plain": [
              "<Figure size 432x288 with 1 Axes>"
            ]
          },
          "metadata": {
            "tags": []
          }
        }
      ]
    },
    {
      "cell_type": "markdown",
      "metadata": {
        "id": "hfaNy7YusKgv",
        "colab_type": "text"
      },
      "source": [
        "#### Approximate by Gradient MC method and state aggregation"
      ]
    },
    {
      "cell_type": "markdown",
      "metadata": {
        "id": "bwiyyIiNth8D",
        "colab_type": "text"
      },
      "source": [
        "#### What is state aggregation?\n",
        "State aggregation is a simple form of generalising function approximation in which states are grouped together, with one estimated value (one component of the weight vector $\\vec{w}$) for each group. The value of a state is estimated as its group's component, and when the state is updated, the component alone is updated.\n",
        "\n",
        "i.e.\n",
        "1. State aggregation is a special case of SGD in which the gradient  is \n",
        "\n",
        "\\begin{equation}\n",
        "\\nabla \\hat{v}(S_t, \\vec{w}_t) =\n",
        "\\begin{cases}\n",
        "1, \\text{for } S_t \\text{'s component} \\\\\n",
        "0,  \\text{otherwise}\n",
        "\\end{cases}\n",
        "\\end{equation}"
      ]
    },
    {
      "cell_type": "code",
      "metadata": {
        "id": "xxRmXbYZ6pxf",
        "colab_type": "code",
        "colab": {}
      },
      "source": [
        "import math"
      ],
      "execution_count": 0,
      "outputs": []
    },
    {
      "cell_type": "code",
      "metadata": {
        "id": "EKygHniR9Atc",
        "colab_type": "code",
        "colab": {}
      },
      "source": [
        "def generate_episode_random(policy, env, verbose=False):\n",
        "    \"\"\"\n",
        "    Generate a sequence according to the policy\n",
        "    \"\"\"\n",
        "    \n",
        "    states, actions, rewards = [], [], []\n",
        "    \n",
        "    observation = env.reset()\n",
        "    while True:\n",
        "        if verbose:\n",
        "            print(observation)\n",
        "        states.append(observation)\n",
        "#         action = policy(observation, env)\n",
        "#         if verbose:\n",
        "#             print(\"Action taken: %s\" % action)\n",
        "#         actions.append(action)\n",
        "        observation, reward, done, info = env.step()\n",
        "        rewards.append(reward)\n",
        "        \n",
        "        if done:           \n",
        "            if verbose:\n",
        "                print(\"Game end. End state: %s; Reward: %s\" % (observation, reward))\n",
        "            break\n",
        "            \n",
        "    return states, rewards\n",
        "\n",
        "\n",
        "def random_policy(observations, env):\n",
        "    return env.action_space.sample()"
      ],
      "execution_count": 0,
      "outputs": []
    },
    {
      "cell_type": "code",
      "metadata": {
        "id": "UHDx4D0sA8GQ",
        "colab_type": "code",
        "colab": {}
      },
      "source": [
        "def func_v(s, w):\n",
        "    \"\"\"\n",
        "    Construct a differentiable function v\n",
        "\n",
        "    Args:\n",
        "        s: State\n",
        "        w: d-dimension weight vector\n",
        "\n",
        "    Return:\n",
        "        v, grad_v\n",
        "    \"\"\"\n",
        "\n",
        "    assert s != 0\n",
        "    assert s != 1001\n",
        "    \n",
        "    if s % 100 == 0:\n",
        "        s_split = (s // 100) - 1\n",
        "    else:\n",
        "        s_split = s // 100\n",
        "\n",
        "    grad_v = np.zeros(10)\n",
        "    grad_v[s_split] = 1\n",
        "\n",
        "    return w[s_split], grad_v"
      ],
      "execution_count": 0,
      "outputs": []
    },
    {
      "cell_type": "code",
      "metadata": {
        "id": "nJ3aa9ou73v-",
        "colab_type": "code",
        "outputId": "741f6653-61d1-45b0-ee96-12fee7f9f91d",
        "colab": {
          "base_uri": "https://localhost:8080/",
          "height": 34
        }
      },
      "source": [
        "func_v(58, np.zeros(10))"
      ],
      "execution_count": 0,
      "outputs": [
        {
          "output_type": "execute_result",
          "data": {
            "text/plain": [
              "(0.0, array([1., 0., 0., 0., 0., 0., 0., 0., 0., 0.]))"
            ]
          },
          "metadata": {
            "tags": []
          },
          "execution_count": 266
        }
      ]
    },
    {
      "cell_type": "code",
      "metadata": {
        "id": "yc8llHzksJyV",
        "colab_type": "code",
        "colab": {}
      },
      "source": [
        "def grad_mc_with_state_aggregation(env, policy, func_v,\n",
        "                                   alpha=2e-5, gamma=1.0, num_episodes=10000):\n",
        "    \"\"\"\n",
        "    Gradient MC method with state aggregation\n",
        "    \n",
        "    1. Separate the 100 states into 10 groups of 100 states each (excluding terminal states)\n",
        "    2. Apply the Gradient Monte Carlo Algorithm\n",
        "    \"\"\"\n",
        "    \n",
        "    nS = env.observation_space.n\n",
        "    w = np.zeros(DIM_W)\n",
        "    \n",
        "    for i in range(num_episodes):\n",
        "        \n",
        "        if i % 5000 == 0:\n",
        "            print(\"Iteration %s. Current w: %s\" % (i, w))\n",
        "        \n",
        "        states, rewards = generate_episode_random(policy, env)\n",
        "#         print(states)\n",
        "        \n",
        "        G = np.sum(rewards)\n",
        "#         print(G)\n",
        "        \n",
        "        for t in range(len(states)):\n",
        "            \n",
        "            if states[t] == 0 or states[t] == 1001:\n",
        "                break\n",
        "            \n",
        "            v_hat, grad_v = func_v(states[t], w)\n",
        "#             G = gamma * G + rewards[t]\n",
        "            \n",
        "            # Update w\n",
        "            w += alpha * (G - v_hat) * grad_v\n",
        "            \n",
        "    return w  "
      ],
      "execution_count": 0,
      "outputs": []
    },
    {
      "cell_type": "code",
      "metadata": {
        "id": "sGY1kPnX6ua6",
        "colab_type": "code",
        "outputId": "90ff8f64-ad2f-4b1b-848b-1e89a31eb529",
        "colab": {
          "base_uri": "https://localhost:8080/",
          "height": 34
        }
      },
      "source": [
        "env = RandomWalkEnv(1002, 500)\n",
        "env.render()"
      ],
      "execution_count": 0,
      "outputs": [
        {
          "output_type": "stream",
          "text": [
            "Current position: 500"
          ],
          "name": "stdout"
        }
      ]
    },
    {
      "cell_type": "code",
      "metadata": {
        "id": "QaTWk-efBiAd",
        "colab_type": "code",
        "outputId": "722debe2-7234-4c03-d4d3-44af122877de",
        "colab": {
          "base_uri": "https://localhost:8080/",
          "height": 1394
        }
      },
      "source": [
        "%%time\n",
        "w = grad_mc_with_state_aggregation(env, random_policy, func_v, num_episodes=200000)"
      ],
      "execution_count": 0,
      "outputs": [
        {
          "output_type": "stream",
          "text": [
            "Iteration 0. Current w: [0. 0. 0. 0. 0. 0. 0. 0. 0. 0.]\n",
            "Iteration 5000. Current w: [-0.04863309 -0.16440897 -0.21729649 -0.17233404 -0.04503898  0.08806633\n",
            "  0.20180109  0.23988676  0.1751122   0.0506517 ]\n",
            "Iteration 10000. Current w: [-0.09628126 -0.30482712 -0.37042697 -0.26964865 -0.0870015   0.11563398\n",
            "  0.29094406  0.38019193  0.30627435  0.09764906]\n",
            "Iteration 15000. Current w: [-0.14112455 -0.40654129 -0.44085385 -0.29059225 -0.08209179  0.12379076\n",
            "  0.32394865  0.44882546  0.40510621  0.14254737]\n",
            "Iteration 20000. Current w: [-0.18392733 -0.48903045 -0.5031689  -0.33401853 -0.11318743  0.10267385\n",
            "  0.31675131  0.48020953  0.48239803  0.18527813]\n",
            "Iteration 25000. Current w: [-0.22520883 -0.55518839 -0.53062269 -0.34090285 -0.12196573  0.0866263\n",
            "  0.3055423   0.50211376  0.54503656  0.22536821]\n",
            "Iteration 30000. Current w: [-0.26387062 -0.60984951 -0.55669986 -0.34933284 -0.11442278  0.1033756\n",
            "  0.32318281  0.53722365  0.59861017  0.26376717]\n",
            "Iteration 35000. Current w: [-0.30014879 -0.6440596  -0.56004318 -0.34207877 -0.10449686  0.10710805\n",
            "  0.32813903  0.55128492  0.6432144   0.30075953]\n",
            "Iteration 40000. Current w: [-0.33505297 -0.67436709 -0.56988878 -0.35079545 -0.11628695  0.10592822\n",
            "  0.32925973  0.55131856  0.67411715  0.33552954]\n",
            "Iteration 45000. Current w: [-0.3689355  -0.70202662 -0.58226016 -0.36097926 -0.11977906  0.10595626\n",
            "  0.32180899  0.54984991  0.69602171  0.36793647]\n",
            "Iteration 50000. Current w: [-0.39985897 -0.71968229 -0.57172884 -0.350557   -0.09882461  0.11643764\n",
            "  0.3380035   0.54839567  0.7098703   0.39956513]\n",
            "Iteration 55000. Current w: [-0.42945561 -0.73300718 -0.56555337 -0.3406735  -0.10186947  0.11707826\n",
            "  0.3441636   0.55788498  0.72453741  0.42998498]\n",
            "Iteration 60000. Current w: [-0.457167   -0.73751539 -0.54546091 -0.30537573 -0.06929696  0.15429031\n",
            "  0.36846762  0.58044471  0.74810576  0.45874615]\n",
            "Iteration 65000. Current w: [-0.48384097 -0.74918598 -0.55424102 -0.32509193 -0.08379568  0.14276296\n",
            "  0.36734692  0.57832959  0.75632013  0.48603875]\n",
            "Iteration 70000. Current w: [-0.50974993 -0.75532297 -0.56039129 -0.33999845 -0.10576737  0.1120156\n",
            "  0.3467006   0.57560323  0.76544374  0.51135925]\n",
            "Iteration 75000. Current w: [-0.53384145 -0.76294628 -0.55792176 -0.3142421  -0.07198041  0.14449839\n",
            "  0.36633611  0.58301273  0.7724779   0.53598705]\n",
            "Iteration 80000. Current w: [-0.55660631 -0.76642896 -0.55857948 -0.3297774  -0.09265705  0.12104365\n",
            "  0.34464398  0.5672101   0.77194024  0.55932741]\n",
            "Iteration 85000. Current w: [-0.5785839  -0.77263965 -0.56528703 -0.34183206 -0.11773477  0.09664166\n",
            "  0.33901105  0.56446768  0.77528319  0.58113822]\n",
            "Iteration 90000. Current w: [-0.59956253 -0.77780399 -0.57032411 -0.3564048  -0.11309267  0.10950769\n",
            "  0.33475216  0.56572547  0.77679935  0.60187333]\n",
            "Iteration 95000. Current w: [-0.61944934 -0.77490719 -0.55197492 -0.32493299 -0.08262255  0.12889439\n",
            "  0.34940302  0.56996347  0.78197764  0.62167244]\n",
            "Iteration 100000. Current w: [-0.6382665  -0.77257871 -0.5499631  -0.32071099 -0.07690359  0.15061382\n",
            "  0.35617666  0.57505287  0.78279767  0.64055761]\n",
            "Iteration 105000. Current w: [-0.65644435 -0.77625959 -0.55695795 -0.34358753 -0.11448373  0.11013411\n",
            "  0.34283956  0.57541449  0.78354137  0.65794244]\n",
            "Iteration 110000. Current w: [-0.67360551 -0.78039094 -0.56763421 -0.35575539 -0.12275117  0.10738103\n",
            "  0.342977    0.56200409  0.78115726  0.67471021]\n",
            "Iteration 115000. Current w: [-0.69000036 -0.7863737  -0.56863782 -0.35922784 -0.13092252  0.0884933\n",
            "  0.33220729  0.56169326  0.77729553  0.69060557]\n",
            "Iteration 120000. Current w: [-0.70533831 -0.78498191 -0.56478266 -0.33958285 -0.10740692  0.10984495\n",
            "  0.35034094  0.56567054  0.77840331  0.70587796]\n",
            "Iteration 125000. Current w: [-0.72001903 -0.78805232 -0.56699336 -0.33638782 -0.10825944  0.10525\n",
            "  0.34539192  0.5664004   0.77949331  0.72017255]\n",
            "Iteration 130000. Current w: [-0.73409447 -0.78775588 -0.56750806 -0.34686354 -0.10853569  0.1147607\n",
            "  0.33956556  0.56334503  0.77930754  0.73391659]\n",
            "Iteration 135000. Current w: [-0.74728725 -0.78815187 -0.56379178 -0.3426054  -0.10908835  0.11709941\n",
            "  0.34708149  0.5686904   0.78294528  0.74707748]\n",
            "Iteration 140000. Current w: [-0.75995216 -0.78901457 -0.57750976 -0.35771123 -0.11927197  0.11979905\n",
            "  0.34918918  0.57391057  0.78863749  0.75941578]\n",
            "Iteration 145000. Current w: [-0.77194689 -0.78390215 -0.57293046 -0.35093622 -0.11322337  0.11243061\n",
            "  0.34147141  0.57126457  0.78898627  0.77133691]\n",
            "Iteration 150000. Current w: [-0.78307278 -0.78815681 -0.57298325 -0.34898359 -0.10587412  0.11087175\n",
            "  0.34557154  0.57886785  0.79043754  0.78287223]\n",
            "Iteration 155000. Current w: [-0.7940632  -0.78874225 -0.58029004 -0.3579473  -0.12457447  0.10331481\n",
            "  0.34164694  0.57295822  0.79256304  0.79326898]\n",
            "Iteration 160000. Current w: [-0.80438466 -0.78998771 -0.57924964 -0.36056908 -0.13045336  0.08740412\n",
            "  0.3211807   0.56764091  0.79365669  0.80317655]\n",
            "Iteration 165000. Current w: [-0.81404145 -0.79138052 -0.58067048 -0.3692049  -0.12961612  0.07365336\n",
            "  0.30985816  0.56373701  0.79409049  0.81281533]\n",
            "Iteration 170000. Current w: [-0.82314688 -0.78397631 -0.56787989 -0.34672625 -0.10826515  0.09880228\n",
            "  0.33179494  0.57292711  0.79173377  0.82211261]\n",
            "Iteration 175000. Current w: [-0.83202112 -0.78367898 -0.56659965 -0.34063237 -0.09852969  0.10358946\n",
            "  0.33526604  0.56214293  0.79180734  0.83069679]\n",
            "Iteration 180000. Current w: [-0.84041342 -0.7854224  -0.56712156 -0.34500064 -0.10143003  0.11539491\n",
            "  0.34482023  0.56212263  0.78715688  0.83896453]\n",
            "Iteration 185000. Current w: [-0.84821014 -0.78581375 -0.56380953 -0.33751926 -0.09829013  0.11026995\n",
            "  0.33352174  0.56686404  0.7883687   0.84693804]\n",
            "Iteration 190000. Current w: [-0.8556676  -0.78791528 -0.5613261  -0.33093275 -0.09596515  0.12323259\n",
            "  0.34248543  0.56878137  0.78850247  0.85437049]\n",
            "Iteration 195000. Current w: [-0.86267421 -0.78147997 -0.54784708 -0.31405184 -0.07711938  0.14556025\n",
            "  0.3546892   0.57096752  0.78912083  0.86154689]\n",
            "CPU times: user 35min 55s, sys: 303 ms, total: 35min 55s\n",
            "Wall time: 35min 55s\n"
          ],
          "name": "stdout"
        }
      ]
    },
    {
      "cell_type": "code",
      "metadata": {
        "id": "2q7hQifKBzhL",
        "colab_type": "code",
        "outputId": "556312d7-95a7-4d50-e6a6-89d1ea589ae5",
        "colab": {
          "base_uri": "https://localhost:8080/",
          "height": 51
        }
      },
      "source": [
        "w"
      ],
      "execution_count": 0,
      "outputs": [
        {
          "output_type": "execute_result",
          "data": {
            "text/plain": [
              "array([-0.86945075, -0.78101032, -0.55508357, -0.3435995 , -0.10807082,\n",
              "        0.1164297 ,  0.34210257,  0.56684471,  0.78756985,  0.86821532])"
            ]
          },
          "metadata": {
            "tags": []
          },
          "execution_count": 278
        }
      ]
    },
    {
      "cell_type": "code",
      "metadata": {
        "id": "NUy1IKHwquzx",
        "colab_type": "code",
        "colab": {}
      },
      "source": [
        "mc_approx = [func_v(x, w)[0] for x in np.arange(1, env.observation_space.n - 1)]"
      ],
      "execution_count": 0,
      "outputs": []
    },
    {
      "cell_type": "code",
      "metadata": {
        "id": "Pb_p7Dr2r0-L",
        "colab_type": "code",
        "colab": {}
      },
      "source": [
        "import pandas as pd"
      ],
      "execution_count": 0,
      "outputs": []
    },
    {
      "cell_type": "code",
      "metadata": {
        "id": "NNOBdbXMro2x",
        "colab_type": "code",
        "colab": {}
      },
      "source": [
        "data_preproc = pd.DataFrame({\"states\": np.arange(1, env.observation_space.n - 1),\n",
        "                             \"dp_value\": V[1:-1],\n",
        "                             \"mc_approx\": mc_approx})"
      ],
      "execution_count": 0,
      "outputs": []
    },
    {
      "cell_type": "code",
      "metadata": {
        "id": "x_n72VHUqcbz",
        "colab_type": "code",
        "outputId": "63978144-931d-4222-a3fa-f072879bfdc0",
        "colab": {
          "base_uri": "https://localhost:8080/",
          "height": 283
        }
      },
      "source": [
        "lp = sns.lineplot(x='states', y='value', hue='variable', \n",
        "                  data=pd.melt(data_preproc, [\"states\"]))"
      ],
      "execution_count": 0,
      "outputs": [
        {
          "output_type": "display_data",
          "data": {
            "image/png": "[encoded data removed]",
            "text/plain": [
              "<Figure size 432x288 with 1 Axes>"
            ]
          },
          "metadata": {
            "tags": []
          }
        }
      ]
    },
    {
      "cell_type": "markdown",
      "metadata": {
        "id": "ofZDGOhgWXGZ",
        "colab_type": "text"
      },
      "source": [
        "# Action-Value $Q(s,a)$ Function Approximation\n",
        "\n",
        "For policy control, we need to approximate the action-value function such that $\\hat{q}(s, a, \\vec{w}) \\approx q_*(s,a)$, where $\\vec{w} \\in \\mathop{\\mathbb{R}}^d$ is a finite-dimensional weight vector. \n",
        "\n",
        "In this section, we will cver the on-policy methods only."
      ]
    },
    {
      "cell_type": "markdown",
      "metadata": {
        "id": "8R4sGDtWZvNy",
        "colab_type": "text"
      },
      "source": [
        "### From approximating state value to action value\n",
        "\n",
        "The objective is to approximate the action value function\n",
        "\n",
        "\\begin{equation}\n",
        "\\hat{q}(S, A, \\vec{w}) \\approx q_{\\pi}(S, A)\n",
        "\\end{equation}\n",
        "\n",
        "We can use the same approach as approximating state value function, but change into action-value. Suppose there is a true action-value $q_{\\pi}(S,A)$\n",
        "\n",
        "The objective function becomes\n",
        "\\begin{equation}\n",
        "J(\\vec{w}) = \\mathop{\\mathbb{E_{\\pi}}}[(q_{\\pi}(S,A) - \\hat{q}(S, A, \\vec{w}))^2]\n",
        "\\end{equation}\n",
        "\n",
        "And, by using stochastic gradient descent to find a local minimum\n",
        "\n",
        "\\begin{equation}\n",
        "\\begin{split}\n",
        "-\\frac{1}{2} \\nabla_{\\vec{w}} J(\\vec{w}) &= (q_{\\pi}(S,A) - \\hat{q}(S, A, \\vec{w})) \\nabla_{\\vec{w}}\\hat{q}(S,A,\\vec{w})\\\\\n",
        "\\Delta \\vec{w} &= \\alpha [q_{\\pi}(S,A) - \\hat{q}(S,A,\\vec{w})] \\nabla_{\\vec{w}}\\hat{q}(S,A,\\vec{w})\n",
        "\\end{split}\n",
        "\\end{equation}\n",
        "\n",
        "### Approximation by using Linear methods\n",
        "Similarly, the action-value function can be represented by linear combinations of features\n",
        "\n",
        "\\begin{equation}\n",
        "\\hat{q}(S, A, \\vec{w}) = \\vec{x}(S,A)^T \\vec{w} = \\sum_{j=1}^{n} x_j(S,A) w_j\n",
        "\\end{equation}\n",
        "\n",
        "### The update process\n",
        "\\begin{equation}\n",
        "\\begin{split}\n",
        "\\nabla_{\\vec{w}} \\hat{q}(S, A, \\vec{w}) &= \\vec{x}(S,A) \\\\\n",
        "\\Delta \\vec{w} &= \\alpha [q_{\\pi}(S,A) - \\hat{q}(S, A, \\vec{w})]\\vec{x}(S,A)\n",
        "\\end{split}\n",
        "\\end{equation}"
      ]
    },
    {
      "cell_type": "markdown",
      "metadata": {
        "id": "318WsaoqgpOL",
        "colab_type": "text"
      },
      "source": [
        "## Incremental Control Algorithms\n",
        "\n",
        "Like prediction, we also need to substitute a target for $q_{\\pi}(S,A)$\n",
        "\n",
        "### 1. Monte Carlo Methods\n",
        "For Monte Carlo method, the target is the return $G_t$, or we can assign $U_t = G_t$.\n",
        "\n",
        "The gradient of the weight then become\n",
        "\\begin{equation}\n",
        "\\Delta{\\vec{w}} = \\alpha [G_t - \\hat{q}(S_t,A_t,\\vec{w_t})] \\nabla_{\\vec{w}}{\\hat{q}}(S_t, A_t, \\vec{w_t})\n",
        "\\end{equation}\n",
        "\n",
        "### 2. SARSA(0) Methods\n",
        "\n",
        "This method is called *episodic semi-gradient one-step SARSA*. For a constant policy, this method converges in the same way that TD(0) does, with the same kind of error bound.\n",
        "\n",
        "\\begin{equation}\n",
        "\\Delta{\\vec{w}} = \\alpha [R_{t+1} + \\gamma \\hat{q}(S_{t+1}, A_{t+1}, \\vec{w}) - \\hat{q}(S_t,A_t, \\vec{w_t})] \\nabla_{\\vec{w}}{\\hat{q}}(S_t, A_t, \\vec{w_t})\n",
        "\\end{equation}\n",
        "\n",
        "In order to form control methods, we need to plug the predicted action-value into the GPI framework. That is, for each possible action $a$ available in the current state $S_t$, we can compute $\\hat{q}(S_t, A_t, \\vec{w})$ and then find the greedy action $A_t^* = \\text{argmax}_a \\hat{q}(S_t, a, \\vec{w}_{t-1})$. Considering the on-policy method, the policy improvement can be done by changing the estimation policy to a soft approximation of the greedy policy, such as $\\epsilon$-greedy policy. \n",
        "\n",
        "##### Pseudocode\n",
        "---\n",
        "```\n",
        "Input: a differentiable action-value function parameterisation q_hat(state, action, weights) |-> score\n",
        "Algorithm parameters: stepsize alpha > 0, small eps > 0\n",
        "Initialise value-function weights (D-dimensional zero vector)\n",
        "\n",
        "Loop for each episode:\n",
        "       Initialise State and action of episode (eps-greedy)\n",
        "       \n",
        "       Loop for each step of episode:\n",
        "            Take action A, observe R, S'\n",
        "            \n",
        "            If S' is terminal:\n",
        "                    w = w + alpha * (R - q_hat(S, A, w)) * grad_q(S, A, w)\n",
        "                    break\n",
        "                    \n",
        "            Choose A' as a function of q_hat(S', ., w) (e.g. eps-greedy):\n",
        "                    w = w + alpha * (R + gamma * q_hat(S', A', w) - q(S', A', w)) * grad_q(S, A, w)\n",
        "                    \n",
        "                    S = S'\n",
        "                    A = A'\n",
        "```\n",
        "---\n",
        "\n",
        "### 3. SARSA($\\lambda$)\n",
        "\n",
        "##### Forward-view\n",
        "\\begin{equation}\n",
        "\\Delta w = \\alpha (q_t^{\\lambda} - \\hat{q}(S_t, A_t, \\vec{w})) \\nabla_{\\vec{w}} \\hat{q}(S_t, A_t, \\vec{w})\n",
        "\\end{equation}\n",
        "\n",
        "##### Backward-view\n",
        "\\begin{equation}\n",
        "\\begin{split}\n",
        "\\delta_t &= R_{t+1} + \\gamma \\hat{q}(S_{t+1}, A_{t+1}, \\vec{w}) - \\hat{q}(S_t, A_t, \\vec{w}) \\\\\n",
        "E_t &= \\gamma \\lambda E_{t-1} + \\nabla_{\\vec{w}}\\hat{q}(S_t, A_t, \\vec{w}) \\\\\n",
        "\\Delta{\\vec{w}} &= \\alpha \\delta_t E_t\n",
        "\\end{split}\n",
        "\\end{equation}\n",
        "\n",
        "### 4. Gradient TD\n",
        "Not covered here\n"
      ]
    },
    {
      "cell_type": "markdown",
      "metadata": {
        "id": "M-vw5dgLBnZS",
        "colab_type": "text"
      },
      "source": [
        "## Summary\n",
        "![Prediction convergence summary](https://raw.githubusercontent.com/RLWH/reinforcement-learning-notebook/master/images/prediction_algos_convergence_summary.png)\n",
        "\n",
        "![Control convergence summary](https://raw.githubusercontent.com/RLWH/reinforcement-learning-notebook/master/images/control_algo_convergence_summary.png)"
      ]
    },
    {
      "cell_type": "markdown",
      "metadata": {
        "id": "tsJQtslnBiEr",
        "colab_type": "text"
      },
      "source": [
        "# Exploiting the samples of data by using batch update\n",
        "\n",
        "## Stochastic Gradient Descent with Experience Replay\n",
        "\n",
        "Given expereince consisting of $\\langle \\text{state}, \\text{value} \\rangle$ pairs\n",
        "\\begin{equation}\n",
        "D = \\{\\langle s_1, v_1^{\\pi} \\rangle\\, \\langle s_2, v_2^{\\pi} \\rangle\\, ..., \\langle s_T, v_T^{\\pi} \\rangle\\}\n",
        "\\end{equation}\n",
        "\n",
        "##### Algorithm\n",
        "---\n",
        "```\n",
        "Repeat:\n",
        "\n",
        "    1. Sample state, value from experience\n",
        "    2. Apply stochastic gradient descent update\n",
        "    w = w + alpha * (v_pi - v_hat(s, w)) * grad_w v(s, w)\n",
        "    \n",
        "Until it converges to least square solution\n",
        "```\n",
        "---"
      ]
    },
    {
      "cell_type": "markdown",
      "metadata": {
        "id": "dbnVDi0sIXt4",
        "colab_type": "text"
      },
      "source": [
        "## Deep Q Network\n",
        "\n",
        "Boostraping methods, as discussed previously, are not stable when it comes to non-linear approximation methods. DQN uses two tricks to stabalise with NN\n",
        "1. Experience Replay\n",
        "2. Fixed Q-targets\n",
        "\n",
        "Method\n",
        "1. Take action $a_t$ according to $\\epsilon$-greedy policy\n",
        "2. Store transition ($s_t, a_t, r_{t+1}, s_{t+1}$) in replay memory $D$\n",
        "3. Sample random mini-batch of transitions ($s, a, r, s'$) from $D$\n",
        "4. **Compute Q-learning targets w.r.t old, fixed parameters $w^-$**\n",
        "5. Optimise MSE between Q-network and Q-learning agents\n",
        "\\begin{equation}\n",
        "LS(\\vec{w_i}) = \\mathop{\\mathbb{E_{s, a, r, s'}}} \\Big[ (r + \\gamma \\max_{a'}Q(s', a'; w_i^{-}) - Q(s, a; w_i))^2 \\Big]\n",
        "\\end{equation}"
      ]
    },
    {
      "cell_type": "markdown",
      "metadata": {
        "id": "cY0GrKgnQnig",
        "colab_type": "text"
      },
      "source": [
        "## One-step Linear Least Square Method for Linear approximators\n",
        "\n",
        "If the approximator is a linear approximator, we can use an analytical method to find out the least square method. \n",
        "\n",
        "\\begin{equation}\n",
        "\\begin{split}\n",
        "\\mathop{\\mathbb{E}}_D[\\Delta \\vec{w}] &= 0\\\\\n",
        "\\alpha\\sum_{t=1}^{T} \\vec{x}(s_t)(v_t^{\\pi} - x(s_t)^T\\vec{w}) &= 0 \\\\\n",
        "\\sum_{t=1}^{T} \\vec{x}(s_t)v_t^{\\pi} &= \\sum_{t=1}^{T} \\vec{x}(s_t) \\vec{x}(s_t)^T\\vec{w} \\\\\n",
        "\\vec{w} &= \\Big( \\sum_{t=1}^T \\vec{x}(s_t) \\vec{x}(s_t)^T \\Big)^{-1} \\sum_{t=1}^T \\vec{x}(s_t)v_t^{\\pi}\n",
        "\\end{split}\n",
        "\\end{equation}"
      ]
    },
    {
      "cell_type": "code",
      "metadata": {
        "id": "w-yk-2t1Wb5e",
        "colab_type": "code",
        "colab": {}
      },
      "source": [
        ""
      ],
      "execution_count": 0,
      "outputs": []
    }
  ]
}