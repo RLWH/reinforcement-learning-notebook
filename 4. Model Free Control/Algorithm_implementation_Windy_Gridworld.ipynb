{
  "nbformat": 4,
  "nbformat_minor": 0,
  "metadata": {
    "colab": {
      "name": "Algorithm implementation - Windy Gridworld.ipynb",
      "version": "0.3.2",
      "provenance": [],
      "collapsed_sections": [],
      "include_colab_link": true
    },
    "kernelspec": {
      "name": "python3",
      "display_name": "Python 3"
    }
  },
  "cells": [
    {
      "cell_type": "markdown",
      "metadata": {
        "id": "view-in-github",
        "colab_type": "text"
      },
      "source": [
        "<a href=\"https://colab.research.google.com/github/RLWH/reinforcement-learning-notebook/blob/master/4.%20Model%20Free%20Control/Algorithm_implementation_Windy_Gridworld.ipynb\" target=\"_parent\"><img src=\"https://colab.research.google.com/assets/colab-badge.svg\" alt=\"Open In Colab\"/></a>"
      ]
    },
    {
      "cell_type": "markdown",
      "metadata": {
        "id": "KvUUNwqEZ-Jp",
        "colab_type": "text"
      },
      "source": [
        "# Windy Gridworld"
      ]
    },
    {
      "cell_type": "markdown",
      "metadata": {
        "id": "qMZL81W7aB7s",
        "colab_type": "text"
      },
      "source": [
        "## The problem\n",
        "\n",
        "Similar to the gridworld problem but with a different setting:-\n",
        "- There is a crosswind running upward through the middle of the grid.\n",
        "- The actions are the standard four\n",
        "    - Up, Down, Right, Left\n",
        "- The strength of the wind is given below each column, in number of cells shifted upward. \n",
        "\n",
        "![Windy Gridworld](https://raw.githubusercontent.com/RLWH/reinforcement-learning-notebook/master/images/windy_gridworld/windy_gw.png)"
      ]
    },
    {
      "cell_type": "markdown",
      "metadata": {
        "id": "AukElt5HcVlE",
        "colab_type": "text"
      },
      "source": [
        "## The environment\n",
        "\n",
        "Clone from https://github.com/dennybritz/reinforcement-learning/blob/master/TD/Windy%20Gridworld%20Playground.ipynb"
      ]
    },
    {
      "cell_type": "code",
      "metadata": {
        "id": "du6SeGeEZM5R",
        "colab_type": "code",
        "cellView": "form",
        "colab": {}
      },
      "source": [
        "#@title Import Libraries\n",
        "import gym\n",
        "import numpy as np\n",
        "import sys\n",
        "import random\n",
        "import seaborn as sns\n",
        "from gym.envs.toy_text import discrete"
      ],
      "execution_count": 0,
      "outputs": []
    },
    {
      "cell_type": "code",
      "metadata": {
        "id": "aooo0f_4c2Dm",
        "colab_type": "code",
        "cellView": "form",
        "colab": {}
      },
      "source": [
        "#@title Environment Setup\n",
        "\n",
        "UP = 0\n",
        "RIGHT = 1\n",
        "DOWN = 2\n",
        "LEFT = 3\n",
        "\n",
        "class WindyGridworldEnv(discrete.DiscreteEnv):\n",
        "\n",
        "    metadata = {'render.modes': ['human', 'ansi']}\n",
        "\n",
        "    def _limit_coordinates(self, coord):\n",
        "        coord[0] = min(coord[0], self.shape[0] - 1)\n",
        "        coord[0] = max(coord[0], 0)\n",
        "        coord[1] = min(coord[1], self.shape[1] - 1)\n",
        "        coord[1] = max(coord[1], 0)\n",
        "        return coord\n",
        "\n",
        "    def _calculate_transition_prob(self, current, delta, winds):\n",
        "        new_position = np.array(current) + np.array(delta) + np.array([-1, 0]) * winds[tuple(current)]\n",
        "        new_position = self._limit_coordinates(new_position).astype(int)\n",
        "        new_state = np.ravel_multi_index(tuple(new_position), self.shape)\n",
        "        is_done = tuple(new_position) == (3, 7)\n",
        "        return [(1.0, new_state, -1.0, is_done)]\n",
        "\n",
        "    def __init__(self):\n",
        "        self.shape = (7, 10)\n",
        "\n",
        "        nS = np.prod(self.shape)\n",
        "        nA = 4\n",
        "\n",
        "        # Wind strength\n",
        "        winds = np.zeros(self.shape)\n",
        "        winds[:,[3,4,5,8]] = 1\n",
        "        winds[:,[6,7]] = 2\n",
        "\n",
        "        # Calculate transition probabilities\n",
        "        P = {}\n",
        "        for s in range(nS):\n",
        "            position = np.unravel_index(s, self.shape)\n",
        "            P[s] = { a : [] for a in range(nA) }\n",
        "            P[s][UP] = self._calculate_transition_prob(position, [-1, 0], winds)\n",
        "            P[s][RIGHT] = self._calculate_transition_prob(position, [0, 1], winds)\n",
        "            P[s][DOWN] = self._calculate_transition_prob(position, [1, 0], winds)\n",
        "            P[s][LEFT] = self._calculate_transition_prob(position, [0, -1], winds)\n",
        "\n",
        "        # We always start in state (3, 0)\n",
        "        isd = np.zeros(nS)\n",
        "        isd[np.ravel_multi_index((3,0), self.shape)] = 1.0\n",
        "\n",
        "        super(WindyGridworldEnv, self).__init__(nS, nA, P, isd)\n",
        "\n",
        "    def render(self, mode='human', close=False):\n",
        "        self._render(mode, close)\n",
        "\n",
        "    def _render(self, mode='human', close=False):\n",
        "        if close:\n",
        "            return\n",
        "\n",
        "        outfile = StringIO() if mode == 'ansi' else sys.stdout\n",
        "\n",
        "        for s in range(self.nS):\n",
        "            position = np.unravel_index(s, self.shape)\n",
        "            # print(self.s)\n",
        "            if self.s == s:\n",
        "                output = \" x \"\n",
        "            elif position == (3,7):\n",
        "                output = \" T \"\n",
        "            else:\n",
        "                output = \" o \"\n",
        "\n",
        "            if position[1] == 0:\n",
        "                output = output.lstrip()\n",
        "            if position[1] == self.shape[1] - 1:\n",
        "                output = output.rstrip()\n",
        "                output += \"\\n\"\n",
        "\n",
        "            outfile.write(output)\n",
        "        outfile.write(\"\\n\")"
      ],
      "execution_count": 0,
      "outputs": []
    },
    {
      "cell_type": "markdown",
      "metadata": {
        "id": "dE21nEAFfAef",
        "colab_type": "text"
      },
      "source": [
        "## Environment try out"
      ]
    },
    {
      "cell_type": "code",
      "metadata": {
        "id": "4m9Qh7HTc4oW",
        "colab_type": "code",
        "colab": {}
      },
      "source": [
        "# Try out the environment\n",
        "env = WindyGridworldEnv()"
      ],
      "execution_count": 0,
      "outputs": []
    },
    {
      "cell_type": "code",
      "metadata": {
        "id": "Oy-Wi5VPdfhD",
        "colab_type": "code",
        "outputId": "11d0ebe5-70c0-48de-f83a-789074396578",
        "colab": {
          "base_uri": "https://localhost:8080/",
          "height": 170
        }
      },
      "source": [
        "env.reset()\n",
        "print(env.render())"
      ],
      "execution_count": 0,
      "outputs": [
        {
          "output_type": "stream",
          "text": [
            "o  o  o  o  o  o  o  o  o  o\n",
            "o  o  o  o  o  o  o  o  o  o\n",
            "o  o  o  o  o  o  o  o  o  o\n",
            "x  o  o  o  o  o  o  T  o  o\n",
            "o  o  o  o  o  o  o  o  o  o\n",
            "o  o  o  o  o  o  o  o  o  o\n",
            "o  o  o  o  o  o  o  o  o  o\n",
            "\n",
            "None\n"
          ],
          "name": "stdout"
        }
      ]
    },
    {
      "cell_type": "code",
      "metadata": {
        "id": "U0kslb-deKpo",
        "colab_type": "code",
        "outputId": "6bf1ecb2-e5d0-4e94-d657-ba3050c97f97",
        "colab": {
          "base_uri": "https://localhost:8080/",
          "height": 170
        }
      },
      "source": [
        "env.step(1)\n",
        "print(env.render())"
      ],
      "execution_count": 0,
      "outputs": [
        {
          "output_type": "stream",
          "text": [
            "o  o  o  o  o  o  o  o  x  o\n",
            "o  o  o  o  o  o  o  o  o  o\n",
            "o  o  o  o  o  o  o  o  o  o\n",
            "o  o  o  o  o  o  o  T  o  o\n",
            "o  o  o  o  o  o  o  o  o  o\n",
            "o  o  o  o  o  o  o  o  o  o\n",
            "o  o  o  o  o  o  o  o  o  o\n",
            "\n",
            "None\n"
          ],
          "name": "stdout"
        }
      ]
    },
    {
      "cell_type": "code",
      "metadata": {
        "id": "o5jiTkrbhEw9",
        "colab_type": "code",
        "outputId": "e56e97d6-cfc1-4672-eb73-45049cc9c900",
        "colab": {
          "base_uri": "https://localhost:8080/",
          "height": 34
        }
      },
      "source": [
        "env.observation_space.n"
      ],
      "execution_count": 0,
      "outputs": [
        {
          "output_type": "execute_result",
          "data": {
            "text/plain": [
              "70"
            ]
          },
          "metadata": {
            "tags": []
          },
          "execution_count": 67
        }
      ]
    },
    {
      "cell_type": "code",
      "metadata": {
        "id": "CQZwATZUhGnn",
        "colab_type": "code",
        "outputId": "17e57091-8f43-4274-dfe1-9ae6b96d327e",
        "colab": {
          "base_uri": "https://localhost:8080/",
          "height": 34
        }
      },
      "source": [
        "env.action_space.n"
      ],
      "execution_count": 0,
      "outputs": [
        {
          "output_type": "execute_result",
          "data": {
            "text/plain": [
              "4"
            ]
          },
          "metadata": {
            "tags": []
          },
          "execution_count": 68
        }
      ]
    },
    {
      "cell_type": "markdown",
      "metadata": {
        "id": "9W6CRtcGfDZF",
        "colab_type": "text"
      },
      "source": [
        "# Algorithms"
      ]
    },
    {
      "cell_type": "markdown",
      "metadata": {
        "id": "J4zSlFahf7w4",
        "colab_type": "text"
      },
      "source": [
        "#### Libraries"
      ]
    },
    {
      "cell_type": "code",
      "metadata": {
        "id": "1xkiCKwjf9w2",
        "colab_type": "code",
        "colab": {}
      },
      "source": [
        "def random_policy(observations, env):\n",
        "    return env.action_space.sample()"
      ],
      "execution_count": 0,
      "outputs": []
    },
    {
      "cell_type": "code",
      "metadata": {
        "id": "67wWQqPogX9p",
        "colab_type": "code",
        "colab": {}
      },
      "source": [
        "def epsilon_greedy_policy(qs, env, eps=1e-3):\n",
        "    \"\"\"\n",
        "    Epsilon Greedy Policy\n",
        "    \"\"\"\n",
        "    if random.uniform(0, 1) < eps:\n",
        "        return env.action_space.sample()\n",
        "    else:\n",
        "        return np.argmax(qs)"
      ],
      "execution_count": 0,
      "outputs": []
    },
    {
      "cell_type": "markdown",
      "metadata": {
        "id": "yl5qDCCs-7Nv",
        "colab_type": "text"
      },
      "source": [
        "## MC Control Learning Agent"
      ]
    },
    {
      "cell_type": "code",
      "metadata": {
        "id": "HHPUqoTeeRa8",
        "colab_type": "code",
        "cellView": "code",
        "colab": {}
      },
      "source": [
        "#@title MC Control Learning Agent\n",
        "\n",
        "def generate_episode_random(env, verbose=False):\n",
        "    \"\"\"\n",
        "    Generate a sequence according to the policy\n",
        "    \"\"\"\n",
        "    \n",
        "    states, actions, rewards = [], [], []\n",
        "    \n",
        "    observation = env.reset()\n",
        "    while True:\n",
        "        if verbose:\n",
        "            print_observation(observation)\n",
        "        states.append(observation)\n",
        "        action = random_policy(observation, env)\n",
        "        if verbose:\n",
        "            print(\"Action taken: %s\" % action)\n",
        "        actions.append(action)\n",
        "        observation, reward, done, info = env.step(action)\n",
        "        rewards.append(reward)\n",
        "        \n",
        "        if done:\n",
        "            if verbose:\n",
        "                print(\"Game end. End state: %s; Reward: %s\" % (observation, reward))\n",
        "            break\n",
        "            \n",
        "    return states, actions, rewards\n",
        "\n",
        "def mc_control(env, num_episodes=200, gamma=1.0, eps=0.3):\n",
        "    \"\"\"\n",
        "    Monte Carlo Control Policy\n",
        "    \"\"\"\n",
        "    \n",
        "    Q = np.zeros([env.observation_space.n, env.action_space.n])\n",
        "    N = np.zeros([env.observation_space.n, env.action_space.n])\n",
        "    \n",
        "    for i in range(num_episodes):\n",
        "        \n",
        "        if i % 50 == 0:\n",
        "            print(\"%s/%s episodes done.\" % (i, num_episodes))\n",
        "        \n",
        "        states, actions, rewards = generate_episode_random(env)\n",
        "        \n",
        "        G = 0\n",
        "        \n",
        "        for t in range(len(states)):\n",
        "            R = rewards[t]\n",
        "            A = actions[t]\n",
        "            S = states[t]\n",
        "            G = gamma * G + R\n",
        "            \n",
        "            # Track only the first visit\n",
        "            if (S, A) not in zip(states[:t], actions[:t]):\n",
        "                N[S][A] += 1\n",
        "                Q[S][A] += (G + Q[S][A]) / N[S][A]\n",
        "                \n",
        "    return Q    "
      ],
      "execution_count": 0,
      "outputs": []
    },
    {
      "cell_type": "code",
      "metadata": {
        "id": "el64SSFbrfyl",
        "colab_type": "code",
        "outputId": "7c3385a9-9086-4584-f408-26736371737e",
        "colab": {
          "base_uri": "https://localhost:8080/",
          "height": 119
        }
      },
      "source": [
        "%%time\n",
        "Q = mc_control(env)"
      ],
      "execution_count": 0,
      "outputs": [
        {
          "output_type": "stream",
          "text": [
            "0/200 episodes done.\n",
            "50/200 episodes done.\n",
            "100/200 episodes done.\n",
            "150/200 episodes done.\n",
            "CPU times: user 1min 39s, sys: 26 ms, total: 1min 39s\n",
            "Wall time: 1min 39s\n"
          ],
          "name": "stdout"
        }
      ]
    },
    {
      "cell_type": "code",
      "metadata": {
        "id": "BJhGBsGYuH3c",
        "colab_type": "code",
        "outputId": "40d88786-9b47-4993-aed5-c2666fbbf869",
        "colab": {
          "base_uri": "https://localhost:8080/",
          "height": 34
        }
      },
      "source": [
        "env.reset()"
      ],
      "execution_count": 0,
      "outputs": [
        {
          "output_type": "execute_result",
          "data": {
            "text/plain": [
              "30"
            ]
          },
          "metadata": {
            "tags": []
          },
          "execution_count": 29
        }
      ]
    },
    {
      "cell_type": "markdown",
      "metadata": {
        "id": "sx2JObHA-_cz",
        "colab_type": "text"
      },
      "source": [
        "## SARSA(0) Learning Agent"
      ]
    },
    {
      "cell_type": "code",
      "metadata": {
        "id": "835-uG5-fNW7",
        "colab_type": "code",
        "cellView": "code",
        "colab": {}
      },
      "source": [
        "#@title SARSA(0) Learning Agent\n",
        "\n",
        "def sarsa_update(env, num_episodes, alpha=0.9, gamma=1.0, eps=0.3):\n",
        "    \"\"\"\n",
        "    SARSA(0) update algorithm\n",
        "    \"\"\"\n",
        "    \n",
        "    # Initialise Q(s,a) for all states\n",
        "    Q = np.zeros([env.observation_space.n, env.action_space.n])\n",
        "    ep_length_list = []\n",
        "    \n",
        "    for i in range(num_episodes):\n",
        "        \n",
        "        S = env.reset()\n",
        "        # Select an action from the policy\n",
        "        A = epsilon_greedy_policy(Q[S], env, eps=eps)     \n",
        "        \n",
        "        ep_length = 0\n",
        "        \n",
        "        while True:\n",
        "\n",
        "            # Step, get next state and reward\n",
        "            NS, R, done, _ = env.step(A)\n",
        "            \n",
        "            # Select the next action by given next state\n",
        "            next_A = epsilon_greedy_policy(Q[NS], env, eps=eps)\n",
        "            \n",
        "            # Update Q\n",
        "            Q[S][A] += alpha * (R + gamma * Q[NS][next_A] - Q[S][A])\n",
        "            \n",
        "            if done:\n",
        "                ep_length_list.append(ep_length)\n",
        "                break\n",
        "            \n",
        "            # Update state and action\n",
        "            S = NS\n",
        "            A = next_A\n",
        "            \n",
        "            # Add ep length\n",
        "            ep_length += 1\n",
        "            \n",
        "    return Q, ep_length_list        "
      ],
      "execution_count": 0,
      "outputs": []
    },
    {
      "cell_type": "code",
      "metadata": {
        "id": "FmO8tPb-vyuv",
        "colab_type": "code",
        "outputId": "2250f436-3297-4eec-f0b1-0332b1ee2517",
        "colab": {
          "base_uri": "https://localhost:8080/",
          "height": 51
        }
      },
      "source": [
        "%%time\n",
        "Q, ep_length_list = sarsa_update(env, num_episodes=10000, alpha=0.5, eps=0.1)"
      ],
      "execution_count": 0,
      "outputs": [
        {
          "output_type": "stream",
          "text": [
            "CPU times: user 2.64 s, sys: 991 µs, total: 2.65 s\n",
            "Wall time: 2.65 s\n"
          ],
          "name": "stdout"
        }
      ]
    },
    {
      "cell_type": "code",
      "metadata": {
        "id": "uOpSBMGL86nN",
        "colab_type": "code",
        "outputId": "dc95626c-9952-47f8-ccf7-1eaf1d88624c",
        "colab": {
          "base_uri": "https://localhost:8080/",
          "height": 286
        }
      },
      "source": [
        "sns.lineplot(data=np.array(ep_length_list))"
      ],
      "execution_count": 0,
      "outputs": [
        {
          "output_type": "execute_result",
          "data": {
            "text/plain": [
              "<matplotlib.axes._subplots.AxesSubplot at 0x7f4b8555bc18>"
            ]
          },
          "metadata": {
            "tags": []
          },
          "execution_count": 102
        },
        {
          "output_type": "display_data",
          "data": {
            "image/png": "[encoded data removed]",
            "text/plain": [
              "<Figure size 432x288 with 1 Axes>"
            ]
          },
          "metadata": {
            "tags": []
          }
        }
      ]
    },
    {
      "cell_type": "code",
      "metadata": {
        "id": "ID1rlAlgv6wx",
        "colab_type": "code",
        "outputId": "ef31fe5c-cfd0-4cf4-ccde-053fead581e3",
        "colab": {
          "base_uri": "https://localhost:8080/",
          "height": 136
        }
      },
      "source": [
        "# Show Policy\n",
        "np.argmax(Q, axis=1).reshape(7, 10)"
      ],
      "execution_count": 0,
      "outputs": [
        {
          "output_type": "execute_result",
          "data": {
            "text/plain": [
              "array([[1, 1, 1, 1, 1, 1, 1, 1, 1, 2],\n",
              "       [3, 1, 1, 1, 1, 1, 0, 2, 3, 2],\n",
              "       [1, 1, 1, 1, 1, 1, 1, 0, 1, 2],\n",
              "       [0, 0, 0, 1, 1, 0, 1, 0, 1, 2],\n",
              "       [1, 1, 1, 1, 1, 1, 0, 2, 3, 3],\n",
              "       [1, 2, 2, 0, 1, 0, 0, 2, 3, 2],\n",
              "       [1, 1, 1, 1, 0, 0, 0, 0, 0, 3]])"
            ]
          },
          "metadata": {
            "tags": []
          },
          "execution_count": 104
        }
      ]
    },
    {
      "cell_type": "markdown",
      "metadata": {
        "id": "MC0Nl7J-_MPq",
        "colab_type": "text"
      },
      "source": [
        "## SARSA($\\lambda$) Learning Agent - Backward approach"
      ]
    },
    {
      "cell_type": "code",
      "metadata": {
        "id": "e54SVKxBfqbm",
        "colab_type": "code",
        "cellView": "code",
        "colab": {}
      },
      "source": [
        "def sarsa_lambda(env, num_episodes, alpha=0.5, lam=0.1, gamma=1.0, eps=0.1):\n",
        "    \"\"\"\n",
        "    SARSA Lambda algorithm - Backward\n",
        "    \"\"\"\n",
        "    \n",
        "    Q = np.zeros([env.observation_space.n, env.action_space.n])\n",
        "    ep_length_list = []\n",
        "    \n",
        "    for i in range(num_episodes):\n",
        "        \n",
        "        # Initialise eligibility trace\n",
        "        E = np.zeros([env.observation_space.n, env.action_space.n])\n",
        "        \n",
        "        # Initialise S, A\n",
        "        S = env.reset()\n",
        "        A = epsilon_greedy_policy(Q[S], env, eps=eps)\n",
        "        \n",
        "        # Initialise ep_length\n",
        "        ep_length = 0\n",
        "        \n",
        "        while True:\n",
        "            \n",
        "            # Step to get next state and rewards\n",
        "            NS, R, done, _ = env.step(A)\n",
        "            \n",
        "            # Next action by eps-greedy\n",
        "            NA = epsilon_greedy_policy(Q[NS], env, eps=eps)\n",
        "            \n",
        "            # Calculate TD arror\n",
        "            delta = R + gamma * Q[NS][NA] - Q[S][A]\n",
        "            \n",
        "            # Add the eligibility trace\n",
        "            E[S][A] += 1\n",
        "            \n",
        "            # Update the Q value by eligibility trace\n",
        "            Q += alpha * delta * E\n",
        "            E = gamma * lam * E\n",
        "            \n",
        "            if done:\n",
        "                ep_length_list.append(ep_length)\n",
        "                break\n",
        "                \n",
        "            S = NS\n",
        "            A = NA\n",
        "            \n",
        "            # Add ep length\n",
        "            ep_length += 1\n",
        "\n",
        "    return Q, ep_length_list\n",
        "            "
      ],
      "execution_count": 0,
      "outputs": []
    },
    {
      "cell_type": "code",
      "metadata": {
        "id": "IxPp2n-NIKzq",
        "colab_type": "code",
        "outputId": "17c5d305-f881-4df0-9a68-4c7194a41e04",
        "colab": {
          "base_uri": "https://localhost:8080/",
          "height": 51
        }
      },
      "source": [
        "%%time\n",
        "Q, ep_length_list = sarsa_lambda(env, num_episodes=10000, lam=0.1, alpha=0.5, eps=0.1)"
      ],
      "execution_count": 0,
      "outputs": [
        {
          "output_type": "stream",
          "text": [
            "CPU times: user 3.57 s, sys: 2.13 ms, total: 3.58 s\n",
            "Wall time: 3.58 s\n"
          ],
          "name": "stdout"
        }
      ]
    },
    {
      "cell_type": "code",
      "metadata": {
        "id": "1R-C_uQDIewC",
        "colab_type": "code",
        "outputId": "aefb9b49-7e19-4b4f-e43c-a740c8805f5b",
        "colab": {
          "base_uri": "https://localhost:8080/",
          "height": 287
        }
      },
      "source": [
        "sns.lineplot(data=np.array(ep_length_list))"
      ],
      "execution_count": 0,
      "outputs": [
        {
          "output_type": "execute_result",
          "data": {
            "text/plain": [
              "<matplotlib.axes._subplots.AxesSubplot at 0x7f368ab5feb8>"
            ]
          },
          "metadata": {
            "tags": []
          },
          "execution_count": 13
        },
        {
          "output_type": "display_data",
          "data": {
            "image/png": "[encoded data removed]",
            "text/plain": [
              "<Figure size 432x288 with 1 Axes>"
            ]
          },
          "metadata": {
            "tags": []
          }
        }
      ]
    },
    {
      "cell_type": "code",
      "metadata": {
        "id": "-V1KjEYYIgve",
        "colab_type": "code",
        "outputId": "ad2d04ab-e404-4529-a91b-64bc02bd0a72",
        "colab": {
          "base_uri": "https://localhost:8080/",
          "height": 136
        }
      },
      "source": [
        "# Show Policy\n",
        "np.argmax(Q, axis=1).reshape(7, 10)"
      ],
      "execution_count": 0,
      "outputs": [
        {
          "output_type": "execute_result",
          "data": {
            "text/plain": [
              "array([[2, 1, 1, 1, 1, 1, 1, 1, 1, 2],\n",
              "       [1, 1, 1, 1, 1, 1, 0, 1, 3, 2],\n",
              "       [1, 1, 1, 1, 1, 1, 1, 1, 0, 2],\n",
              "       [1, 1, 1, 1, 1, 1, 3, 0, 1, 2],\n",
              "       [1, 1, 2, 1, 1, 1, 0, 2, 3, 3],\n",
              "       [1, 1, 1, 1, 0, 0, 0, 2, 1, 2],\n",
              "       [2, 0, 1, 1, 0, 0, 0, 0, 3, 3]])"
            ]
          },
          "metadata": {
            "tags": []
          },
          "execution_count": 14
        }
      ]
    },
    {
      "cell_type": "markdown",
      "metadata": {
        "id": "haT1ed4nIrfQ",
        "colab_type": "text"
      },
      "source": [
        "## Q-learning Agent"
      ]
    },
    {
      "cell_type": "code",
      "metadata": {
        "id": "ekwHXa89fy5S",
        "colab_type": "code",
        "cellView": "both",
        "colab": {}
      },
      "source": [
        "def q_learning_agent(env, num_episodes, alpha=0.5, gamma=1.0, eps=0.1):\n",
        "    \"\"\"\n",
        "    Q-learning agent\n",
        "    Target policy always greedy\n",
        "    Behavioural policy always eps-greedy\n",
        "    \"\"\"\n",
        "    \n",
        "    Q = np.zeros([env.observation_space.n, env.action_space.n])\n",
        "    ep_length_list = []\n",
        "    \n",
        "    for i in num_episodes:\n",
        "        \n",
        "        S = env.reset()\n",
        "        ep_length = 0\n",
        "        \n",
        "        while True:\n",
        "            \n",
        "            # Sample A from eps-greedy policy\n",
        "            A = epsilon_greedy_policy(Q[S], env, eps=eps)\n",
        "            \n",
        "            # Step to get next state and reward\n",
        "            NS, R, done, _ = env.step(A)\n",
        "            \n",
        "            # Sample a from greedy policy by given next state\n",
        "            a = epsilon_greedy_policy(Q[NS], env, eps=-1)\n",
        "            \n",
        "            # Update Q\n",
        "            Q[S][A] += alpha * (R + gamma * Q[NS][a] - Q[S][A])\n",
        "            \n",
        "            if done:\n",
        "                ep_length_list.append(ep_length)\n",
        "                break\n",
        "                \n",
        "            S = NS\n",
        "            ep_length += 1\n",
        "    \n",
        "    return Q, ep_length_list"
      ],
      "execution_count": 0,
      "outputs": []
    },
    {
      "cell_type": "code",
      "metadata": {
        "id": "oIMpeJlhRjHO",
        "colab_type": "code",
        "outputId": "31450233-aa0a-4552-923f-a1b57b98a756",
        "colab": {
          "base_uri": "https://localhost:8080/",
          "height": 51
        }
      },
      "source": [
        "%%time\n",
        "Q, ep_length_list = sarsa_lambda(env, num_episodes=10000, alpha=0.5, eps=0.1)"
      ],
      "execution_count": 0,
      "outputs": [
        {
          "output_type": "stream",
          "text": [
            "CPU times: user 3.99 s, sys: 4.16 ms, total: 3.99 s\n",
            "Wall time: 3.99 s\n"
          ],
          "name": "stdout"
        }
      ]
    },
    {
      "cell_type": "code",
      "metadata": {
        "id": "JvzPIn09RqbH",
        "colab_type": "code",
        "outputId": "f8dff43c-debc-477f-e297-20edfd727e02",
        "colab": {
          "base_uri": "https://localhost:8080/",
          "height": 286
        }
      },
      "source": [
        "sns.lineplot(data=np.array(ep_length_list))"
      ],
      "execution_count": 0,
      "outputs": [
        {
          "output_type": "execute_result",
          "data": {
            "text/plain": [
              "<matplotlib.axes._subplots.AxesSubplot at 0x7f3688222438>"
            ]
          },
          "metadata": {
            "tags": []
          },
          "execution_count": 19
        },
        {
          "output_type": "display_data",
          "data": {
            "image/png": "[encoded data removed]",
            "text/plain": [
              "<Figure size 432x288 with 1 Axes>"
            ]
          },
          "metadata": {
            "tags": []
          }
        }
      ]
    },
    {
      "cell_type": "code",
      "metadata": {
        "id": "sqkLga5ZRsDr",
        "colab_type": "code",
        "outputId": "0a18f7d9-edda-40af-d682-a57ce8882dc7",
        "colab": {
          "base_uri": "https://localhost:8080/",
          "height": 136
        }
      },
      "source": [
        "# Show Policy\n",
        "np.argmax(Q, axis=1).reshape(7, 10)"
      ],
      "execution_count": 0,
      "outputs": [
        {
          "output_type": "execute_result",
          "data": {
            "text/plain": [
              "array([[1, 1, 1, 1, 1, 1, 1, 1, 1, 2],\n",
              "       [1, 1, 1, 1, 1, 1, 1, 2, 1, 2],\n",
              "       [1, 0, 1, 1, 1, 1, 1, 0, 0, 2],\n",
              "       [1, 1, 1, 1, 1, 1, 1, 0, 1, 2],\n",
              "       [1, 1, 1, 1, 1, 1, 0, 2, 3, 3],\n",
              "       [2, 1, 1, 1, 1, 0, 0, 1, 1, 3],\n",
              "       [1, 1, 1, 1, 0, 0, 0, 0, 2, 0]])"
            ]
          },
          "metadata": {
            "tags": []
          },
          "execution_count": 20
        }
      ]
    }
  ]
}