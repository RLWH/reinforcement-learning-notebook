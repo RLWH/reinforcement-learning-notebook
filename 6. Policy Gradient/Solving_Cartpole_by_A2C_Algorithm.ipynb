{
 "cells": [
  {
   "cell_type": "markdown",
   "metadata": {
    "colab_type": "text",
    "id": "view-in-github"
   },
   "source": [
    "<a href=\"https://colab.research.google.com/github/RLWH/reinforcement-learning-notebook/blob/master/6.%20Policy%20Gradient/Solving_Cartpole_by_A2C_Algorithm.ipynb\" target=\"_parent\"><img src=\"https://colab.research.google.com/assets/colab-badge.svg\" alt=\"Open In Colab\"/></a>"
   ]
  },
  {
   "cell_type": "markdown",
   "metadata": {
    "colab_type": "text",
    "id": "vFkwgNu42Zpb"
   },
   "source": [
    "# Solving Cartpole by A2C Algorithm"
   ]
  },
  {
   "cell_type": "code",
   "execution_count": 2,
   "metadata": {
    "cellView": "form",
    "colab": {
     "base_uri": "https://localhost:8080/",
     "height": 34
    },
    "colab_type": "code",
    "id": "QLMKwdvv2rBX",
    "outputId": "5abd8d0c-e94c-4c31-a315-2b71c227e67f"
   },
   "outputs": [],
   "source": [
    "#@title Wrapper function for openai gym rendering\n",
    "import gym\n",
    "import matplotlib\n",
    "import matplotlib.pyplot as plt\n",
    "import glob\n",
    "import io\n",
    "import base64\n",
    "import numpy as np\n",
    "\n",
    "from gym import logger as gymlogger\n",
    "from gym.wrappers import Monitor\n",
    "\n",
    "%matplotlib inline\n"
   ]
  },
  {
   "cell_type": "markdown",
   "metadata": {
    "colab_type": "text",
    "id": "oloPheFf2wg0"
   },
   "source": [
    "## Setup the environment"
   ]
  },
  {
   "cell_type": "code",
   "execution_count": 3,
   "metadata": {
    "colab": {},
    "colab_type": "code",
    "id": "F06B_mEw2z91"
   },
   "outputs": [],
   "source": [
    "env = gym.make(\"CartPole-v0\")"
   ]
  },
  {
   "cell_type": "code",
   "execution_count": 4,
   "metadata": {
    "colab": {
     "base_uri": "https://localhost:8080/",
     "height": 51
    },
    "colab_type": "code",
    "id": "wKRCguBK8c6B",
    "outputId": "d3d82019-c8c6-4eec-ab11-95446f6c6b4b"
   },
   "outputs": [
    {
     "name": "stdout",
     "output_type": "stream",
     "text": [
      "Observation space: 4\n",
      "Action space: 2\n"
     ]
    }
   ],
   "source": [
    "print(\"Observation space: %s\" % env.observation_space.shape[0])\n",
    "print(\"Action space: %s\" % env.action_space.n)"
   ]
  },
  {
   "cell_type": "code",
   "execution_count": 5,
   "metadata": {
    "colab": {},
    "colab_type": "code",
    "id": "ftmTGsQI8ggL"
   },
   "outputs": [],
   "source": [
    "GLOBAL_STEP = env.env.spec.max_episode_steps\n",
    "SCORE_REQUIREMENT = -198\n",
    "NUM_EPISODES = 10000"
   ]
  },
  {
   "cell_type": "code",
   "execution_count": 6,
   "metadata": {},
   "outputs": [
    {
     "data": {
      "text/plain": [
       "200"
      ]
     },
     "execution_count": 6,
     "metadata": {},
     "output_type": "execute_result"
    }
   ],
   "source": [
    "GLOBAL_STEP"
   ]
  },
  {
   "cell_type": "markdown",
   "metadata": {
    "colab_type": "text",
    "id": "U4arnz_SBGo1"
   },
   "source": [
    "## Setup the network"
   ]
  },
  {
   "cell_type": "code",
   "execution_count": 7,
   "metadata": {
    "colab": {},
    "colab_type": "code",
    "id": "WJUSzUFzBLJl"
   },
   "outputs": [],
   "source": [
    "import torch\n",
    "import torch.nn as nn\n",
    "import torch.nn.functional as F\n",
    "\n",
    "from collections import deque\n",
    "from torch.distributions import Categorical"
   ]
  },
  {
   "cell_type": "code",
   "execution_count": 8,
   "metadata": {
    "colab": {},
    "colab_type": "code",
    "id": "QWBXuuRgAY6w"
   },
   "outputs": [],
   "source": [
    "class PolicyNetwork(nn.Module):\n",
    "    \"\"\"\n",
    "    Policy Network -> Update the policy gradient\n",
    "    \"\"\"\n",
    "    \n",
    "    def __init__(self, state_size, action_size, fc1_units=16):\n",
    "        super().__init__()\n",
    "        \n",
    "        self.fc1 = nn.Linear(state_size, fc1_units)\n",
    "        self.fc2 = nn.Linear(fc1_units, action_size)\n",
    "        self.logsoftmax = nn.LogSoftmax(dim=0)\n",
    "#         self.fc3 = nn.Linear(fc2_units, action_size)\n",
    "        \n",
    "        self.dropout1 = nn.Dropout(p=0.5)\n",
    "        self.dropout2 = nn.Dropout(p=0.5)\n",
    "        \n",
    "    def forward(self, x):\n",
    "        \"\"\"\n",
    "        Forward pass\n",
    "        Essentially, the forward pass return the Q value\n",
    "        \"\"\"\n",
    "        x = F.relu(self.fc1(x))\n",
    "#         x = self.dropout1(x)\n",
    "        x = F.softmax(self.fc2(x), dim=-1)\n",
    "        \n",
    "        return x"
   ]
  },
  {
   "cell_type": "code",
   "execution_count": 9,
   "metadata": {
    "colab": {},
    "colab_type": "code",
    "id": "3hAlDfYKBJQZ"
   },
   "outputs": [],
   "source": [
    "class ValueNetwork(nn.Module):\n",
    "    \"\"\"\n",
    "    Policy Network\n",
    "    \"\"\"\n",
    "    \n",
    "    def __init__(self, state_size, fc1_units=16):\n",
    "        super().__init__()\n",
    "        \n",
    "        self.fc1 = nn.Linear(state_size, fc1_units)\n",
    "        self.fc2 = nn.Linear(fc1_units, 1)\n",
    "        \n",
    "        self.dropout1 = nn.Dropout(p=0.5)\n",
    "        self.dropout2 = nn.Dropout(p=0.5)\n",
    "        \n",
    "    def forward(self, x):\n",
    "        \"\"\"\n",
    "        Forward pass\n",
    "        Essentially, the forward pass return the Q value\n",
    "        \"\"\"\n",
    "        x = F.relu(self.fc1(x))\n",
    "#         x = self.dropout1(x)\n",
    "        x = self.fc2(x)\n",
    "        \n",
    "        return x"
   ]
  },
  {
   "cell_type": "code",
   "execution_count": 10,
   "metadata": {
    "colab": {
     "base_uri": "https://localhost:8080/",
     "height": 34
    },
    "colab_type": "code",
    "id": "27NGtHiFEvyF",
    "outputId": "a2011393-26fe-4f23-8166-984b65489a51"
   },
   "outputs": [
    {
     "name": "stdout",
     "output_type": "stream",
     "text": [
      "cpu\n"
     ]
    }
   ],
   "source": [
    "# Check GPU\n",
    "device = torch.device(\"cuda:0\" if torch.cuda.is_available() else \"cpu\")\n",
    "print(device)"
   ]
  },
  {
   "cell_type": "markdown",
   "metadata": {
    "colab_type": "text",
    "id": "yUaEnmDNEdyN"
   },
   "source": [
    "### Algorithm\n",
    "---\n",
    "```\n",
    "Input: a differentiable policy parameterization pi(a|s, theta)                   [Policy Network]\n",
    "Input: a differentiable state-value function parameterization Q_w(s, a, w)       [Value Network]\n",
    "Parameters: step sizes alpha_theta > 0; alpha_w > 0\n",
    "​\n",
    "Loop forever for each episode:\n",
    "​\n",
    "        Initialise S, theta\n",
    "        Sample a from policy network\n",
    "        \n",
    "        Loop while S is not terminal for each time step:\n",
    "                A = pi(.|S, theta) [policy(state)]\n",
    "                Take action A, observe S', R\n",
    "                delta = R + gamma * A(S', A', w) - A(S, A, w)  [TD(0) error, or advantage]\n",
    "                theta = theta + alpha_theta * grad_pi log pi_theta(s,a) A(S,A)     [policy gradient update]\n",
    "                w = w + alpha_w * delta * x(s, a)    [TD(0)]\n",
    "                A = A', S = S'\n",
    "```\n",
    "---"
   ]
  },
  {
   "cell_type": "code",
   "execution_count": 11,
   "metadata": {
    "colab": {},
    "colab_type": "code",
    "id": "mp720K_hBqCW"
   },
   "outputs": [],
   "source": [
    "class A2CAgent:\n",
    "    \"\"\"Actor Critic Agent\"\"\"\n",
    "    \n",
    "    def __init__(self, n_state, n_action, policy_network):\n",
    "        \n",
    "        self.env = env\n",
    "        \n",
    "        self.n_state = n_state\n",
    "        self.n_action = n_action\n",
    "        \n",
    "        # Initialise the model\n",
    "        self.policy_network = policy_network\n",
    "    \n",
    "    def act(self, state):\n",
    "#         state = state.float()\n",
    "        probs = self.policy_network(state)\n",
    "#         value = self.value_network(Variable(state))\n",
    "        m = Categorical(probs)\n",
    "        action = m.sample()\n",
    "        log_probs = m.log_prob(action)\n",
    "        entropy = m.entropy()\n",
    "#         policy.saved_log_probs.append(log_prob)\n",
    "\n",
    "        return log_probs, action.item(), entropy"
   ]
  },
  {
   "cell_type": "markdown",
   "metadata": {},
   "source": [
    "## TD(0) Algorithm"
   ]
  },
  {
   "cell_type": "code",
   "execution_count": 91,
   "metadata": {
    "colab": {
     "base_uri": "https://localhost:8080/",
     "height": 394
    },
    "colab_type": "code",
    "id": "t4EmCVkZJFtr",
    "outputId": "c3f7033e-7c9e-47a0-a399-8b95abdbb8a2"
   },
   "outputs": [
    {
     "name": "stdout",
     "output_type": "stream",
     "text": [
      "Episode 0 \t Average Score: 51.0\n"
     ]
    },
    {
     "ename": "KeyboardInterrupt",
     "evalue": "",
     "output_type": "error",
     "traceback": [
      "\u001b[0;31m---------------------------------------------------------------------------\u001b[0m",
      "\u001b[0;31mKeyboardInterrupt\u001b[0m                         Traceback (most recent call last)",
      "\u001b[0;32m<ipython-input-91-b840a58e46b3>\u001b[0m in \u001b[0;36m<module>\u001b[0;34m()\u001b[0m\n\u001b[1;32m     42\u001b[0m         \u001b[0mcurrent_state_value\u001b[0m \u001b[0;34m=\u001b[0m \u001b[0mvalue_network\u001b[0m\u001b[0;34m(\u001b[0m\u001b[0mstate\u001b[0m\u001b[0;34m)\u001b[0m\u001b[0;34m\u001b[0m\u001b[0m\n\u001b[1;32m     43\u001b[0m \u001b[0;34m\u001b[0m\u001b[0m\n\u001b[0;32m---> 44\u001b[0;31m         \u001b[0mtd_target\u001b[0m \u001b[0;34m=\u001b[0m \u001b[0mreward\u001b[0m \u001b[0;34m+\u001b[0m \u001b[0;36m0.99\u001b[0m \u001b[0;34m*\u001b[0m \u001b[0mnext_state_value\u001b[0m \u001b[0;34m*\u001b[0m \u001b[0;34m(\u001b[0m\u001b[0;36m1\u001b[0m \u001b[0;34m-\u001b[0m \u001b[0mdone\u001b[0m\u001b[0;34m)\u001b[0m\u001b[0;34m\u001b[0m\u001b[0m\n\u001b[0m\u001b[1;32m     45\u001b[0m \u001b[0;34m\u001b[0m\u001b[0m\n\u001b[1;32m     46\u001b[0m         \u001b[0;31m# TD loss, or advantage\u001b[0m\u001b[0;34m\u001b[0m\u001b[0;34m\u001b[0m\u001b[0m\n",
      "\u001b[0;31mKeyboardInterrupt\u001b[0m: "
     ]
    }
   ],
   "source": [
    "observation_space = env.observation_space.shape[0]\n",
    "action_space = env.action_space.n\n",
    "\n",
    "policy_network = PolicyNetwork(observation_space, action_space, fc1_units=128)\n",
    "value_network = ValueNetwork(observation_space, fc1_units=128)\n",
    "\n",
    "# critic_optimizer = torch.optim.Adam(value_network.parameters(), lr=3e-4)\n",
    "# actor_optimizer = torch.optim.Adam(policy_network.parameters(), lr=1e-4)\n",
    "\n",
    "optimizer = torch.optim.Adam(list(value_network.parameters()) + list(policy_network.parameters()), lr=5e-5)\n",
    "\n",
    "agent = A2CAgent(observation_space, action_space, policy_network)\n",
    "\n",
    "reward_list = deque(maxlen=100)\n",
    "ep_losses = []\n",
    "\n",
    "for i in range(10000 + 1):\n",
    "    \n",
    "    # Log the results\n",
    "    action_log_probs = []\n",
    "    rewards = []\n",
    "    states = []\n",
    "    targets = []\n",
    "    errors = []\n",
    "    t = 0\n",
    "    R = 0\n",
    "    \n",
    "    state = torch.FloatTensor(env.reset())\n",
    "    \n",
    "    while True:\n",
    "        \n",
    "        # Select and take action\n",
    "        log_probs, action, entropy = agent.act(state)\n",
    "        \n",
    "        # Sample R_t+1 and S_t+1\n",
    "        next_state, reward, done, _ = env.step(action)\n",
    "        \n",
    "        next_state = torch.FloatTensor(next_state)\n",
    "        \n",
    "        # Find the value of the next step\n",
    "        next_state_value = value_network(next_state)\n",
    "        current_state_value = value_network(state)\n",
    "        \n",
    "        td_target = reward + 0.99 * next_state_value * (1 - done)\n",
    "        \n",
    "        # TD loss, or advantage\n",
    "        advantage = td_target - current_state_value.item()\n",
    "        value_loss = (advantage) ** 2\n",
    "        actor_loss = -(log_probs * advantage.detach())\n",
    "        \n",
    "        total_loss = 0.5 * value_loss + actor_loss\n",
    "        \n",
    "        # Optimize\n",
    "        optimizer.zero_grad()\n",
    "        \n",
    "        total_loss.backward()\n",
    "        \n",
    "        optimizer.step()\n",
    "        \n",
    "        R += reward\n",
    "        \n",
    "        if done:\n",
    "            reward_list.append(R)\n",
    "            ep_losses.append(total_loss)\n",
    "            break\n",
    "            \n",
    "        # Update state\n",
    "        state = next_state\n",
    "        \n",
    "    if i % 1000 == 0:\n",
    "        print(\"\\rEpisode %s \\t Average Score: %s\" % (i, np.mean(reward_list)))"
   ]
  },
  {
   "cell_type": "markdown",
   "metadata": {},
   "source": [
    "## TD(0) Algorithm - Alternative\n",
    "https://www.datahubbs.com/policy-gradients-and-advantage-actor-critic/"
   ]
  },
  {
   "cell_type": "code",
   "execution_count": 110,
   "metadata": {},
   "outputs": [
    {
     "name": "stdout",
     "output_type": "stream",
     "text": [
      "One-step A2C at Episode: 2000, Avg Reward: 19.69"
     ]
    }
   ],
   "source": [
    "# https://www.datahubbs.com/policy-gradients-and-advantage-actor-critic/\n",
    "\n",
    "ep_rewards = []\n",
    "\n",
    "policy_network = PolicyNetwork(observation_space, action_space, fc1_units=128)\n",
    "value_network = ValueNetwork(observation_space, fc1_units=128)\n",
    "\n",
    "optimizer = torch.optim.Adam(list(value_network.parameters()) + list(policy_network.parameters()), lr=5e-5)\n",
    "\n",
    "agent = A2CAgent(observation_space, action_space, policy_network)\n",
    "\n",
    "for ep in range(2000 + 1):\n",
    "    \n",
    "    state = torch.FloatTensor(env.reset())\n",
    "    \n",
    "    actions = []\n",
    "    rewards = []\n",
    "    states = []\n",
    "    targets = []\n",
    "    errors = []\n",
    "    \n",
    "    t = 0\n",
    "    \n",
    "    for i in range(GLOBAL_STEP):\n",
    "        \n",
    "        # Select and take action\n",
    "        log_probs, action, entropy = agent.act(state)\n",
    "        next_step, reward, done, _ = env.step(action)\n",
    "        \n",
    "        # Calculate predictions and error\n",
    "        current_state_value = value_network(state)\n",
    "        next_state_value = value_network(next_state)\n",
    "        \n",
    "        target = reward + 0.9 * next_state_value * (1 - done)\n",
    "        error = target - current_state_value.detach()\n",
    "        \n",
    "        # Log results\n",
    "        states.append(state)\n",
    "        actions.append(action)\n",
    "        rewards.append(reward)\n",
    "        targets.append(target)\n",
    "        errors.append(error)\n",
    "        \n",
    "        value_loss = error ** 2\n",
    "        actor_loss = -log_probs * error.detach()\n",
    "        \n",
    "        total_loss = value_loss + actor_loss\n",
    "        \n",
    "        # Optimize\n",
    "        optimizer.zero_grad()\n",
    "        total_loss.backward()\n",
    "        optimizer.step()\n",
    "        \n",
    "        state = next_state\n",
    "        \n",
    "        if done:\n",
    "            ep_rewards.append(np.sum(rewards))\n",
    "            break\n",
    "            \n",
    "    # Print average of last 10 episodes if true\n",
    "    if ep % 100 == 0 and ep != 0:\n",
    "        avg_rewards = np.mean(ep_rewards[:-100])\n",
    "        print(\"\\rOne-step A2C at Episode: {:d}, Avg Reward: {:.2f}\".format(ep, avg_rewards), end=\"\")"
   ]
  },
  {
   "cell_type": "code",
   "execution_count": 111,
   "metadata": {},
   "outputs": [
    {
     "data": {
      "image/png": "[encoded data removed]",
      "text/plain": [
       "<Figure size 864x576 with 1 Axes>"
      ]
     },
     "metadata": {},
     "output_type": "display_data"
    }
   ],
   "source": [
    "# Plot results \n",
    "plt.figure(figsize=(12,8))\n",
    "plt.plot(ep_rewards, label='Rewards')\n",
    "# plt.plot(rewards_smooth, label='Smoothed Rewards')\n",
    "plt.title('Total Rewards')\n",
    "plt.legend(loc='best')\n",
    "plt.ylabel('Rewards')\n",
    "plt.show()"
   ]
  },
  {
   "cell_type": "markdown",
   "metadata": {},
   "source": [
    "## From one step to n-step - TD(n) Algorithm"
   ]
  },
  {
   "cell_type": "code",
   "execution_count": 12,
   "metadata": {},
   "outputs": [],
   "source": [
    "from collections import namedtuple"
   ]
  },
  {
   "cell_type": "code",
   "execution_count": 13,
   "metadata": {},
   "outputs": [],
   "source": [
    "Experience = namedtuple(\"Experience\", [\"state\", \"log_probs\", \"actions\", \"rewards\", \"dones\", \"next_states\"])"
   ]
  },
  {
   "cell_type": "code",
   "execution_count": 14,
   "metadata": {},
   "outputs": [],
   "source": [
    "def calculate_rewards(rewards, gamma=0.9):\n",
    "    \n",
    "    G = 0\n",
    "    \n",
    "    for r in reversed(rewards):\n",
    "        G += gamma * r\n",
    "    \n",
    "    return G"
   ]
  },
  {
   "cell_type": "code",
   "execution_count": 79,
   "metadata": {},
   "outputs": [],
   "source": [
    "def run_once(n_step):\n",
    "    \"\"\"\n",
    "    Run once\n",
    "    \"\"\"\n",
    "\n",
    "    ep_rewards = []\n",
    "\n",
    "    observation_space = env.observation_space.shape[0]\n",
    "    action_space = env.action_space.n\n",
    "\n",
    "    policy_network = PolicyNetwork(observation_space, action_space, fc1_units=128)\n",
    "    value_network = ValueNetwork(observation_space, fc1_units=128)\n",
    "\n",
    "    optimizer = torch.optim.Adam(list(value_network.parameters()) + list(policy_network.parameters()), lr=8e-4)\n",
    "\n",
    "    agent = A2CAgent(observation_space, action_space, policy_network)\n",
    "\n",
    "    for ep in range(5000 + 1):\n",
    "\n",
    "        state = torch.FloatTensor(env.reset())\n",
    "\n",
    "        experiences = []\n",
    "        R = 0\n",
    "\n",
    "        for i in range(GLOBAL_STEP):\n",
    "\n",
    "            \"\"\"\n",
    "            Just generating the episodes here\n",
    "            \"\"\"\n",
    "\n",
    "            # For the first n steps, only generate and save the experience\n",
    "            log_prob, action, entropy = agent.act(state)\n",
    "            next_state, reward, done, _ = env.step(action)\n",
    "            next_state = torch.FloatTensor(next_state)\n",
    "\n",
    "            exp = Experience(state, log_prob, action, reward, next_state, done)\n",
    "            experiences.append(exp)\n",
    "\n",
    "            state = next_state\n",
    "\n",
    "            R += reward\n",
    "\n",
    "            if done:\n",
    "                experiences.append(exp)\n",
    "                ep_rewards.append(R)\n",
    "                break\n",
    "\n",
    "        # Then we do the learning here\n",
    "        states, log_probs, actions, rewards, next_states, dones = zip(*experiences)\n",
    "\n",
    "        # 1. Calculate the discounted rewards\n",
    "        Gs = []\n",
    "        for i in range(len(rewards) - n_step):\n",
    "            Gs.append(calculate_rewards(rewards[i:i + n_step]))\n",
    "\n",
    "        value_losses = []\n",
    "        actor_losses = []\n",
    "        \n",
    "        n_step = min(n_step, len(states))\n",
    "\n",
    "        for i in range(len(states) - n_step):\n",
    "\n",
    "            current_state_value = value_network(states[i])\n",
    "            next_state_value = value_network(next_states[i])\n",
    "\n",
    "            target = Gs[i] + 0.99 * next_state_value * (1 - dones[i])\n",
    "            error = target - current_state_value.detach()\n",
    "\n",
    "            value_loss = error ** 2\n",
    "            actor_loss = -log_probs[i] * error.detach()\n",
    "\n",
    "            value_losses.append(value_loss)\n",
    "            actor_losses.append(actor_loss)\n",
    "\n",
    "        # Optimize\n",
    "        optimizer.zero_grad()\n",
    "        total_loss = torch.stack(value_losses).sum() + torch.stack(actor_losses).sum()\n",
    "\n",
    "        total_loss.backward()\n",
    "        optimizer.step()\n",
    "\n",
    "        # Print average of last 10 episodes if true\n",
    "        if ep % 100 == 0 and ep != 0:\n",
    "            avg_rewards = np.mean(ep_rewards[:-100])\n",
    "            print(\"\\r{:d}-step A2C at Episode: {:d}, Avg Reward: {:.2f}\".format(n_step, ep, avg_rewards), end=\"\")\n",
    "    \n",
    "    print(\".....End Run\")\n",
    "    \n",
    "    return ep_rewards"
   ]
  },
  {
   "cell_type": "code",
   "execution_count": 80,
   "metadata": {},
   "outputs": [],
   "source": [
    "n_step_list = list(range(5, 20, 2))"
   ]
  },
  {
   "cell_type": "code",
   "execution_count": 81,
   "metadata": {},
   "outputs": [],
   "source": [
    "rewards_list = []"
   ]
  },
  {
   "cell_type": "code",
   "execution_count": null,
   "metadata": {},
   "outputs": [
    {
     "name": "stdout",
     "output_type": "stream",
     "text": [
      "5-step A2C at Episode: 5000, Avg Reward: 158.26.....End Run\n",
      "7-step A2C at Episode: 5000, Avg Reward: 150.05.....End Run\n",
      "9-step A2C at Episode: 4400, Avg Reward: 151.94"
     ]
    }
   ],
   "source": [
    "for i in n_step_list:\n",
    "    \n",
    "    reward = run_once(n_step=i)\n",
    "    rewards_list.append(reward)\n",
    "    "
   ]
  },
  {
   "cell_type": "code",
   "execution_count": 54,
   "metadata": {},
   "outputs": [
    {
     "data": {
      "image/png": "[encoded data removed]",
      "text/plain": [
       "<matplotlib.figure.Figure at 0x13b21a9b0>"
      ]
     },
     "metadata": {},
     "output_type": "display_data"
    }
   ],
   "source": [
    "# Plot results \n",
    "fig, ax = plt.subplots()\n",
    "for r in rewards_list:\n",
    "    ax.plot(r, label='Rewards')\n",
    "    # plt.plot(rewards_smooth, label='Smoothed Rewards')\n",
    "plt.title('Total Rewards')\n",
    "plt.legend(loc='best')\n",
    "plt.ylabel('Rewards')\n",
    "plt.show()"
   ]
  }
 ],
 "metadata": {
  "colab": {
   "collapsed_sections": [],
   "include_colab_link": true,
   "name": "Solving Cartpole by A2C Algorithm",
   "provenance": [],
   "version": "0.3.2"
  },
  "kernelspec": {
   "display_name": "Python 3",
   "language": "python",
   "name": "python3"
  },
  "language_info": {
   "codemirror_mode": {
    "name": "ipython",
    "version": 3
   },
   "file_extension": ".py",
   "mimetype": "text/x-python",
   "name": "python",
   "nbconvert_exporter": "python",
   "pygments_lexer": "ipython3",
   "version": "3.6.3"
  }
 },
 "nbformat": 4,
 "nbformat_minor": 2
}
