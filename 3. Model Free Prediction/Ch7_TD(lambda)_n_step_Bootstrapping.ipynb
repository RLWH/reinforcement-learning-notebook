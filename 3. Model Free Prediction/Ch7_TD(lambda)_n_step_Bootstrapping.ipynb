{
  "nbformat": 4,
  "nbformat_minor": 0,
  "metadata": {
    "colab": {
      "name": "Ch7 TD(lambda) - n-step Bootstrapping.ipynb",
      "version": "0.3.2",
      "provenance": [],
      "collapsed_sections": [],
      "include_colab_link": true
    },
    "kernelspec": {
      "name": "python3",
      "display_name": "Python 3"
    }
  },
  "cells": [
    {
      "cell_type": "markdown",
      "metadata": {
        "id": "view-in-github",
        "colab_type": "text"
      },
      "source": [
        "<a href=\"https://colab.research.google.com/github/RLWH/reinforcement-learning-notebook/blob/master/3.%20Model%20Free%20Prediction/Ch7_TD(lambda)_n_step_Bootstrapping.ipynb\" target=\"_parent\"><img src=\"https://colab.research.google.com/assets/colab-badge.svg\" alt=\"Open In Colab\"/></a>"
      ]
    },
    {
      "cell_type": "markdown",
      "metadata": {
        "id": "vVIvwZfmMaqh",
        "colab_type": "text"
      },
      "source": [
        "# Ch7 n-step bootstraping (TD($\\lambda$))\n",
        "\n",
        "TD(0) takes one step ahead of the reality to form state value estimation, how about taking more steps ahead? And, if we take infinity steps ahead, does it become MC methods instead?\n",
        "\n",
        "The idea of *n-step TD methods* is to generalise both MC and TD methods so that one can shift from one to the other smoothly as needed. \n",
        "\n",
        "The *n-step* methods provides a spectrum with MC methods at one end and TD(0) at the other. The best methods are often intermediate between the two extremes.\n",
        "\n",
        "The another advantage of n-step TD methods is it provides a timeframe for values to be updated. \n",
        "> With one-step TD methods, the same time step determines how often the action can be changed and the time interval over which bootstrapping is done. In many applications, one wants to be able to update the action very fast to take into account anything that has changed, but bootstrapping works best if it is over a length of time in which a significant and recognizable state change has occured\n",
        "\n",
        "The idea of n-step methods is usually used as an introduction to the algorithmic idea of *eligibility traces* as well, which will be covered in the future.\n",
        "\n",
        "In this notebook, we will only cover the prediction problem ot n-step bootstrapping methods."
      ]
    },
    {
      "cell_type": "markdown",
      "metadata": {
        "id": "1E2WDC6UTtsj",
        "colab_type": "text"
      },
      "source": [
        "## The formulation of n-step TD prediction\n",
        "\n",
        "Consider estimating $v_{\\pi}$ from sample episodes generated using $\\pi$. \n",
        "- Monte Carlo methods perform an update for each state based on the entire sequence of observed rewards from that state until the end of the episode\n",
        "- One-step TD(0) is based on just the one next reward, bootstraping from the value of the state one step later as a proxy for the remaining rewards.\n",
        "- And between these two extremes, there are a lot of intermediate methods would perform an update based on an itermediate number of rewards: More than one but less than all of them until termination\n",
        "\n",
        "![Diagram](https://raw.githubusercontent.com/RLWH/reinforcement-learning-notebook/master/images/NStepTD_new.png)\n",
        "\n",
        "### Formal definition of n-step TD methods\n",
        "\n",
        "Formally, consider the update of the estimated value of state $S_t$ as a result of the state-reward sequence of a MRP, $S_t, R_{t+1}, S_{t+1}, R_{t+2}, ..., R_T, S_T$. \n",
        "\n",
        "#### Monte Carlo updates\n",
        "For Monte carlo updates the estimate of $v_{\\pi}(S_t)$, it depends on the complete return:\n",
        "\\begin{equation}\n",
        "G_t = R_{t+1} + \\gamma R_{t+2} + \\gamma^2 R_{t+3} + ... + \\gamma ^{T-t-1}R_T\n",
        "\\end{equation}\n",
        "where $T$ is the last time step of the episode. Let's call this quantity the *target* of the update.\n",
        "\n",
        "#### From one-step return to n-step return\n",
        "\\begin{equation}\n",
        "G^{(1)}_{t} = R_{t+1} + \\gamma V_t(S_{t+1})\n",
        "\\end{equation}\n",
        "where $V_t$  here is the value estimate at time t of $v_{\\pi}$. This is same as TD(0).\n",
        "\\begin{equation}\n",
        "G^{(2)}_{t} = R_{t+1} + \\gamma R_{t+2} + \\gamma^2 V_{t+1}(S_{t+2})\n",
        "\\end{equation}\n",
        "where now $\\gamma^2 V{t+1}(S_{t+2})$ corrects for the absence of the terms $\\gamma^2 R_{t+3} + \\gamma^3 R_{t+4} + ... + \\gamma^{T-t-1}R_T$\n",
        "\n",
        "...\n",
        "\n",
        "Thus, similarly, we can formulate a n-step return as\n",
        "\\begin{equation}\n",
        "G^{(n)}_{t} = R_{t+1} + \\gamma R_{t+2} + ... + \\gamma^{n-1}R_{t+n} + \\gamma^n V_{t+n-1}(S_{t+n})\n",
        "\\end{equation}\n",
        "for all n, t such that $n \\geq 1$  and $0 \\leq t \\lt T-n$\n",
        "\n",
        "#### How to calculate the n-step return?\n",
        "It would be impractical to calculate the n-step return at time step t for $n > 1$ as it involves future rewards, and it will not be available during the time of transition from $t$ to $t+1$. Thus, we will use a n-step TD algorithm to approach the problem.\n",
        "\n",
        "\\begin{equation}\n",
        "V_{t+n}(S_t) = V_{t+n-1}(S_t) + \\alpha [G^{(n)}_{t} - V_{t+n-1}(S_t)]\n",
        "\\end{equation}\n",
        "for $0 \\leq t \\lt T$\n",
        "\n",
        "### Generic N-step temporal-difference learning\n",
        "\\begin{equation}\n",
        "V_{\\text{new}}(S_t) \\leftarrow V_{\\text{old}}(S_t) + \\alpha (G^{n}_{t} - V_{\\text{}old}(S_t))\n",
        "\\end{equation}"
      ]
    },
    {
      "cell_type": "markdown",
      "metadata": {
        "id": "9G_x9z0tu2ee",
        "colab_type": "text"
      },
      "source": [
        "## Random walk example with n-step TD methods\n",
        "\n",
        "Consider the same Random walk example as in Ch6\n",
        "\n",
        "![Random Walk Diagram](https://github.com/RLWH/reinforcement-learning-notebook/blob/master/images/RandomWalk.PNG?raw=true)\n",
        "\n",
        "## Task\n",
        "Now, we extend the task to 19 states instead of 5, and use n-step TD methods \n",
        "\n",
        "In this case, so how can we know which $n$ is better?"
      ]
    },
    {
      "cell_type": "code",
      "metadata": {
        "id": "4PzDK0qIMNl6",
        "colab_type": "code",
        "colab": {}
      },
      "source": [
        "import numpy as np\n",
        "import matplotlib.pyplot as plt"
      ],
      "execution_count": 0,
      "outputs": []
    },
    {
      "cell_type": "code",
      "metadata": {
        "id": "8IzFcY3s4P5A",
        "colab_type": "code",
        "colab": {}
      },
      "source": [
        "NUM_STATES = 19\n",
        "END_STATES = [0, NUM_STATES + 1]"
      ],
      "execution_count": 0,
      "outputs": []
    },
    {
      "cell_type": "code",
      "metadata": {
        "id": "GtFStJHkz4RK",
        "colab_type": "code",
        "colab": {}
      },
      "source": [
        "# Setup the true values\n",
        "TRUE_VALUE = np.arange(-20, 22, 2) / 20.0\n",
        "TRUE_VALUE[0] = TRUE_VALUE[-1] = 0"
      ],
      "execution_count": 0,
      "outputs": []
    },
    {
      "cell_type": "code",
      "metadata": {
        "id": "bMnsKxRgu1o6",
        "colab_type": "code",
        "colab": {}
      },
      "source": [
        "START_STATE = 10"
      ],
      "execution_count": 0,
      "outputs": []
    },
    {
      "cell_type": "code",
      "metadata": {
        "id": "nEn_nh27EK7q",
        "colab_type": "code",
        "outputId": "eb5fd19f-e762-49ac-bf50-9156039bf15a",
        "colab": {
          "base_uri": "https://localhost:8080/",
          "height": 51
        }
      },
      "source": [
        "print(TRUE_VALUE)"
      ],
      "execution_count": 25,
      "outputs": [
        {
          "output_type": "stream",
          "text": [
            "[ 0.  -0.9 -0.8 -0.7 -0.6 -0.5 -0.4 -0.3 -0.2 -0.1  0.   0.1  0.2  0.3\n",
            "  0.4  0.5  0.6  0.7  0.8  0.9  0. ]\n"
          ],
          "name": "stdout"
        }
      ]
    },
    {
      "cell_type": "code",
      "metadata": {
        "id": "SFCyBBqGm8wn",
        "colab_type": "code",
        "colab": {}
      },
      "source": [
        "GAMMA = 1"
      ],
      "execution_count": 0,
      "outputs": []
    },
    {
      "cell_type": "code",
      "metadata": {
        "id": "9xaJMBjeVLaq",
        "colab_type": "code",
        "colab": {}
      },
      "source": [
        "#######################################################################\n",
        "# Copyright (C)                                                       #\n",
        "# 2016-2018 Shangtong Zhang(zhangshangtong.cpp@gmail.com)             #\n",
        "# 2016 Kenta Shimada(hyperkentakun@gmail.com)                         #\n",
        "# Permission given to modify the code as long as you keep this        #\n",
        "# declaration at the top                                              #\n",
        "#######################################################################"
      ],
      "execution_count": 0,
      "outputs": []
    },
    {
      "cell_type": "code",
      "metadata": {
        "id": "hkWL8X87X4XC",
        "colab_type": "code",
        "colab": {}
      },
      "source": [
        "def random_walk_action(s):\n",
        "  \"\"\"\n",
        "  Return an action for the random walk game\n",
        "  \"\"\"\n",
        "  \n",
        "  if np.random.binomial(1, 0.5) == 1:\n",
        "    ns = s + 1\n",
        "  else:\n",
        "    ns = s - 1\n",
        "    \n",
        "  return ns"
      ],
      "execution_count": 0,
      "outputs": []
    },
    {
      "cell_type": "code",
      "metadata": {
        "id": "8NPBZnfDak1f",
        "colab_type": "code",
        "colab": {}
      },
      "source": [
        "def reward_mapping(ns, left_reward=0, right_reward=1):\n",
        "  \"\"\"\n",
        "  Return reward given next state\n",
        "  \"\"\"\n",
        "  if ns == 0:\n",
        "    reward = left_reward\n",
        "  elif ns == (NUM_STATES + 1):\n",
        "    reward = right_reward\n",
        "  else:\n",
        "    reward = 0\n",
        "    \n",
        "  return reward"
      ],
      "execution_count": 0,
      "outputs": []
    },
    {
      "cell_type": "code",
      "metadata": {
        "id": "b3nKpqQNNYpG",
        "colab_type": "code",
        "outputId": "3e5882c9-aa0c-41fb-a298-a24f63d8b29a",
        "colab": {
          "base_uri": "https://localhost:8080/",
          "height": 34
        }
      },
      "source": [
        "print(reward_mapping(0, left_reward=-1))"
      ],
      "execution_count": 30,
      "outputs": [
        {
          "output_type": "stream",
          "text": [
            "-1\n"
          ],
          "name": "stdout"
        }
      ]
    },
    {
      "cell_type": "code",
      "metadata": {
        "id": "dPKOsoThfUFn",
        "colab_type": "code",
        "outputId": "7f7a319e-4ad8-404d-a7dc-c3e3f09419b0",
        "colab": {
          "base_uri": "https://localhost:8080/",
          "height": 34
        }
      },
      "source": [
        "np.arange(0, 20)[1:2]"
      ],
      "execution_count": 31,
      "outputs": [
        {
          "output_type": "execute_result",
          "data": {
            "text/plain": [
              "array([1])"
            ]
          },
          "metadata": {
            "tags": []
          },
          "execution_count": 31
        }
      ]
    },
    {
      "cell_type": "code",
      "metadata": {
        "id": "ewoawnPEoLQH",
        "colab_type": "code",
        "colab": {}
      },
      "source": [
        "values = np.zeros(NUM_STATES + 2)"
      ],
      "execution_count": 0,
      "outputs": []
    },
    {
      "cell_type": "code",
      "metadata": {
        "id": "c6tPTOwMz6YS",
        "colab_type": "code",
        "colab": {}
      },
      "source": [
        "def n_step_temporal_difference(values, n, alpha):\n",
        "  \"\"\"\n",
        "  N-step TD algorithm\n",
        "  \n",
        "  We know that in MC updates, the estimate of v_pi(S_t) is updated in the\n",
        "  direction of the complete return:\n",
        "  G_t = R_t+1 + gamma R_t+2 + gamma ^ 2 R_t+3 + ... + gamma ^ (T - t - 1)R_T\n",
        "  \n",
        "  e.g. G_0\n",
        "  G_0 = R_1 + gamma R_2 + gamma ^ 2 R_3 + ... + gamma ^ (T - 1) R_T\n",
        "  \n",
        "  One-step return\n",
        "  One-step udpates the target is the first reward plus the discounted estimated\n",
        "  value of the next state\n",
        "  G_t(1) = R_t+1 + gamma V(S_t+1)\n",
        "  \n",
        "  e.g. \n",
        "  G_0(1) = R_1 + gamma v(S_1)\n",
        "  \n",
        "  n-step return\n",
        "  G_t(2) = R_t+1 + gamma R_t+2 + gamma ^ 2 V(S_t+2)\n",
        "  \n",
        "  e.g. \n",
        "  G_0(2) = R_1 + gamma R_2 + gamma ^ 2 V(S_2)\n",
        "  G_0(3) = R_1 + gamma R_2 + gamma ^ 2 R_3 + gamma ^ 3 V(S_3)\n",
        "  ...\n",
        "  G_0(n) = R_1 + gamma R_2 + gamma ^ 2 R_3 + gamma^(n-1) + gamma ^ n V(S_n)\n",
        "  \n",
        "  Note that this approach is inspired but different from Shangtong's solution\n",
        "  A vectorized approach is used for computing the discounted returns\n",
        "  \n",
        "  Args:\n",
        "    values: The values of all states, a vector with size S\n",
        "    n: The number of step ahead\n",
        "    alpha: discount factor\n",
        "  \"\"\"\n",
        "  \n",
        "  # First run the whole sequence\n",
        "  state = 10\n",
        "  \n",
        "  # Arrays to store states and rewards for an episode\n",
        "  states = [state]\n",
        "  rewards = [0]\n",
        "  \n",
        "  # Track the time\n",
        "  t = 0\n",
        "  \n",
        "  # Length of the episode\n",
        "  T = float('inf')\n",
        "  \n",
        "  while True:\n",
        "    \n",
        "    if t < T:\n",
        "      \n",
        "      # Take an action according to the policy\n",
        "      next_state = random_walk_action(state)\n",
        "      reward = reward_mapping(next_state, left_reward=-1, right_reward=1)\n",
        "#       print(reward)\n",
        "      \n",
        "      # Observe and store the next reward as R_t+1 and the next state as S_t+1\n",
        "      states.append(next_state)\n",
        "      rewards.append(reward)\n",
        "      \n",
        "      # If S_t+1 is terminal, then T = t + 1\n",
        "      if next_state in END_STATES:\n",
        "        T = t + 1\n",
        "      \n",
        "    # Setup the update time\n",
        "    # tau is the time whose state's estimate is being updated\n",
        "    # For n-step TD, update is only available if the sequence is longer than n\n",
        "    # Thus, the first time available is at t + n\n",
        "    tau = t - n + 1\n",
        "    \n",
        "    if tau >= 0:\n",
        "      # n-step update is available\n",
        "      returns = 0.0\n",
        "#       print(rewards)\n",
        "      select_rewards = np.array(rewards[tau + 1: min(tau + n + 1, T + 1)]).T\n",
        "#       print(select_rewards)\n",
        "      gammas = \\\n",
        "        np.power(GAMMA, \n",
        "                 [i - tau - 1 \n",
        "                  for i in range(tau + 1, min(tau + 1 + n, T + 1))])\n",
        "      \n",
        "      returns = np.dot(gammas, select_rewards)\n",
        "      \n",
        "      if tau + n < T:\n",
        "        returns += pow(GAMMA, n) * values[states[tau + n]]\n",
        "      \n",
        "      # Update new state value by using old value function\n",
        "#       print(\"len(states) -> \", len(states))\n",
        "#       print(\"tau ->\", tau)\n",
        "#       print(\"states ->\", states)\n",
        "#       print(\"states[tau] ->\", states[tau])\n",
        "\n",
        "      if not states[tau] in END_STATES:\n",
        "        values[states[tau]] = values[states[tau]] + alpha * (returns - values[states[tau]])\n",
        "      \n",
        "    if tau == (T - 1):\n",
        "      break\n",
        "      \n",
        "    state = next_state\n",
        "    \n",
        "    # Increase one timestep\n",
        "    t += 1\n",
        "    \n",
        "#   print(states)"
      ],
      "execution_count": 0,
      "outputs": []
    },
    {
      "cell_type": "code",
      "metadata": {
        "id": "CCWR-quV1xKc",
        "colab_type": "code",
        "outputId": "451f6c43-a207-4fd9-9506-3923243c8ed1",
        "colab": {
          "base_uri": "https://localhost:8080/",
          "height": 663
        }
      },
      "source": [
        "for i in range(20):\n",
        "  n_step_temporal_difference(values, 1, 1)\n",
        "  print(values)"
      ],
      "execution_count": 35,
      "outputs": [
        {
          "output_type": "stream",
          "text": [
            "[0. 0. 0. 0. 0. 0. 0. 0. 0. 0. 0. 0. 0. 0. 0. 0. 0. 0. 0. 1. 0.]\n",
            "[0. 0. 0. 0. 0. 0. 0. 0. 0. 0. 0. 0. 0. 0. 0. 0. 0. 0. 1. 1. 0.]\n",
            "[ 0. -1.  0.  0.  0.  0.  0.  0.  0.  0.  0.  0.  0.  0.  0.  0.  0.  0.\n",
            "  1.  1.  0.]\n",
            "[ 0. -1.  0.  0.  0.  0.  0.  0.  0.  0.  0.  0.  0.  0.  0.  0.  0.  1.\n",
            "  1.  1.  0.]\n",
            "[ 0. -1.  0.  0.  0.  0.  0.  0.  0.  0.  0.  0.  0.  0.  0.  0.  1.  1.\n",
            "  1.  1.  0.]\n",
            "[ 0. -1.  0.  0.  0.  0.  0.  0.  0.  0.  0.  0.  0.  0.  0.  1.  1.  1.\n",
            "  1.  1.  0.]\n",
            "[ 0. -1.  0.  0.  0.  0.  0.  0.  0.  0.  0.  0.  0.  0.  1.  1.  1.  1.\n",
            "  1.  1.  0.]\n",
            "[ 0. -1. -1.  0.  0.  0.  0.  0.  0.  0.  0.  0.  0.  0.  1.  1.  1.  1.\n",
            "  1.  1.  0.]\n",
            "[ 0. -1. -1.  0.  0.  0.  0.  0.  0.  0.  0.  0.  0.  1.  1.  1.  1.  1.\n",
            "  1.  1.  0.]\n",
            "[ 0. -1. -1.  0.  0.  0.  0.  0.  0.  0.  0.  0.  1.  1.  1.  1.  1.  1.\n",
            "  1.  1.  0.]\n",
            "[ 0. -1. -1.  0.  0.  0.  0.  0.  0.  0.  0.  1.  1.  1.  1.  1.  1.  1.\n",
            "  1.  1.  0.]\n",
            "[ 0. -1. -1.  0.  0.  0.  0.  0.  0.  0.  1.  1.  1.  1.  1.  1.  1.  1.\n",
            "  1.  1.  0.]\n",
            "[ 0. -1. -1.  0.  0.  0.  0.  0.  0.  0.  1.  1.  1.  1.  1.  1.  1.  1.\n",
            "  1.  1.  0.]\n",
            "[ 0. -1. -1.  0.  0.  0.  0.  0.  0.  0.  1.  1.  1.  1.  1.  1.  1.  1.\n",
            "  1.  1.  0.]\n",
            "[ 0. -1. -1.  0.  0.  0.  0.  0.  0.  0.  1.  1.  1.  1.  1.  1.  1.  1.\n",
            "  1.  1.  0.]\n",
            "[ 0. -1. -1.  0.  0.  0.  0.  0.  0.  0.  1.  1.  1.  1.  1.  1.  1.  1.\n",
            "  1.  1.  0.]\n",
            "[ 0. -1. -1.  0.  0.  0.  0.  0.  0.  0.  1.  1.  1.  1.  1.  1.  1.  1.\n",
            "  1.  1.  0.]\n",
            "[ 0. -1. -1. -1.  0.  0.  0.  0.  0.  0.  0.  1.  1.  1.  1.  1.  1.  1.\n",
            "  1.  1.  0.]\n",
            "[ 0. -1. -1. -1.  0.  0.  0.  0.  0.  0.  1.  1.  1.  1.  1.  1.  1.  1.\n",
            "  1.  1.  0.]\n",
            "[ 0. -1. -1. -1. -1.  0.  0.  0.  0.  0.  0.  1.  1.  1.  1.  1.  1.  1.\n",
            "  1.  1.  0.]\n"
          ],
          "name": "stdout"
        }
      ]
    },
    {
      "cell_type": "code",
      "metadata": {
        "id": "zLOMajh9uCWw",
        "colab_type": "code",
        "colab": {}
      },
      "source": [
        "%matplotlib inline"
      ],
      "execution_count": 0,
      "outputs": []
    },
    {
      "cell_type": "code",
      "metadata": {
        "id": "NSnlXX0Ob5dD",
        "colab_type": "code",
        "colab": {}
      },
      "source": [
        "# Figure 7.2, it will take quite a while\n",
        "def figure7_2():\n",
        "    # all possible steps\n",
        "    steps = np.power(2, np.arange(0, 10))\n",
        "\n",
        "    # all possible alphas\n",
        "    alphas = np.arange(0, 1.1, 0.1)\n",
        "\n",
        "    # each run has 10 episodes\n",
        "    episodes = 10\n",
        "\n",
        "    # perform 100 independent runs\n",
        "    runs = 100\n",
        "\n",
        "    # track the errors for each (step, alpha) combination\n",
        "    errors = np.zeros((len(steps), len(alphas)))\n",
        "    \n",
        "    for run in range(0, runs):\n",
        "        for step_ind, step in zip(range(len(steps)), steps):\n",
        "            for alpha_ind, alpha in zip(range(len(alphas)), alphas):\n",
        "              \n",
        "#                 print('run:', run, 'step:', step, 'alpha:', alpha)\n",
        "                value = np.zeros(NUM_STATES + 2)\n",
        "#                 print(len(value))\n",
        "                \n",
        "                for ep in range(0, episodes):\n",
        "#                     print(value)\n",
        "                    n_step_temporal_difference(value, step, alpha)\n",
        "                    # calculate the RMS error\n",
        "#                     print(value)\n",
        "                    errors[step_ind, alpha_ind] += np.sqrt(np.sum(np.power(value - TRUE_VALUE, 2)) / NUM_STATES)\n",
        "    # take average\n",
        "    errors /= episodes * runs\n",
        "\n",
        "    for i in range(0, len(steps)):\n",
        "        plt.plot(alphas, errors[i, :], label='n = %d' % (steps[i]))\n",
        "    plt.xlabel('alpha')\n",
        "    plt.ylabel('RMS error')\n",
        "    plt.ylim([0.25, 0.55])\n",
        "    plt.legend()\n",
        "    plt.show()\n",
        "#     plt.savefig('../images/figure_7_2.png')\n",
        "#     plt.close()\n"
      ],
      "execution_count": 0,
      "outputs": []
    },
    {
      "cell_type": "code",
      "metadata": {
        "id": "OnXMWeZGuAw3",
        "colab_type": "code",
        "outputId": "87eb682c-4362-4122-a2b5-91be66c45afe",
        "colab": {
          "base_uri": "https://localhost:8080/",
          "height": 317
        }
      },
      "source": [
        "%%time\n",
        "figure7_2()"
      ],
      "execution_count": 43,
      "outputs": [
        {
          "output_type": "display_data",
          "data": {
            "image/png": "[encoded data removed]",
            "text/plain": [
              "<Figure size 432x288 with 1 Axes>"
            ]
          },
          "metadata": {
            "tags": []
          }
        },
        {
          "output_type": "stream",
          "text": [
            "CPU times: user 6min 55s, sys: 1.34 s, total: 6min 56s\n",
            "Wall time: 6min 54s\n"
          ],
          "name": "stdout"
        }
      ]
    },
    {
      "cell_type": "code",
      "metadata": {
        "id": "FhFgSJcfGknU",
        "colab_type": "code",
        "colab": {}
      },
      "source": [
        "# all states\n",
        "N_STATES = 19\n",
        "\n",
        "# discount\n",
        "GAMMA = 1\n",
        "\n",
        "# all states but terminal states\n",
        "STATES = np.arange(1, N_STATES + 1)\n",
        "\n",
        "# start from the middle state\n",
        "START_STATE = 10\n",
        "\n",
        "# two terminal states\n",
        "# an action leading to the left terminal state has reward -1\n",
        "# an action leading to the right terminal state has reward 1\n",
        "END_STATES = [0, N_STATES + 1]\n",
        "\n",
        "# true state value from bellman equation\n",
        "TRUE_VALUE = np.arange(-20, 22, 2) / 20.0\n",
        "TRUE_VALUE[0] = TRUE_VALUE[-1] = 0\n",
        "\n",
        "# n-steps TD method\n",
        "# @value: values for each state, will be updated\n",
        "# @n: # of steps\n",
        "# @alpha: # step size\n",
        "def temporal_difference(value, n, alpha):\n",
        "    # initial starting state\n",
        "    state = START_STATE\n",
        "\n",
        "    # arrays to store states and rewards for an episode\n",
        "    # space isn't a major consideration, so I didn't use the mod trick\n",
        "    states = [state]\n",
        "    rewards = [0]\n",
        "\n",
        "    # track the time\n",
        "    time = 0\n",
        "\n",
        "    # the length of this episode\n",
        "    T = float('inf')\n",
        "    while True:\n",
        "        # go to next time step\n",
        "        time += 1\n",
        "\n",
        "        if time < T:\n",
        "            # choose an action randomly\n",
        "            if np.random.binomial(1, 0.5) == 1:\n",
        "                next_state = state + 1\n",
        "            else:\n",
        "                next_state = state - 1\n",
        "\n",
        "            if next_state == 0:\n",
        "                reward = -1\n",
        "            elif next_state == 20:\n",
        "                reward = 1\n",
        "            else:\n",
        "                reward = 0\n",
        "\n",
        "            # store new state and new reward\n",
        "            states.append(next_state)\n",
        "            rewards.append(reward)\n",
        "\n",
        "            if next_state in END_STATES:\n",
        "                T = time\n",
        "\n",
        "        # get the time of the state to update\n",
        "        update_time = time - n\n",
        "        if update_time >= 0:\n",
        "            returns = 0.0\n",
        "            # calculate corresponding rewards\n",
        "            for t in range(update_time + 1, min(T, update_time + n) + 1):\n",
        "                returns += pow(GAMMA, t - update_time - 1) * rewards[t]\n",
        "            # add state value to the return\n",
        "            if update_time + n <= T:\n",
        "                returns += pow(GAMMA, n) * value[states[(update_time + n)]]\n",
        "            state_to_update = states[update_time]\n",
        "            # update the state value\n",
        "            if not state_to_update in END_STATES:\n",
        "                value[state_to_update] += alpha * (returns - value[state_to_update])\n",
        "        if update_time == T - 1:\n",
        "            break\n",
        "        state = next_state\n",
        "\n",
        "# Figure 7.2, it will take quite a while\n",
        "def figure7_2_orig():\n",
        "    # all possible steps\n",
        "    steps = np.power(2, np.arange(0, 10))\n",
        "\n",
        "    # all possible alphas\n",
        "    alphas = np.arange(0, 1.1, 0.1)\n",
        "\n",
        "    # each run has 10 episodes\n",
        "    episodes = 10\n",
        "\n",
        "    # perform 100 independent runs\n",
        "    runs = 100\n",
        "\n",
        "    # track the errors for each (step, alpha) combination\n",
        "    errors = np.zeros((len(steps), len(alphas)))\n",
        "    for run in range(0, runs):\n",
        "        for step_ind, step in zip(range(len(steps)), steps):\n",
        "            for alpha_ind, alpha in zip(range(len(alphas)), alphas):\n",
        "                # print('run:', run, 'step:', step, 'alpha:', alpha)\n",
        "                value = np.zeros(N_STATES + 2)\n",
        "                for ep in range(0, episodes):\n",
        "                    temporal_difference(value, step, alpha)\n",
        "                    # calculate the RMS error\n",
        "                    errors[step_ind, alpha_ind] += np.sqrt(np.sum(np.power(value - TRUE_VALUE, 2)) / N_STATES)\n",
        "    # take average\n",
        "    errors /= episodes * runs\n",
        "\n",
        "    for i in range(0, len(steps)):\n",
        "        plt.plot(alphas, errors[i, :], label='n = %d' % (steps[i]))\n",
        "    plt.xlabel('alpha')\n",
        "    plt.ylabel('RMS error')\n",
        "    plt.ylim([0.25, 0.55])\n",
        "    plt.legend()\n",
        "\n",
        "    plt.show()"
      ],
      "execution_count": 0,
      "outputs": []
    },
    {
      "cell_type": "code",
      "metadata": {
        "id": "DzFdOyxHGnAg",
        "colab_type": "code",
        "colab": {
          "base_uri": "https://localhost:8080/",
          "height": 283
        },
        "outputId": "086e9462-f61c-4679-f156-35d5ecc4fbb5"
      },
      "source": [
        "figure7_2_orig()"
      ],
      "execution_count": 48,
      "outputs": [
        {
          "output_type": "display_data",
          "data": {
            "image/png": "[encoded data removed]",
            "text/plain": [
              "<Figure size 432x288 with 1 Axes>"
            ]
          },
          "metadata": {
            "tags": []
          }
        }
      ]
    },
    {
      "cell_type": "markdown",
      "metadata": {
        "id": "LqU3vAYrvuHM",
        "colab_type": "text"
      },
      "source": [
        "## The $\\lambda$-return and the Eligibility Traces - From MC, n-step TD to TD($\\lambda$)\n",
        "\n",
        "#### The $\\lambda$-return\n",
        "\n",
        "The idea of the $\\lambda$-return is that we can come up with a better approximation by averaging differentn-step returns. For example, we can average a $G{(2)}$ and $G^{(4)}$ return and give\n",
        "\n",
        "\\begin{equation}\n",
        "\\frac{1}{2}G^{(2)} + \\frac{1}{2}G^{(4)}\n",
        "\\end{equation}\n",
        "\n",
        "If we extend the idea, we can combine information from all time-steps, or even, in principle, one could even average experience-based updates with DP updates to get a simple combination of experience-based and model-based methods. The question is: How can we efficiently combine them?\n",
        "\n",
        "The TD($\\lambda$) algorithm can be understood as one particular way of compounding n-step updates. This average contains all the n-step updates, and each weighted proportionally to $\\lambda^{n-1}$, where $\\lambda \\in [0, 1]$, and is normalized by a factor of ($1-\\lambda$) to ensure the weighted sum is 1. (Recall sum of G.S.). The resulting update is tward a return, called the *$\\lambda$-return*, wne defined in its state-based form by \n",
        "\\begin{equation}\n",
        "G^{\\lambda}_t = (1 - \\lambda)\\sum_{n=1}^{\\infty}\\lambda ^ {n-1} G^{(n)}_{t}\n",
        "\\end{equation}\n",
        "\n",
        "If the MDP terminates at timestep T, we can formulate TD($\\lambda$) return as\n",
        "\\begin{equation}\n",
        "G^{\\lambda}_{t} = (1-\\lambda)\\sum^{T-t-1}_{n=1} \\lambda^{n-1} G^{(n)}_{t} + \\lambda ^ {T-t-1}G_t\n",
        "\\end{equation}\n",
        "\n",
        "This fomulation has 2 important properties:\n",
        "1. If $\\lambda = 1$ => The main sum goes to zero, and thus the $\\lambda$-return is a Monte Carlo algorithm\n",
        "2. If $\\lambda = 0$ => The remaining term is $G^{(1)}_t$, which is the one-step TD update\n",
        "\n",
        "The formualtion can be presented in the backup diagram as below. \n",
        "![TD Backup](https://raw.githubusercontent.com/RLWH/reinforcement-learning-notebook/master/images/TD_lambda_backup.png)\n",
        "\n",
        "i.e. The $\\lambda$-return $G^{\\lambda}_t$ combines all n-step returns by using weight $(1-\\lambda)\\lambda^{n-1}$\n",
        "\n",
        "![Fig 12.2](https://raw.githubusercontent.com/RLWH/reinforcement-learning-notebook/master/images/lambda_return_decay.png)\n",
        "\n",
        "\n",
        "\n",
        "\n",
        "\n",
        "\n"
      ]
    },
    {
      "cell_type": "markdown",
      "metadata": {
        "id": "o0A2bRukIcNX",
        "colab_type": "text"
      },
      "source": [
        "### Forward-view TD($\\lambda$)\n",
        "\n",
        "Theoretically, the forward view TD($\\lambda$) does the same trick as what we used to do:\n",
        "\\begin{equation}\n",
        "V(S_t) \\leftarrow V(S_t) + \\alpha {(G^{\\lambda}_t - V(S_t))}\n",
        "\\end{equation}\n",
        "\n",
        "![Figure 12.4](https://raw.githubusercontent.com/RLWH/reinforcement-learning-notebook/master/images/forward_TD.png)\n",
        "\n",
        "The properties of the Forward-view TD($\\lambda$) is\n",
        "1. It updates value function towards the $\\lambda$-return\n",
        "2. Forward-view looks into the future to compute G^{\\lambda}_t\n",
        "3. Like MC, it can be computed from complete episodes\n",
        "\n",
        "So, how can we solve the forward looking problem? -> *Eligibility Traces*\n",
        "\n",
        "### Eligibility Traces\n",
        "Denote a variable $E_t$ is the eligibility traces at time $t$:\n",
        "\n",
        "In TD($\\lambda$), the eligibility trace $E_t \\in \\mathop{\\mathbb{R}}^d$ is a short-term memory vector that looks back what has happened, and combine both *Frequency heuristic* and *Recency heuristic*. \n",
        "\n",
        "Note: \n",
        "- Frequency heuristic: Assign credit to most frequent states\n",
        "- Recency heuristic: assign credit to most recent states\n",
        "\n",
        "#### Formulation\n",
        "\\begin{equation}\n",
        "\\begin{split}\n",
        "E_0(s) &= 0 \\\\\n",
        "E_t(s) &= \\gamma \\lambda E_{t-1}(s) + \\mathop{\\mathbb{1}}(S_t = s)\n",
        "\\end{split}\n",
        "\\end{equation}\n",
        "\n",
        "The idea is we can initialise an empty eligibility trace at time step 0.\n",
        "\n",
        "For each time step, we discount the value of the previous eligibility trace by $\\gamma$ and $\\lambda$ and increase the eligibility trace by 1 for each visit.\n",
        "\n",
        "### Backward-view TD($\\lambda$)\n",
        "The backward, or mechanistic view of TD($\\lambda$). Each update depends on the current TD error combined with the current eligibility traces of past events. \n",
        "\n",
        "![Figure 12.5](https://raw.githubusercontent.com/RLWH/reinforcement-learning-notebook/master/images/backward_TD.png)\n",
        "\n",
        "Steps:\n",
        "1. Keep an eligibility trace for every state $s$\n",
        "2. Update value $V(s)$ for every state $s$\n",
        "3. In proportion to TD-error $\\delta_t$ and eligibility trace $E_t(s)$\n",
        "\n",
        "whereas\n",
        "\\begin{equation}\n",
        "\\begin{split}\n",
        "\\delta_t &= R_{t+1} + \\gamma V(S_{t+1}) - V(S_t) \\\\\n",
        "V(s) &\\leftarrow V(s) + \\alpha \\delta_t E_t(s)\n",
        "\\end{split}\n",
        "\\end{equation}\n",
        "\n",
        "### The algorithm\n",
        "So, from the equations, we now know\n",
        "1. when $\\lambda = 0$, only current state is updated\n",
        "\\begin{equation}\n",
        "\\begin{split}\n",
        "E_t(s) &= \\mathop{\\mathbb(S_t = s)} \\\\\n",
        "V(s) & \\leftarrow V(s) + \\alpha \\delta_t E_t(s)\n",
        "\\end{split}\n",
        "\\end{equation}\n",
        "which becomes the TD(0) update\n",
        "\\begin{equation}\n",
        "V(s_t) \\leftarrow V(s_t) + \\alpha \\delta_t\n",
        "\\end{equation}\n",
        " \n",
        "2. When $\\lambda = 1$, credit is deferred until end of episode. Thus, the total update of TD(1) is the same as total update for MC\n",
        " \n",
        "    For $\\lambda = 1$ and where $s$ is visited once at time step $k$\n",
        "\\begin{equation}\n",
        "\\begin{split}\n",
        "E_t(s) & = \\gamma E_{t-1}(s) + \\mathop{\\mathbb{1}}(S_t = s)\\\\\n",
        "& = \n",
        "\\begin{cases}\n",
        "0, & \\text{if } t \\lt k \\\\\n",
        "\\gamma^{t-k} & \\text{if } t \\geq k\n",
        "\\end{cases}\n",
        "\\end{split}\n",
        "\\end{equation}\n",
        "\n",
        "#### Pseudo code\n",
        "---\n",
        "```\n",
        "Input: the policy pi to be evaluated\n",
        "Input: value mapping function\n",
        "Algorithm parameters: step size alpha > 0, trace decay rate lambda in [0, 1]\n",
        "\n",
        "Loop for each episode:\n",
        "    Initialise S\n",
        "    eligibility_trace = 0 for all states\n",
        "    Loop for each step of episode:\n",
        "        Choose A in policy pi(s)\n",
        "        Take action A, observe R_t+1, S_t+1\n",
        "        eligibility_trace = gamma * eligibility_trace + one(state_t = t)\n",
        "        delta = R + gamma * value(s_t+1) - value(s)\n",
        "        s = s_t+1\n",
        "        \n",
        "      until s_t+1 is terminal\n",
        "\n",
        "```\n",
        "---\n"
      ]
    },
    {
      "cell_type": "code",
      "metadata": {
        "id": "DjXZZtvcuF6S",
        "colab_type": "code",
        "colab": {}
      },
      "source": [
        ""
      ],
      "execution_count": 0,
      "outputs": []
    }
  ]
}