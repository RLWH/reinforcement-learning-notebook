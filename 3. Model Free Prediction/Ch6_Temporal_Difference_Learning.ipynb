{
  "nbformat": 4,
  "nbformat_minor": 0,
  "metadata": {
    "colab": {
      "name": "Ch6 Temporal-Difference Learning.ipynb",
      "version": "0.3.2",
      "provenance": [],
      "collapsed_sections": [],
      "include_colab_link": true
    },
    "kernelspec": {
      "name": "python3",
      "display_name": "Python 3"
    }
  },
  "cells": [
    {
      "cell_type": "markdown",
      "metadata": {
        "id": "view-in-github",
        "colab_type": "text"
      },
      "source": [
        "<a href=\"https://colab.research.google.com/github/RLWH/reinforcement-learning-notebook/blob/master/3.%20Model%20Free%20Prediction/Ch6_Temporal_Difference_Learning.ipynb\" target=\"_parent\"><img src=\"https://colab.research.google.com/assets/colab-badge.svg\" alt=\"Open In Colab\"/></a>"
      ]
    },
    {
      "cell_type": "markdown",
      "metadata": {
        "id": "rf0Dq-a4iy7L",
        "colab_type": "text"
      },
      "source": [
        "# Ch6 Temporal-Difference Learning\n",
        "\n",
        "Another way for solving the MDP is by using Temporal-Difference Learning. \n",
        "\n",
        "Temporal-Difference Learning is said to be the most central and novel idea for reinforcement learning. It is a combination of Monte Carlo ideas and Dynamic programming ideas. Like Mote Carlo methods, TD methods can learn directly from raw experience without a model of the environment's dynamics. \n",
        "\n",
        "Like DP, TD methods update estimates based in part of other learned estimates, without waiting for a final outcome (i.e. bootstraping). \n",
        "\n",
        "#### Objective of the chapter\n",
        "1. Understand how to use TD methods to evaluate a policy, or the prediction problem. \n",
        "2. Understand the difference between TD, MC and DP."
      ]
    },
    {
      "cell_type": "markdown",
      "metadata": {
        "id": "gAKUS8JR02oM",
        "colab_type": "text"
      },
      "source": [
        "## TD Prediction\n",
        "\n",
        "Both TD and Monte Carlo methods use experience to solve the prediction problem. Given some experience following a policy $\\pi$, both methods update their estimate $V$ of $v_{\\pi}$ for the nonterminal states $S_t$ occuring in that experience.\n",
        "\n",
        "#### Constant-$\\alpha$ MC\n",
        "The difference is, MC methods wait until the return (at the end of the episode) of the following visit is known, then use that return as a target for $V(S_t)$. Formally, the every-visit MC method suitable for nonstationary environments is\n",
        "\\begin{equation}\n",
        "V(S_t) = V(S_t) + \\alpha [G_t - V(S_t)]\n",
        "\\end{equation}\n",
        "where $G_t$ is the actual return following time $t$, and $\\alpha$ is a constant step-size parameter. Let's call this method *constant-$\\alpha$ MC*. \n",
        "\n",
        "\n",
        "#### TD methods\n",
        "Comparing with MC methods, TD methods do not need to wait until the end of the episode to determine the increment to $V(S_t)$. It just need to wait only until the next time step. \n",
        "\n",
        "At time $t + 1$, they immediately form a target and make a useful update using the observed reward $R_{t+1}$ and the estimate $V(S_{t+1})$. The simplest TD method - TD(0) or *one-step TD* -  makes the update immediately on transition to $S_{t+1}$ and receiving $R_{t+1}$. Formally  \n",
        "\n",
        "\\begin{equation}\n",
        "V(S_t) = V(S_t) + \\alpha [R_{t+1} + \\gamma V(S_{t+1}) - V(S_t))]\n",
        "\\end{equation}\n",
        "\n",
        "#### Comparing MC with TD\n",
        "Comparing to MC methods, the target for TD update is $R_{t+1} + \\gamma V(S_{t+1})$. The $\\text{TD}(0)$ is a special case of the $\\text{TD}(\\lambda)$ and n-step TD methods. \n",
        "\n",
        "In short:\n",
        "- MC target is an estimate of the expected value $E_{\\pi}[G_t | S_t = s]$ by sampling because the expected value is not known\n",
        "- The DP target is an estimate because $v_{\\pi}(S_{t+1})$ is not known and the current estimate $V(S_{t+1})$ is used instead, given the whole dynamics of MDP is fully known (so the expected value can be calculated)\n",
        "- The TD target is an estimate because:\n",
        "  1. It samples the expected values in $E_{\\pi}[R_{t+1} + \\gamma v_{\\pi}(S_{t+1}) | S_t = s]$\n",
        "  2. It uses the current estimate $V(s_{t+1})$ instead of the true $v_{\\pi}$\n",
        "\n",
        "- Thus, TD methods combine the sampling of Monte Carlo with the bootstraping of DP\n",
        "\n",
        "![Backup Diagram](https://raw.githubusercontent.com/RLWH/reinforcement-learning-notebook/master/images/backup%20diagrams.PNG)\n"
      ]
    },
    {
      "cell_type": "markdown",
      "metadata": {
        "id": "ldqL9LTi6LpZ",
        "colab_type": "text"
      },
      "source": [
        "### The algorithm of TD(0)\n",
        "\n",
        "#### Backup diagram (p.121)\n",
        "- The value estimate for the state node at the top of the backup diagram is updated on the basis of the one sample transition from it to the immediately following state\n",
        "- i.e. Sample update\n",
        "- Using the value of the successor and the reward along the way to compute a backed-up value, and then updating the value of the original state (or state-action pair) accordingly.\n",
        "- Sample updates differ from the expected updates of DP methods in that they are based on a single sample successor rather than on a complete distribution of all possible succssors (as what DP does)\n",
        "\n",
        "#### TD error\n",
        "- The quantity $R_{t+1} + \\gamma V(S_{t+1}) - V(S_t)$ can be considered as an error term. This is called *TD error*\n",
        "\\begin{equation}\n",
        "\\delta_t := R_{t+1} + \\gamma V(S_{t+1}) - V(S_t)\n",
        "\\end{equation}\n",
        "- We can see that TD error is timestep specific, and it depends on the next state and next reward. \n",
        "- THus, TD error is only available at timestep $t+1$\n",
        "\n",
        "#### Pseudo-code\n",
        "\n",
        "---\n",
        "```\n",
        "Input: the policy pi to be evaluated\n",
        "Algorithm parameter: stepsize alpha in (0,1]\n",
        "Initialize V(s) for all s in all states, arbitrarily except that V(terminal) = 0\n",
        "\n",
        "Loop for each episode:\n",
        "    Initialise S\n",
        "    Loop for each step of episode:\n",
        "        A = action given by pi for S\n",
        "        Take action A, observe R, S'\n",
        "        V(S) = V(S) + alpha * [R + gamma * V(S') - V(S)]\n",
        "        S = S'\n",
        "    until S is terminal\n",
        "```\n",
        "---\n",
        "\n",
        "TD(0) is a *boostrapping* method, like DP, as its update in part of an existing estimate. We know from Ch3 that \n",
        "\n",
        "\n",
        "\\begin{equation} \n",
        "\\begin{split}\n",
        "v_{\\pi}(s) & = E_{\\pi}[G_t | S_t = s] \\\\\n",
        "& = E_{\\pi}[R_{t+1} + \\gamma G_{t+1} | S_t = s] \\\\\n",
        "& = E_{\\pi}[R_{t+1} + \\gamma v_{\\pi}(S_{t+1}) | S_t = s]\n",
        "\\end{split}\n",
        "\\end{equation}"
      ]
    },
    {
      "cell_type": "markdown",
      "metadata": {
        "id": "DMgPUn9ENSja",
        "colab_type": "text"
      },
      "source": [
        "## Demonstration - The Driving Home Example"
      ]
    },
    {
      "cell_type": "markdown",
      "metadata": {
        "id": "ArJ6yxzFaUab",
        "colab_type": "text"
      },
      "source": [
        "### Example 6.1\n",
        "\n",
        "Each day as you drive home from work, you try to predict how long it wil take to get home. When you leave your office, you note the time, the day of week, the weather, and anything else that might be relevant.\n",
        "\n",
        "Below is the state table:\n",
        "\n",
        "State | Elapsed Time (min) | predicted Time to Go | Predicted Total Time\n",
        "--- | --- | --- | ---\n",
        "Leaving office, Friday at 6| 0 | 30 | 30\n",
        "Reach car, raining | 5 | 35 | 40\n",
        "Exiting highway | 20 | 15 | 35\n",
        "2ndary road, behind truck | 30 | 10 | 40\n",
        "Entering home street | 40 | 3 | 43\n",
        "Arrive home | 43 | 0 | 43\n",
        "\n",
        "If we see this problem as a MDP, the reward in this example are the elapsed time on each leg of the journey. And, the value of each state is the expected time to go. \n",
        "\n",
        "\n",
        "**Monte Carlo Estimation**\n",
        "- Wait till the sequence ends, and calculate the difference between the *estimated value (predicted time to go)* and *actual return (actual time to go)*\n",
        "- The error term is $G_t - V(S_t)$\n",
        "\n",
        "State | Elapsed Time (min) | predicted Time to Go | Predicted Total Time | Estimation error of MC methods | State value update (eq6.1, $\\alpha$ = 1)\n",
        "--- | --- | --- | --- | --- | ---\n",
        "Leaving office, Friday at 6| 0 | 30 | 30 | 43 - 30 = 13 | 30 + 13 = 43\n",
        "Reach car, raining | 5 | 35 | 40 | 43 - 40 = 3 | 40 + 3 = 43\n",
        "Exiting highway | 20 | 15 | 35 | 43 - 35 = 8 | 35 + 8 = 43\n",
        "2ndary road, behind truck | 30 | 10 | 40 | 43 - 40 = 3 | 40 + 3 = 43\n",
        "Entering home street | 40 | 3 | 43 | 43 - 43 = 0 | 43\n",
        "Arrive home | 43 | 0 | 43 | 0 | 43\n",
        "\n",
        "- In any event, the change can only be made offline, that is, after you have reached home, as only at this point you can know any of the actual returns\n",
        "\n",
        "But is this necessary?\n",
        "\n",
        "** TD Approach **\n",
        "- We can learn immediate if some events happen. \n",
        "- e.g. On a day with heavy traffic jam, 30 mins from leaving office you're still going to the highway. At this point of time, you already know 30 mins of estimation is too short, and need to be adjusted\n",
        "\n",
        "State | Elapsed Time (min) | predicted Time to Go | Predicted Total Time | Estimation error of TD methods \n",
        "--- | --- | --- | --- | --- \n",
        "Leaving office, Friday at 6| 0 | 30 | 30 | 40 - 30 = 10 |\n",
        "Reach car, raining | 5 | 35 | 40 | 35 - 40 = -5 | \n",
        "Exiting highway | 20 | 15 | 35 | 40 - 35 = 5 | \n",
        "2ndary road, behind truck | 30 | 10 | 40 | 43 - 40 = 3 | \n",
        "Entering home street | 40 | 3 | 43 | 43 - 43 = 0 | \n",
        "Arrive home | 43 | 0 | 43 | 0 | \n",
        "\n",
        "#### Advantages and Disadvantages of MC vs TD\n",
        "\n",
        "1. TD can learn before knowing the final outcome\n",
        "  - TD can learn online after every step\n",
        "  - MC must wait until end of episode befure return is known\n",
        "  \n",
        "2. TD can learn without the final outcome\n",
        "  - TD can learn from incomplete sequences\n",
        "  - MC can only learn from complete sequences\n",
        "  - TD works in continuing (non-terminating) environments\n",
        "  - MC only works for episodic (terminating) environments\n",
        "\n"
      ]
    },
    {
      "cell_type": "markdown",
      "metadata": {
        "id": "JekL0afy_aU6",
        "colab_type": "text"
      },
      "source": [
        "## Illustrating the differences of MC and TD by Random Walk process\n",
        "\n",
        "In this example, we empirically compare the prediction abilities of TD(0) and constant-$\\alpha$ MC when applied to the following Markov Reward process.\n",
        "\n",
        "![Random Walk Diagram](https://github.com/RLWH/reinforcement-learning-notebook/blob/master/images/RandomWalk.PNG?raw=true)\n",
        "\n",
        "In this MRP, all episodes start in the center state *C*, then proceed either left or right by one state on each step, with equal probability. Episodes terminate either on the extreme left or extreme right. \n",
        "\n",
        "When an episode terminates on the right, a reward of +1 occurs; all other rewards are zero.\n",
        "\n",
        "Because this task is undiscounted, the true value of each state is the probability of terminating on the right if starting from that state. Thus, the ture value of the center state is $v_{\\pi}(C) = 0.5$. The true values of all the states, A through E, is $\\frac{1}{6}, \\frac{2}{6}, ..., \\frac{5}{6}$\n",
        "\n",
        "In all cases, the approximate value function was initialized to the intermediate value $V(s) = 0.5$, for all $s$"
      ]
    },
    {
      "cell_type": "code",
      "metadata": {
        "id": "ovv2Dks7aUJY",
        "colab_type": "code",
        "colab": {}
      },
      "source": [
        "import numpy as np\n",
        "import matplotlib.pyplot as plt"
      ],
      "execution_count": 0,
      "outputs": []
    },
    {
      "cell_type": "code",
      "metadata": {
        "id": "KigBLfpaxav_",
        "colab_type": "code",
        "colab": {}
      },
      "source": [
        "VALUES = np.zeros(7)\n",
        "VALUES[1:6] = 0.5\n",
        "VALUES[6] = 1"
      ],
      "execution_count": 0,
      "outputs": []
    },
    {
      "cell_type": "code",
      "metadata": {
        "id": "IUM72UABNRnM",
        "colab_type": "code",
        "colab": {}
      },
      "source": [
        "# Setup the true values\n",
        "TRUE_VALUES = np.zeros(7)\n",
        "TRUE_VALUES[1:6] = np.arange(1, 6)/6.0\n",
        "TRUE_VALUES[6] = 1"
      ],
      "execution_count": 0,
      "outputs": []
    },
    {
      "cell_type": "code",
      "metadata": {
        "id": "jbs8w5BXFkMp",
        "colab_type": "code",
        "colab": {}
      },
      "source": [
        "ACTION_LEFT = 0\n",
        "ACTION_RIGHT = 0"
      ],
      "execution_count": 0,
      "outputs": []
    },
    {
      "cell_type": "markdown",
      "metadata": {
        "id": "F0FNl_9qFpDW",
        "colab_type": "text"
      },
      "source": [
        "#### Temporal Difference algorithm"
      ]
    },
    {
      "cell_type": "code",
      "metadata": {
        "id": "XdBn8CHdFnPq",
        "colab_type": "code",
        "colab": {}
      },
      "source": [
        "def temporal_difference(values, alpha=0.1, batch=False):\n",
        "  \"\"\"\n",
        "  Temporal Difference\n",
        "  \n",
        "  Args:\n",
        "    values: current states value, will be updated if batch is False\n",
        "    alpha: step size\n",
        "    batch: Whether to update values\n",
        "  \n",
        "  \"\"\"\n",
        "  state = 3\n",
        "  trajectory = [state]\n",
        "  rewards = [0]\n",
        "  while True:\n",
        "    old_state = state\n",
        "    if np.random.binomial(1, 0.5) == ACTION_LEFT:\n",
        "      state -= 1\n",
        "    else:\n",
        "      state += 1\n",
        "    \n",
        "    reward = 0\n",
        "    \n",
        "    trajectory.append(state)\n",
        "    \n",
        "    # TD update\n",
        "    if not batch:\n",
        "      values[old_state] += alpha * (reward + values[state] - values[old_state])\n",
        "      \n",
        "    if state == 6 or state == 0:\n",
        "      break\n",
        "      \n",
        "    rewards.append(reward)\n",
        "      \n",
        "  return trajectory, rewards, values"
      ],
      "execution_count": 0,
      "outputs": []
    },
    {
      "cell_type": "code",
      "metadata": {
        "id": "Ro54odlwJLXU",
        "colab_type": "code",
        "colab": {}
      },
      "source": [
        "def monte_carlo(values, alpha=0.1, batch=False):\n",
        "  \"\"\"\n",
        "  Monte Carlo\n",
        "  \"\"\"\n",
        "  \n",
        "  state = 3\n",
        "  trajectory = [state]\n",
        "  \n",
        "  # If end up with left terminal state, all returns are 0\n",
        "  # If end up with right terminal state, all returns are 1\n",
        "  \n",
        "  while True:\n",
        "    if np.random.binomial(1, 0.5) == ACTION_LEFT:\n",
        "      state -= 1\n",
        "    else:\n",
        "      state += 1\n",
        "      \n",
        "    trajectory.append(state)\n",
        "    \n",
        "    if state == 6:\n",
        "      returns = 1.0\n",
        "      break\n",
        "    elif state == 0:\n",
        "      returns = 0.0\n",
        "      break\n",
        "  \n",
        "  if not batch:\n",
        "    for s in trajectory[:-1]:\n",
        "      # MC update\n",
        "      values[s] += alpha * (returns - values[s])\n",
        "      \n",
        "  return trajectory, [returns], values\n",
        "      \n",
        "  "
      ],
      "execution_count": 0,
      "outputs": []
    },
    {
      "cell_type": "code",
      "metadata": {
        "id": "pnM-P3MKNO30",
        "colab_type": "code",
        "outputId": "dc8e60e1-33c2-4026-f048-dbfab81484cc",
        "colab": {
          "base_uri": "https://localhost:8080/",
          "height": 68
        }
      },
      "source": [
        "current_values = np.copy(VALUES)\n",
        "temporal_difference(current_values)"
      ],
      "execution_count": 0,
      "outputs": [
        {
          "output_type": "execute_result",
          "data": {
            "text/plain": [
              "([3, 2, 3, 2, 1, 0],\n",
              " [0, 0, 0, 0, 0],\n",
              " array([0.  , 0.45, 0.5 , 0.5 , 0.5 , 0.5 , 1.  ]))"
            ]
          },
          "metadata": {
            "tags": []
          },
          "execution_count": 7
        }
      ]
    },
    {
      "cell_type": "code",
      "metadata": {
        "id": "e-8xokyINXda",
        "colab_type": "code",
        "outputId": "4c598c1a-bb12-466a-c2c8-ba8c82a97880",
        "colab": {
          "base_uri": "https://localhost:8080/",
          "height": 68
        }
      },
      "source": [
        "current_values = np.copy(VALUES)\n",
        "monte_carlo(current_values)"
      ],
      "execution_count": 0,
      "outputs": [
        {
          "output_type": "execute_result",
          "data": {
            "text/plain": [
              "([3, 4, 3, 4, 5, 6],\n",
              " [1.0],\n",
              " array([0.   , 0.5  , 0.5  , 0.595, 0.595, 0.55 , 1.   ]))"
            ]
          },
          "metadata": {
            "tags": []
          },
          "execution_count": 8
        }
      ]
    },
    {
      "cell_type": "code",
      "metadata": {
        "id": "XnZ7B9rfN_ev",
        "colab_type": "code",
        "colab": {}
      },
      "source": [
        "%matplotlib inline"
      ],
      "execution_count": 0,
      "outputs": []
    },
    {
      "cell_type": "code",
      "metadata": {
        "id": "D8_7yTGOS_2J",
        "colab_type": "code",
        "colab": {}
      },
      "source": [
        "def compute_state_value():\n",
        "    episodes = [0, 1, 10, 100]\n",
        "    current_values = np.copy(VALUES)\n",
        "    plt.figure(1)\n",
        "    for i in range(episodes[-1] + 1):\n",
        "        if i in episodes:\n",
        "            plt.plot(current_values, label=str(i) + ' episodes')\n",
        "        temporal_difference(current_values)\n",
        "    plt.plot(TRUE_VALUES, label='true values')\n",
        "    plt.xlabel('state')\n",
        "    plt.ylabel('estimated value')\n",
        "    plt.legend()"
      ],
      "execution_count": 0,
      "outputs": []
    },
    {
      "cell_type": "code",
      "metadata": {
        "id": "6TtPZWK6TBFM",
        "colab_type": "code",
        "outputId": "9622cf0c-8e7b-48e3-9d6b-aad1333d5260",
        "colab": {
          "base_uri": "https://localhost:8080/",
          "height": 283
        }
      },
      "source": [
        "compute_state_value()"
      ],
      "execution_count": 0,
      "outputs": [
        {
          "output_type": "display_data",
          "data": {
            "image/png": "[encoded data removed]",
            "text/plain": [
              "<Figure size 432x288 with 1 Axes>"
            ]
          },
          "metadata": {
            "tags": []
          }
        }
      ]
    },
    {
      "cell_type": "code",
      "metadata": {
        "id": "jWc8PnjsU0f2",
        "colab_type": "code",
        "colab": {}
      },
      "source": [
        "def rms_error():\n",
        "  \"\"\"\n",
        "  Calculate the RMS error averaged over states\n",
        "  \"\"\"\n",
        "  \n",
        "  td_alphas = [0.15, 0.1, 0.05]\n",
        "  mc_alphas = [0.01, 0.02, 0.03, 0.04]\n",
        "  episodes = 100 + 1\n",
        "  runs = 100\n",
        "  \n",
        "  for i, alpha in enumerate(td_alphas + mc_alphas):\n",
        "    total_errors = np.zeros(episodes)\n",
        "    \n",
        "    if i < len(td_alphas):\n",
        "      method = 'TD'\n",
        "      linestyle = 'solid'\n",
        "      \n",
        "    else:\n",
        "      method = 'MC'\n",
        "      linestyle = 'dashdot'\n",
        "      \n",
        "    for r in range(runs):\n",
        "      errors = []\n",
        "      current_values = np.copy(VALUES)\n",
        "      \n",
        "      for i in range(0, episodes):\n",
        "        errors.append(np.sqrt(np.sum(np.power(TRUE_VALUES - current_values, 2))/5))\n",
        "        \n",
        "        if method == 'TD':\n",
        "          _, _, current_values = temporal_difference(current_values, alpha=alpha)\n",
        "        else:\n",
        "          _, _, current_values = monte_carlo(current_values, alpha=alpha)\n",
        "          \n",
        "      total_errors += np.asarray(errors)\n",
        "    \n",
        "    average_errors = total_errors / runs\n",
        "    \n",
        "    plt.plot(average_errors, linestyle=linestyle, label=\"%s, alpha=%.02f\" % (method, alpha))\n",
        "      \n",
        "  plt.xlabel(\"episodes\")\n",
        "  plt.ylabel(\"RMS\")\n",
        "  plt.legend()"
      ],
      "execution_count": 0,
      "outputs": []
    },
    {
      "cell_type": "code",
      "metadata": {
        "id": "fG_Piq7TYUW0",
        "colab_type": "code",
        "outputId": "c5deb640-35ce-46c9-8c06-4f75c592ec5a",
        "colab": {
          "base_uri": "https://localhost:8080/",
          "height": 283
        }
      },
      "source": [
        "rms_error()"
      ],
      "execution_count": 0,
      "outputs": [
        {
          "output_type": "display_data",
          "data": {
            "image/png": "[encoded data removed]",
            "text/plain": [
              "<Figure size 432x288 with 1 Axes>"
            ]
          },
          "metadata": {
            "tags": []
          }
        }
      ]
    },
    {
      "cell_type": "markdown",
      "metadata": {
        "id": "44wKbx9iLSt5",
        "colab_type": "text"
      },
      "source": [
        "Since we update the estimated value function $V$ once the increments of all states are computed, and the available experience is processed again by using the new value function $V'$. This method is called *Batch update*, because updates are made only after processing each complete *batch* of data"
      ]
    },
    {
      "cell_type": "markdown",
      "metadata": {
        "id": "xNpcOE00aKng",
        "colab_type": "text"
      },
      "source": [
        "## Optimality of TD(0)\n",
        "\n",
        "Under batch updating, TD(0) converges dterministically to a single answer independent of the step-size parameter, $\\alpha$, as long as $\\alpha$ is chosen to be sufficiently small. The constant-$\\alpha$ method also converges deterministically under the same conditions but to a different answer.\n",
        "\n",
        "Below example shows the difference of convergence of TD methods and MC methods.\n",
        "\n",
        "The reference to batch updating is not regarding any new or undescribed reinforcement learning method, but just a subtle re-ordering of how the experience and updates interact. You can use batch updates where experience is in short supply (as opposed to computation time).\n",
        "\n",
        "Essentially you can just use the standard TD update mechanism, but instead of taking each piece of experience once as it is observed, you store and re-play the trajectories that you have seen so far (i.e. without selecting new actions). You can keep repeating them, almost like policy evaluation in Dynamic Programming (except only using your sampled trajectories), until the value estimates only change by a small amount - or maybe keep repeating for e.g. 10 seconds, until the next pieces of experience arrive.\n",
        "\n",
        "Obviously this approach has limitations. It can only evaluate actions that have been taken so far, it cannot explore further. It will probably suffer from sampling bias in the value estimates. However, it will represent in some ways the best estimates of state values seen so far, and provided the stochastic parts of the MDP or policy are not too wild, it may be a good choice where gaining experience is costly or time-consuming.\n",
        "\n",
        "#### Algorithm\n",
        "----\n",
        "```\n",
        "Initialise total errors\n",
        "        \n",
        "```\n",
        "----"
      ]
    },
    {
      "cell_type": "code",
      "metadata": {
        "id": "jlBKPW9jYZDL",
        "colab_type": "code",
        "colab": {}
      },
      "source": [
        "def batch_updating(method, episodes, alpha=1e-3):\n",
        "  \"\"\"\n",
        "  Implementation from \n",
        "  https://github.com/ShangtongZhang/reinforcement-learning-an-introduction/blob/master/chapter06/random_walk.py\n",
        "  \"\"\"\n",
        "  # Calculate the RMS error of TD method vs MC method\n",
        "\n",
        "  # Setup a sufficiently small alpha\n",
        "  episodes = 100 + 1\n",
        "  eps = 1e-3\n",
        "  runs = 100\n",
        "\n",
        "\n",
        "  # Initialise the variables\n",
        "\n",
        "\n",
        "  total_errors = np.zeros(episodes)\n",
        "\n",
        "  for r in range(runs):\n",
        "\n",
        "    current_values = np.copy(VALUES)\n",
        "    errors = []\n",
        "    trajectories = []\n",
        "    rewards = []\n",
        "\n",
        "    for ep in range(episodes):\n",
        "\n",
        "      if method == 'TD':\n",
        "        trajectory_, reward_, _ = temporal_difference(current_values, batch=True)\n",
        "      else:\n",
        "        trajectory_, reward_, _ = monte_carlo(current_values, batch=True)\n",
        "\n",
        "      # Save the experience\n",
        "      trajectories.append(trajectory_)\n",
        "      rewards.append(reward_)\n",
        "\n",
        "      while True:\n",
        "        # Keep looping until the state value funciton converges\n",
        "        updates = np.zeros(7)\n",
        "\n",
        "        for trajectory_, rewards_ in zip(trajectories, rewards):\n",
        "  #         print(trajectory_)\n",
        "#           print(\"trajectory ->\", trajectory_)\n",
        "#           print(\"rewards ->\", rewards_)\n",
        "          for i in range(len(trajectory_) - 1):\n",
        "            \n",
        "            if method == 'TD':\n",
        "              updates[trajectory_[i]] += (rewards_[i]\n",
        "                                          + current_values[trajectory_[i + 1]]\n",
        "                                          - current_values[trajectory_[i]])\n",
        "            else:\n",
        "              updates[trajectory_[i]] += rewards_ - current_values[trajectory_[i]]\n",
        "              \n",
        "  #       print(\"updates -> \", updates)\n",
        "\n",
        "        updates *= alpha\n",
        "\n",
        "        if np.sum(np.abs(updates)) < 1e-3:\n",
        "          break\n",
        "\n",
        "        # Only do batch updating when all states is updated\n",
        "        current_values += updates\n",
        "\n",
        "      # Calculate rms error\n",
        "      errors.append(np.sqrt(np.sum(np.power(current_values - TRUE_VALUES, 2)) / 5.0))\n",
        "\n",
        "  #   print(errors)\n",
        "\n",
        "    total_errors += np.asarray(errors)\n",
        "\n",
        "  total_errors /= runs\n",
        "  \n",
        "  return total_errors"
      ],
      "execution_count": 0,
      "outputs": []
    },
    {
      "cell_type": "code",
      "metadata": {
        "id": "yy8IcAAO0Qnt",
        "colab_type": "code",
        "colab": {}
      },
      "source": [
        "def figure_6_2():\n",
        "    episodes = 100 + 1\n",
        "    td_erros = batch_updating('TD', episodes)\n",
        "    mc_erros = batch_updating('MC', episodes)\n",
        "    \n",
        "#     print(td_erros)\n",
        "#     print(mc_erros)\n",
        "\n",
        "    plt.plot(td_erros, label='TD')\n",
        "    plt.plot(mc_erros, label='MC')\n",
        "    plt.xlabel('episodes')\n",
        "    plt.ylabel('RMS error')\n",
        "    plt.legend()"
      ],
      "execution_count": 0,
      "outputs": []
    },
    {
      "cell_type": "code",
      "metadata": {
        "id": "Ei75lpdyJauD",
        "colab_type": "code",
        "outputId": "08937548-b57e-425e-b15a-924544e66459",
        "colab": {
          "base_uri": "https://localhost:8080/",
          "height": 283
        }
      },
      "source": [
        "figure_6_2()"
      ],
      "execution_count": 0,
      "outputs": [
        {
          "output_type": "display_data",
          "data": {
            "image/png": "[encoded data removed]",
            "text/plain": [
              "<Figure size 432x288 with 1 Axes>"
            ]
          },
          "metadata": {
            "tags": []
          }
        }
      ]
    },
    {
      "cell_type": "markdown",
      "metadata": {
        "id": "LEGra3WEP53U",
        "colab_type": "text"
      },
      "source": [
        "It is observed that the TD method can achieve a consistently lower error values, which means it was able to perform better. The straightforward aswer is that the Monte Carlo method is optimal only in a limited way, and that TD is optimal in a way that is more relevant to predicting returns"
      ]
    },
    {
      "cell_type": "markdown",
      "metadata": {
        "id": "Fdgm1vzLWyRI",
        "colab_type": "text"
      },
      "source": [
        "#### Simple explanation of the difference - By a AB case\n",
        "\n",
        "TD and MC use different ways to find the optimal solution. \n",
        "\n",
        "Consider a MRP with only states A and B, and we have observed the following 8 episodes\n",
        "\n",
        "Episodes | -    \n",
        "---- | ----\n",
        "A, 0, B, 0 | B, 1\n",
        "B, 1 | B, 1\n",
        "B, 1 | B, 1\n",
        "B, 1 | B, 1\n",
        "\n",
        "What would be the estimated value $V(A)$ and $V(B)$?\n",
        "\n",
        "- It would be obvious that $V(B)$ would be $\\frac{3}{4}$, as 6 out of 8 episodes has a value of 1. \n",
        "- However, for state A, we could have different answers\n",
        "  - If we follow TD(0), The estimate of $V(A)$ depends on the Value of $V(B)$, which would gives $V(A) = \\frac{3}{4}$\n",
        "  - On the other hand, if we use MC methods, we have only seen A once and the return that followed it was 0. Thus, the estimate of $V(A) = 0$\n",
        "    - In fact, this also gives zero error on data, as we only have one reference point\n",
        "    \n",
        "**To summarise**\n",
        "\n",
        "- Batch Monte Carlo methods always find the estimates that minimise MSE on the training dataset, whereas batch TD(0) always finds the estimates that would be exactly correct for the *maximum-likelihood* model of the Markov process. \n",
        "- Batch TD(0), instead, uses emperical data to build a *maximum-likehood* model to estimate the transition probability from $i$ to $j$, that is the fraction of observed transitions from $i$ that went to $j$ from the data, and the associated expected reward is the average of the rewards observed on those transitions. \n",
        "- Given this model, we can compuate the estimate of the value function that would be exactly correct if the model were exactly correct. This is called *certainty-equivalence estimate*, because it is equivalent to assuming that the estimate of the underlying process was known with certainty rather than being approximated\n",
        "  - TD(0) converges to the certainty-equivalence estimate\n",
        "- TD exploits Markov property\n",
        "  - Usually more efficient in Markov environments\n",
        "- MC does not exploit Markov property\n",
        "  - Usually more effective in non-Markov environments"
      ]
    },
    {
      "cell_type": "code",
      "metadata": {
        "id": "00wnjTKLLkVA",
        "colab_type": "code",
        "colab": {}
      },
      "source": [
        ""
      ],
      "execution_count": 0,
      "outputs": []
    }
  ]
}